{
  "nbformat": 4,
  "nbformat_minor": 0,
  "metadata": {
    "colab": {
      "provenance": [],
      "mount_file_id": "1lkOHANi_A0f8FSEMpekKjFrML7s7FPDX",
      "authorship_tag": "ABX9TyOF1+BQ0Vw6JWRZktTs8FoH",
      "include_colab_link": true
    },
    "kernelspec": {
      "name": "python3",
      "display_name": "Python 3"
    },
    "language_info": {
      "name": "python"
    }
  },
  "cells": [
    {
      "cell_type": "markdown",
      "metadata": {
        "id": "view-in-github",
        "colab_type": "text"
      },
      "source": [
        "<a href=\"https://colab.research.google.com/github/lucken99/ConstitutionXpert/blob/main/ProjectCI_Aug26.ipynb\" target=\"_parent\"><img src=\"https://colab.research.google.com/assets/colab-badge.svg\" alt=\"Open In Colab\"/></a>"
      ]
    },
    {
      "cell_type": "code",
      "source": [
        "## Install all required libraries\n",
        "# !pip install langchain\n",
        "# !pip install pypdf\n",
        "\n",
        "# !pip install pdfminer.six\n",
        "# !pip install unstructured pdf2image  # for unstructured pdf loader (legacy)\n",
        "\n",
        "!pip install tiktoken"
      ],
      "metadata": {
        "id": "BgpefP-o6XBv"
      },
      "execution_count": null,
      "outputs": []
    },
    {
      "cell_type": "markdown",
      "source": [
        "# DATA"
      ],
      "metadata": {
        "id": "OjBrceNL1OZ9"
      }
    },
    {
      "cell_type": "markdown",
      "source": [
        "> We have text file which consists of paragraphs related to Indian Constitution for e.g., Articles, Schedules, etc.\n",
        "\n",
        ">"
      ],
      "metadata": {
        "id": "9Alt6gid1UoG"
      }
    },
    {
      "cell_type": "code",
      "source": [
        "# data path\n",
        "dir_path = \"/content/drive/MyDrive/Project_CILLM/db/\"\n",
        "text_file_path = \"/content/drive/MyDrive/Project_CILLM/db/file_context_corpus_cleaned_extended_part3.txt\"\n",
        "text_file_path = \"/content/drive/MyDrive/Project_CILLM/colab_project/Constitution-Xpert using OpenAI Embeddings (1)/file_context_corpus_cleaned_extended_part3.txt\"\n",
        "pdf_file_path = \"/content/drive/MyDrive/Project_CILLM/db/file_context_corpus_cleaned_extended_part3.pdf\"\n"
      ],
      "metadata": {
        "id": "5TlhFoKt5D3V"
      },
      "execution_count": 50,
      "outputs": []
    },
    {
      "cell_type": "markdown",
      "source": [
        "# RETRIEVAL\n"
      ],
      "metadata": {
        "id": "lJrYlQmfbc3o"
      }
    },
    {
      "cell_type": "markdown",
      "source": [
        "## [Document loaders](https://python.langchain.com/docs/modules/data_connection/document_loaders/)"
      ],
      "metadata": {
        "id": "pmjql4Pn6E4T"
      }
    },
    {
      "cell_type": "code",
      "source": [
        "# Text Loaders\n",
        "from langchain.document_loaders import TextLoader\n",
        "\n",
        "# PDF Loaders (try which suits us best)\n",
        "from langchain.document_loaders import PyPDFLoader\n",
        "from langchain.document_loaders import PyPDFDirectoryLoader\n",
        "# from langchain.document_loaders import MathpixPDFLoader\n",
        "from langchain.document_loaders import UnstructuredPDFLoader\n",
        "from langchain.document_loaders import PDFMinerPDFasHTMLLoader\n",
        "from langchain.document_loaders import AmazonTextractPDFLoader\n",
        "from langchain.document_loaders import OnlinePDFLoader\n",
        "\n",
        "loader_text = TextLoader(text_file_path)\n",
        "loader_pdf = PyPDFLoader(pdf_file_path)"
      ],
      "metadata": {
        "id": "wZdrSHYF6LPX"
      },
      "execution_count": 51,
      "outputs": []
    },
    {
      "cell_type": "code",
      "source": [
        "## utility function for document loaders information\n",
        "\n",
        "def loaded_doc_info(loader, show_loaded_data=False):\n",
        "    data = loader.load()\n",
        "    print(\"Type of the loader:\", type(loader))\n",
        "    print(\"Length of the data:\", len(data))\n",
        "    if show_loaded_data:\n",
        "        print(data)\n",
        "    return data\n",
        "\n",
        "\n"
      ],
      "metadata": {
        "id": "xyATwh2GB2tY"
      },
      "execution_count": 3,
      "outputs": []
    },
    {
      "cell_type": "code",
      "source": [
        "# loaded_doc_info(loader_text, show_loaded_data=True)\n",
        "text_data = loaded_doc_info(loader_text)"
      ],
      "metadata": {
        "colab": {
          "base_uri": "https://localhost:8080/"
        },
        "id": "3uU64OAz_3YW",
        "outputId": "0e9e4b5f-d6af-4694-c289-0e48f226530d"
      },
      "execution_count": 52,
      "outputs": [
        {
          "output_type": "stream",
          "name": "stdout",
          "text": [
            "Type of the loader: <class 'langchain.document_loaders.text.TextLoader'>\n",
            "Length of the data: 1\n"
          ]
        }
      ]
    },
    {
      "cell_type": "code",
      "source": [
        "pdf_data = loaded_doc_info(loader_pdf)"
      ],
      "metadata": {
        "colab": {
          "base_uri": "https://localhost:8080/"
        },
        "id": "EalxDyqJHV8h",
        "outputId": "190c9521-3eaf-4ebe-93fb-f7075add83aa"
      },
      "execution_count": 12,
      "outputs": [
        {
          "output_type": "stream",
          "name": "stdout",
          "text": [
            "Type of the loader: <class 'langchain.document_loaders.pdf.PyPDFLoader'>\n",
            "Length of the data: 178\n"
          ]
        }
      ]
    },
    {
      "cell_type": "code",
      "source": [
        "# # checking different pdf loader\n",
        "# loader = PDFMinerPDFasHTMLLoader(pdf_file_path)\n",
        "# data = loaded_doc_info(loader, True)"
      ],
      "metadata": {
        "id": "LvAi8Ws9AMHK"
      },
      "execution_count": 14,
      "outputs": []
    },
    {
      "cell_type": "markdown",
      "source": [
        "## [Document Transformers](https://python.langchain.com/docs/modules/data_connection/document_transformers/)"
      ],
      "metadata": {
        "id": "QnoPoGXYFIMP"
      }
    },
    {
      "cell_type": "code",
      "source": [
        "from langchain.text_splitter import CharacterTextSplitter\n",
        "from langchain.text_splitter import RecursiveCharacterTextSplitter\n",
        "from langchain.text_splitter import MarkdownHeaderTextSplitter  # we can split by parts in constitution using this splitter and add metadata for better search\n",
        "                                                                # first we have to add headers (for e.g., # or ##)\n",
        "\n",
        "# # Split by tokens\n",
        "# from langchain.text_splitter import TokenTextSplitter\n",
        "# from langchain.text_splitter import SpacyTextSplitter\n",
        "# from langchain.text_splitter import NLTKTextSplitter\n",
        "\n",
        "# !pip install tiktoken\n",
        "# good for OpenAI Models\n",
        "# text_splitter = CharacterTextSplitter.from_tiktoken_encoder(\n",
        "#     chunk_size=100, chunk_overlap=0\n",
        "# )\n",
        "\n",
        "# # Sentence Transformers token split\n",
        "# from langchain.text_splitter import SentenceTransformersTokenTextSplitter # for a particular sentence transformer\n",
        "\n",
        "# # Hugging face tokenizers\n",
        "# from transformers import GPT2TokenizerFast\n",
        "# tokenizer = GPT2TokenizerFast.from_pretrained(\"gpt2\")\n",
        "# text_splitter = CharacterTextSplitter.from_huggingface_tokenizer(\n",
        "#     tokenizer, chunk_size=100, chunk_overlap=0\n",
        "# )\n",
        "# texts = text_splitter.split_text(text)\n"
      ],
      "metadata": {
        "id": "Fmp1TBAPG6JD"
      },
      "execution_count": 17,
      "outputs": []
    },
    {
      "cell_type": "code",
      "source": [
        "def split_data(loader, splitter):\n",
        "    docs = loader.load_and_split(splitter)\n",
        "    print(\"Loader Type:\", type(loader))\n",
        "    print(\"Splitter Type:\", type(splitter))\n",
        "    print(\"Length of splitted data:\", len(docs))\n",
        "    return docs\n",
        "\n",
        "\n"
      ],
      "metadata": {
        "id": "zHGMmb19PywQ"
      },
      "execution_count": 45,
      "outputs": []
    },
    {
      "cell_type": "code",
      "source": [
        "# using openai's tiktoken for splitting data\n",
        "text_splitter = CharacterTextSplitter.from_tiktoken_encoder()\n",
        "docs_text = split_data(loader_text, text_splitter)\n",
        "docs_pdf = split_data(loader_pdf, text_splitter)"
      ],
      "metadata": {
        "colab": {
          "base_uri": "https://localhost:8080/"
        },
        "id": "pgKj3hfnEjOk",
        "outputId": "ea302d22-d288-4667-d8a8-78857bc8aa6e"
      },
      "execution_count": 53,
      "outputs": [
        {
          "output_type": "stream",
          "name": "stdout",
          "text": [
            "Loader Type: <class 'langchain.document_loaders.text.TextLoader'>\n",
            "Splitter Type: <class 'langchain.text_splitter.CharacterTextSplitter'>\n",
            "Length of splitted data: 31\n",
            "Loader Type: <class 'langchain.document_loaders.pdf.PyPDFLoader'>\n",
            "Splitter Type: <class 'langchain.text_splitter.CharacterTextSplitter'>\n",
            "Length of splitted data: 178\n"
          ]
        }
      ]
    },
    {
      "cell_type": "code",
      "source": [
        "# using RecursiveCharacterTextSplitter\n",
        "recur_splitter = RecursiveCharacterTextSplitter()\n",
        "docs_text = split_data(loader_text, recur_splitter)\n",
        "docs_pdf = split_data(loader_pdf, recur_splitter)"
      ],
      "metadata": {
        "colab": {
          "base_uri": "https://localhost:8080/"
        },
        "id": "r_dlvO-5RueP",
        "outputId": "e01468b2-4cc0-440c-b078-39405dd4e441"
      },
      "execution_count": 62,
      "outputs": [
        {
          "output_type": "stream",
          "name": "stdout",
          "text": [
            "Loader Type: <class 'langchain.document_loaders.text.TextLoader'>\n",
            "Splitter Type: <class 'langchain.text_splitter.RecursiveCharacterTextSplitter'>\n",
            "Length of splitted data: 156\n",
            "Loader Type: <class 'langchain.document_loaders.pdf.PyPDFLoader'>\n",
            "Splitter Type: <class 'langchain.text_splitter.RecursiveCharacterTextSplitter'>\n",
            "Length of splitted data: 178\n"
          ]
        }
      ]
    },
    {
      "cell_type": "code",
      "source": [
        "docs_pdf[0]"
      ],
      "metadata": {
        "id": "D1Gdxg-cR0Oi"
      },
      "execution_count": null,
      "outputs": []
    },
    {
      "cell_type": "code",
      "source": [
        "char_splitter = CharacterTextSplitter(\n",
        "    separator = \"\\n\\n\",\n",
        "    # chunk_size = 1000,\n",
        "    # chunk_overlap  = 200,\n",
        "    # length_function = len,\n",
        "    is_separator_regex = False,\n",
        ")\n",
        "\n",
        "# char_splitter = CharacterTextSplitter(chunk_size=2000, chunk_overlap=500)\n",
        "\n",
        "docs_text = split_data(loader_text, char_splitter)\n",
        "docs_pdf = split_data(loader_pdf, char_splitter)\n"
      ],
      "metadata": {
        "colab": {
          "base_uri": "https://localhost:8080/"
        },
        "id": "VROD2RVCT1q7",
        "outputId": "30cce827-0495-42be-9f85-5a0d526bfa05"
      },
      "execution_count": 60,
      "outputs": [
        {
          "output_type": "stream",
          "name": "stdout",
          "text": [
            "Loader Type: <class 'langchain.document_loaders.text.TextLoader'>\n",
            "Splitter Type: <class 'langchain.text_splitter.CharacterTextSplitter'>\n",
            "Length of splitted data: 156\n",
            "Loader Type: <class 'langchain.document_loaders.pdf.PyPDFLoader'>\n",
            "Splitter Type: <class 'langchain.text_splitter.CharacterTextSplitter'>\n",
            "Length of splitted data: 178\n"
          ]
        }
      ]
    },
    {
      "cell_type": "code",
      "source": [
        "docs_text[0]\n"
      ],
      "metadata": {
        "colab": {
          "base_uri": "https://localhost:8080/"
        },
        "id": "XmSCpOYeWafq",
        "outputId": "c79018a2-fe52-4906-ac28-dc96c1411eb3"
      },
      "execution_count": 61,
      "outputs": [
        {
          "output_type": "execute_result",
          "data": {
            "text/plain": [
              "Document(page_content=\"CONSTITUTION OF INDIA:\\n\\nThe Constitution of India is the supreme law of India. The document lays down the framework that demarcates fundamental political code, structure, procedures, powers, and duties of government institutions and sets out fundamental rights, directive principles, and the duties of citizens. It is the longest written national constitution in the world.\\n\\nThe Constitution of India imparts constitutional supremacy (not parliamentary supremacy, since it was created by a constituent assembly rather than Parliament) and was adopted by its people with a declaration in its preamble.Parliament cannot override the constitution.\\n\\nThe Constitution was adopted by the Constituent Assembly of India on 26 November 1949 and became effective on 26 January 1950. The constitution replaced the Government of India Act 1935 as the country's fundamental governing document, and the Dominion of India became the Republic of India. To ensure constitutional autochthony, its framers repealed prior acts of the British parliament in Article 395. India celebrates its constitution on 26 January as Republic Day.\\n\\nThe constitution declares India a sovereign, socialist, secular, and democratic republic, assures its citizens justice, equality, and liberty, and endeavours to promote fraternity. The original 1950 constitution is preserved in a nitrogen-filled case at the Parliament House in New Delhi.\\n\\nThe Constitution of India or the Constitution of the Republic of India came in effect on January 26, 1950 and is the longest written constitution of any independent nation in the world. It contains 22 Parts 395 articles and 12 schedules. It has a total of 117,369 words in its English language version.\\n\\nHistory of the Constitution of India:\\nAt the end of World War II in Europe on May 9, 1945, a new government came to power in the United Kingdom. This government announced to convene a constituent drafting body in India. A team of ministers, called the Cabinet Mission, were sent to India to find solution to the question of India's independence.\\nThe Cabinet Mission discussed the framework and the procedure to be followed the drafting body. With India's independence, the Constituent Assembly became a fully sovereign body and they began the working from 9 December 1947.\\nThe Assembly had members belonging to different communities, regions and even from different political persuasions of India. Dr. Rajendra Prasad was the elected president and B.R. Ambedkar, the chairman of the Drafting Committee.\\nOver a period of 2 years, 11 months and 18 days, before submitting the final copy of the Constitution, the Constituent Assembly met for 166 days and the sessions were always open to the press and the public.\\n\\nFeatures of the Constitution of India:\\nIt has been extensively drawn from Western legal traditions in enunciation of the principles of liberal democracy. The principles of the Constitution reflect aspirants to end the inequities of traditional social relations and to enhance the social welfare of the population. Since the enactment, the constitution has always fostered for a steady concentrate of power to the central government, especially to Prime Minister Office (PMO).\\n\\nFeatures of the Indian Constitution:\\nThe Indian constitution is unique in its content and spirit. The salient features ofthe constitution are as follows:\\nLengthiest written Constitution\\nBlend of Rigidity and Flexibility\\nFederal system with unitary features\\nParliamentary form of Government\\nIndependent judiciary\\nSingle citizenship\\nEmergency provision\\n\\nStructure of the Indian Constitution:\\nThe Indian Constitution originally consisted of 395 Art, 22 parts, 8 Schedules. But after the Constitution 104th Amendment Act, 2003, the Indian Constitution Consists of 448 Art, 25 parts, 12 Schedules.\", metadata={'source': '/content/drive/MyDrive/Project_CILLM/colab_project/Constitution-Xpert using OpenAI Embeddings (1)/file_context_corpus_cleaned_extended_part3.txt'})"
            ]
          },
          "metadata": {},
          "execution_count": 61
        }
      ]
    },
    {
      "cell_type": "code",
      "source": [
        "# docs_pdf[0].page_content"
      ],
      "metadata": {
        "id": "OvSaSxsDU-Ru"
      },
      "execution_count": null,
      "outputs": []
    },
    {
      "cell_type": "code",
      "source": [
        "# print(docs_pdf[0].page_content.rstrip('\\n'))"
      ],
      "metadata": {
        "id": "zilnW8L3UeZt"
      },
      "execution_count": null,
      "outputs": []
    },
    {
      "cell_type": "code",
      "source": [],
      "metadata": {
        "id": "ER6i0-85UqwL"
      },
      "execution_count": null,
      "outputs": []
    }
  ]
}