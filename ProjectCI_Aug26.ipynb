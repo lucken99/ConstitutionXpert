{
  "nbformat": 4,
  "nbformat_minor": 0,
  "metadata": {
    "colab": {
      "provenance": [],
      "gpuType": "T4",
      "mount_file_id": "1lkOHANi_A0f8FSEMpekKjFrML7s7FPDX",
      "authorship_tag": "ABX9TyOHUSCulmjpJF48p0+XeTFZ",
      "include_colab_link": true
    },
    "kernelspec": {
      "name": "python3",
      "display_name": "Python 3"
    },
    "language_info": {
      "name": "python"
    },
    "accelerator": "GPU"
  },
  "cells": [
    {
      "cell_type": "markdown",
      "metadata": {
        "id": "view-in-github",
        "colab_type": "text"
      },
      "source": [
        "<a href=\"https://colab.research.google.com/github/lucken99/ConstitutionXpert/blob/main/ProjectCI_Aug26.ipynb\" target=\"_parent\"><img src=\"https://colab.research.google.com/assets/colab-badge.svg\" alt=\"Open In Colab\"/></a>"
      ]
    },
    {
      "cell_type": "code",
      "source": [
        "## Install all required libraries\n",
        "!pip install langchain\n",
        "!pip install pypdf\n",
        "\n",
        "!pip install pdfminer.six\n",
        "# !pip install unstructured pdf2image  # for unstructured pdf loader (legacy)\n",
        "\n",
        "!pip install tiktoken\n",
        "!pip install sentence_transformers\n",
        "!pip install chromadb\n",
        "!pip install cohere\n",
        "!pip install openai"
      ],
      "metadata": {
        "id": "BgpefP-o6XBv"
      },
      "execution_count": null,
      "outputs": []
    },
    {
      "cell_type": "markdown",
      "source": [
        "# DATA"
      ],
      "metadata": {
        "id": "OjBrceNL1OZ9"
      }
    },
    {
      "cell_type": "markdown",
      "source": [
        "> We have text file which consists of paragraphs related to Indian Constitution for e.g., Articles, Schedules, etc.\n",
        "\n",
        ">"
      ],
      "metadata": {
        "id": "9Alt6gid1UoG"
      }
    },
    {
      "cell_type": "code",
      "source": [
        "# data path\n",
        "dir_path = \"/content/drive/MyDrive/Project_CILLM/db/\"\n",
        "text_file_path = \"/content/drive/MyDrive/Project_CILLM/db/file_context_corpus_cleaned_extended_part3.txt\"\n",
        "text_file_path = \"/content/drive/MyDrive/Project_CILLM/colab_project/Constitution-Xpert using OpenAI Embeddings (1)/file_context_corpus_cleaned_extended_part3.txt\"\n",
        "pdf_file_path = \"/content/drive/MyDrive/Project_CILLM/db/file_context_corpus_cleaned_extended_part3.pdf\"\n"
      ],
      "metadata": {
        "id": "5TlhFoKt5D3V"
      },
      "execution_count": 2,
      "outputs": []
    },
    {
      "cell_type": "code",
      "source": [
        "# utility function to load api keys from json file\n",
        "import json\n",
        "path_to_keys = \"/content/drive/MyDrive/Project_CILLM/Keys/keys.json\"\n",
        "def return_api_key(name):\n",
        "    with open(path_to_keys, 'r') as f:\n",
        "        json_data = json.load(f)\n",
        "        return json_data[name]"
      ],
      "metadata": {
        "id": "E4NvkzreAul5"
      },
      "execution_count": 3,
      "outputs": []
    },
    {
      "cell_type": "markdown",
      "source": [
        "# RETRIEVAL\n"
      ],
      "metadata": {
        "id": "lJrYlQmfbc3o"
      }
    },
    {
      "cell_type": "markdown",
      "source": [
        "## [Document loaders](https://python.langchain.com/docs/modules/data_connection/document_loaders/)"
      ],
      "metadata": {
        "id": "pmjql4Pn6E4T"
      }
    },
    {
      "cell_type": "code",
      "source": [
        "# Text Loaders\n",
        "from langchain.document_loaders import TextLoader\n",
        "\n",
        "# PDF Loaders (try which suits us best)\n",
        "from langchain.document_loaders import PyPDFLoader\n",
        "from langchain.document_loaders import PyPDFDirectoryLoader\n",
        "# from langchain.document_loaders import MathpixPDFLoader\n",
        "from langchain.document_loaders import UnstructuredPDFLoader\n",
        "from langchain.document_loaders import PDFMinerPDFasHTMLLoader\n",
        "from langchain.document_loaders import AmazonTextractPDFLoader\n",
        "from langchain.document_loaders import OnlinePDFLoader\n",
        "\n",
        "loader_text = TextLoader(text_file_path)\n",
        "loader_pdf = PyPDFLoader(pdf_file_path)"
      ],
      "metadata": {
        "id": "wZdrSHYF6LPX"
      },
      "execution_count": 4,
      "outputs": []
    },
    {
      "cell_type": "code",
      "source": [
        "## utility function for document loaders information\n",
        "\n",
        "def loaded_doc_info(loader, show_loaded_data=False):\n",
        "    data = loader.load()\n",
        "    print(\"Type of the loader:\", type(loader))\n",
        "    print(\"Length of the data:\", len(data))\n",
        "    if show_loaded_data:\n",
        "        print(data)\n",
        "    return data\n",
        "\n",
        "\n"
      ],
      "metadata": {
        "id": "xyATwh2GB2tY"
      },
      "execution_count": 5,
      "outputs": []
    },
    {
      "cell_type": "code",
      "source": [
        "# loaded_doc_info(loader_text, show_loaded_data=True)\n",
        "text_data = loaded_doc_info(loader_text)"
      ],
      "metadata": {
        "colab": {
          "base_uri": "https://localhost:8080/"
        },
        "id": "3uU64OAz_3YW",
        "outputId": "6f7f2ddd-d35c-459e-fa1d-3f6a54a2ed5b"
      },
      "execution_count": 6,
      "outputs": [
        {
          "output_type": "stream",
          "name": "stdout",
          "text": [
            "Type of the loader: <class 'langchain.document_loaders.text.TextLoader'>\n",
            "Length of the data: 1\n"
          ]
        }
      ]
    },
    {
      "cell_type": "code",
      "source": [
        "pdf_data = loaded_doc_info(loader_pdf)"
      ],
      "metadata": {
        "colab": {
          "base_uri": "https://localhost:8080/"
        },
        "id": "EalxDyqJHV8h",
        "outputId": "f53745a6-906c-47ca-e5cd-f6e652690e2a"
      },
      "execution_count": 7,
      "outputs": [
        {
          "output_type": "stream",
          "name": "stdout",
          "text": [
            "Type of the loader: <class 'langchain.document_loaders.pdf.PyPDFLoader'>\n",
            "Length of the data: 178\n"
          ]
        }
      ]
    },
    {
      "cell_type": "code",
      "source": [
        "# # checking different pdf loader\n",
        "# loader = PDFMinerPDFasHTMLLoader(pdf_file_path)\n",
        "# data = loaded_doc_info(loader, True)"
      ],
      "metadata": {
        "id": "LvAi8Ws9AMHK"
      },
      "execution_count": null,
      "outputs": []
    },
    {
      "cell_type": "markdown",
      "source": [
        "## [Document Transformers](https://python.langchain.com/docs/modules/data_connection/document_transformers/)"
      ],
      "metadata": {
        "id": "QnoPoGXYFIMP"
      }
    },
    {
      "cell_type": "code",
      "source": [
        "from langchain.text_splitter import CharacterTextSplitter\n",
        "from langchain.text_splitter import RecursiveCharacterTextSplitter\n",
        "from langchain.text_splitter import MarkdownHeaderTextSplitter  # we can split by parts in constitution using this splitter and add metadata for better search\n",
        "                                                                # first we have to add headers (for e.g., # or ##)\n",
        "\n",
        "# # Split by tokens\n",
        "# from langchain.text_splitter import TokenTextSplitter\n",
        "# from langchain.text_splitter import SpacyTextSplitter\n",
        "# from langchain.text_splitter import NLTKTextSplitter\n",
        "\n",
        "# !pip install tiktoken\n",
        "# good for OpenAI Models\n",
        "# text_splitter = CharacterTextSplitter.from_tiktoken_encoder(\n",
        "#     chunk_size=100, chunk_overlap=0\n",
        "# )\n",
        "\n",
        "# # Sentence Transformers token split\n",
        "# from langchain.text_splitter import SentenceTransformersTokenTextSplitter # for a particular sentence transformer\n",
        "\n",
        "# # Hugging face tokenizers\n",
        "# from transformers import GPT2TokenizerFast\n",
        "# tokenizer = GPT2TokenizerFast.from_pretrained(\"gpt2\")\n",
        "# text_splitter = CharacterTextSplitter.from_huggingface_tokenizer(\n",
        "#     tokenizer, chunk_size=100, chunk_overlap=0\n",
        "# )\n",
        "# texts = text_splitter.split_text(text)\n"
      ],
      "metadata": {
        "id": "Fmp1TBAPG6JD"
      },
      "execution_count": 8,
      "outputs": []
    },
    {
      "cell_type": "code",
      "source": [
        "def split_data(loader, splitter):\n",
        "    docs = loader.load_and_split(splitter)\n",
        "    print(\"Loader Type:\", type(loader))\n",
        "    print(\"Splitter Type:\", type(splitter))\n",
        "    print(\"Length of splitted data:\", len(docs))\n",
        "    return docs\n",
        "\n",
        "\n"
      ],
      "metadata": {
        "id": "zHGMmb19PywQ"
      },
      "execution_count": 9,
      "outputs": []
    },
    {
      "cell_type": "code",
      "source": [
        "# using openai's tiktoken for splitting data\n",
        "text_splitter = CharacterTextSplitter.from_tiktoken_encoder()\n",
        "docs_text = split_data(loader_text, text_splitter)\n",
        "docs_pdf = split_data(loader_pdf, text_splitter)"
      ],
      "metadata": {
        "colab": {
          "base_uri": "https://localhost:8080/"
        },
        "id": "pgKj3hfnEjOk",
        "outputId": "0b723283-97b8-4454-b0eb-44c69db1e3f3"
      },
      "execution_count": 10,
      "outputs": [
        {
          "output_type": "stream",
          "name": "stdout",
          "text": [
            "Loader Type: <class 'langchain.document_loaders.text.TextLoader'>\n",
            "Splitter Type: <class 'langchain.text_splitter.CharacterTextSplitter'>\n",
            "Length of splitted data: 31\n",
            "Loader Type: <class 'langchain.document_loaders.pdf.PyPDFLoader'>\n",
            "Splitter Type: <class 'langchain.text_splitter.CharacterTextSplitter'>\n",
            "Length of splitted data: 178\n"
          ]
        }
      ]
    },
    {
      "cell_type": "code",
      "source": [
        "# using RecursiveCharacterTextSplitter\n",
        "recur_splitter = RecursiveCharacterTextSplitter()\n",
        "docs_text = split_data(loader_text, recur_splitter)\n",
        "docs_pdf = split_data(loader_pdf, recur_splitter)"
      ],
      "metadata": {
        "colab": {
          "base_uri": "https://localhost:8080/"
        },
        "id": "r_dlvO-5RueP",
        "outputId": "e86d7c11-340c-4d35-e159-1cb8ba8b33c2"
      },
      "execution_count": 11,
      "outputs": [
        {
          "output_type": "stream",
          "name": "stdout",
          "text": [
            "Loader Type: <class 'langchain.document_loaders.text.TextLoader'>\n",
            "Splitter Type: <class 'langchain.text_splitter.RecursiveCharacterTextSplitter'>\n",
            "Length of splitted data: 156\n",
            "Loader Type: <class 'langchain.document_loaders.pdf.PyPDFLoader'>\n",
            "Splitter Type: <class 'langchain.text_splitter.RecursiveCharacterTextSplitter'>\n",
            "Length of splitted data: 178\n"
          ]
        }
      ]
    },
    {
      "cell_type": "code",
      "source": [
        "docs_pdf[0]"
      ],
      "metadata": {
        "id": "D1Gdxg-cR0Oi"
      },
      "execution_count": null,
      "outputs": []
    },
    {
      "cell_type": "code",
      "source": [
        "char_splitter = CharacterTextSplitter(\n",
        "    separator = \"\\n\\n\",\n",
        "    # chunk_size = 1000,\n",
        "    # chunk_overlap  = 200,\n",
        "    # length_function = len,\n",
        "    is_separator_regex = False,\n",
        ")\n",
        "\n",
        "# char_splitter = CharacterTextSplitter(chunk_size=2000, chunk_overlap=500)\n",
        "\n",
        "docs_text = split_data(loader_text, char_splitter)\n",
        "docs_pdf = split_data(loader_pdf, char_splitter)\n"
      ],
      "metadata": {
        "colab": {
          "base_uri": "https://localhost:8080/"
        },
        "id": "VROD2RVCT1q7",
        "outputId": "e2571962-aa74-483f-c2c2-5632c89e8c3e"
      },
      "execution_count": 12,
      "outputs": [
        {
          "output_type": "stream",
          "name": "stdout",
          "text": [
            "Loader Type: <class 'langchain.document_loaders.text.TextLoader'>\n",
            "Splitter Type: <class 'langchain.text_splitter.CharacterTextSplitter'>\n",
            "Length of splitted data: 156\n",
            "Loader Type: <class 'langchain.document_loaders.pdf.PyPDFLoader'>\n",
            "Splitter Type: <class 'langchain.text_splitter.CharacterTextSplitter'>\n",
            "Length of splitted data: 178\n"
          ]
        }
      ]
    },
    {
      "cell_type": "code",
      "source": [
        "docs = [doc.page_content for doc in docs_text]"
      ],
      "metadata": {
        "id": "HBWNbzN4sD49"
      },
      "execution_count": 13,
      "outputs": []
    },
    {
      "cell_type": "code",
      "source": [
        "\n"
      ],
      "metadata": {
        "id": "XmSCpOYeWafq"
      },
      "execution_count": null,
      "outputs": []
    },
    {
      "cell_type": "code",
      "source": [
        "# docs_pdf[0].page_content"
      ],
      "metadata": {
        "id": "OvSaSxsDU-Ru"
      },
      "execution_count": null,
      "outputs": []
    },
    {
      "cell_type": "code",
      "source": [
        "# print(docs_pdf[0].page_content.rstrip('\\n'))"
      ],
      "metadata": {
        "id": "zilnW8L3UeZt"
      },
      "execution_count": null,
      "outputs": []
    },
    {
      "cell_type": "markdown",
      "source": [
        "## Text Embedding models and chromadb Vectorstore\n",
        "[MTEB blog](https://huggingface.co/blog/mteb) <br>\n",
        "[MTEB](https://huggingface.co/spaces/mteb/leaderboard)"
      ],
      "metadata": {
        "id": "ER6i0-85UqwL"
      }
    },
    {
      "cell_type": "markdown",
      "source": [
        "### Chromadb VectorStore\n"
      ],
      "metadata": {
        "id": "1WT99JNfyAq3"
      }
    },
    {
      "cell_type": "code",
      "source": [
        "from langchain.vectorstores import Chroma\n"
      ],
      "metadata": {
        "id": "xRsZ-4_VyHfQ"
      },
      "execution_count": 14,
      "outputs": []
    },
    {
      "cell_type": "code",
      "source": [
        "# utility function for embeddings info\n",
        "\n",
        "def embeddings_info(embeddings):\n",
        "    print(\"Total Embeddings:\", len(embeddings))\n",
        "    print(\"Dimension:\", len(embeddings[0]))\n"
      ],
      "metadata": {
        "id": "VLKfVutytshL"
      },
      "execution_count": 15,
      "outputs": []
    },
    {
      "cell_type": "code",
      "source": [
        "### Problems with Chroma\n",
        "### https://python.langchain.com/docs/integrations/vectorstores/chroma#basic-example-including-saving-to-disk\n",
        "## Caching Embeddings using LocalFileStore\n",
        "# from langchain.storage import LocalFileStore\n",
        "# from langchain.embeddings import CacheBackedEmbeddings # Embeddings can be stored or temporarily cached to avoid needing to recompute them.\n",
        "# import os\n",
        "\n",
        "# utility function for creating embeddings using chromdb\n",
        "# def create_cached_embeddings(docs, embedding_model, model_name, fs):\n",
        "#     # print(list(fs.yield_keys()))\n",
        "#     # cached_embedder = CacheBackedEmbeddings.from_bytes_store(\n",
        "#     #     embedding_model, fs, namespace=model_name\n",
        "#     # )\n",
        "#     ### Create the vectorstore\n",
        "#     # db = Chroma.from_documents(docs, cached_embedder)\n",
        "#     db = Chroma.from_documents(docs, embedding_model)\n",
        "#     return db\n",
        "\n",
        "# def create_embeddings(docs, embedding_model):\n",
        "#     return Chroma.from_documents(docs, embedding_model)\n",
        "\n",
        "\n",
        "# utility function for similarity search\n",
        "def return_similar_docs(db, query, k=4, show_docs=False):\n",
        "    docs = db.similarity_search_with_relevance_scores(query, k=k)\n",
        "    docs = sorted(docs, key=lambda x: -x[1])\n",
        "    if show_docs:\n",
        "        for doc in docs:\n",
        "            print(\"Text:\", doc[0].page_content)\n",
        "            print(\"Relevance Score:\", doc[1])\n",
        "            print(\"--\"*50)\n",
        "            print(\"--\"*50)\n",
        "    return docs\n",
        "\n"
      ],
      "metadata": {
        "id": "zMLnXd4x3KOz"
      },
      "execution_count": 16,
      "outputs": []
    },
    {
      "cell_type": "markdown",
      "source": [
        "### BGE Hugging face embeddings"
      ],
      "metadata": {
        "id": "HUNJ2TN-jhkH"
      }
    },
    {
      "cell_type": "code",
      "source": [
        "from langchain.embeddings import HuggingFaceBgeEmbeddings\n",
        "\n",
        "model_name = \"BAAI/bge-large-en\"\n",
        "model_kwargs = {'device': 'cpu'}\n",
        "encode_kwargs = {'normalize_embeddings': True}\n",
        "hf = HuggingFaceBgeEmbeddings(\n",
        "    model_name=model_name,\n",
        "    model_kwargs=model_kwargs,\n",
        "    encode_kwargs=encode_kwargs\n",
        ")"
      ],
      "metadata": {
        "id": "LOtmP_kUmaq6"
      },
      "execution_count": 19,
      "outputs": []
    },
    {
      "cell_type": "code",
      "source": [
        "# embeddings = hf.embed_documents(docs)\n",
        "# embeddings_info(embeddings)\n",
        "# sentence1 = \"Tell me about article 23\"\n",
        "# embedding1 = hf.embed_query(sentence1)\n",
        "# import numpy as np\n",
        "\n",
        "# dot_product = np.dot(embeddings, embedding1)\n",
        "# dot_product\n",
        "# np.argmax()"
      ],
      "metadata": {
        "id": "YUX28y8VpMN6"
      },
      "execution_count": null,
      "outputs": []
    },
    {
      "cell_type": "code",
      "source": [
        "hf_db = Chroma.from_documents(docs_text, hf, persist_directory=\"./chroma_db_hf\")"
      ],
      "metadata": {
        "id": "jzCQlsvX0FVi"
      },
      "execution_count": 20,
      "outputs": []
    },
    {
      "cell_type": "code",
      "source": [
        "### check similar documents\n",
        "query = \"What is writs in constitution?\"\n",
        "retrived_docs = return_similar_docs(hf_db, query, show_docs=True)"
      ],
      "metadata": {
        "id": "FahmaWQ0uOdA",
        "colab": {
          "base_uri": "https://localhost:8080/"
        },
        "outputId": "6c60f0d4-d744-4817-e3ec-02080a496524"
      },
      "execution_count": 21,
      "outputs": [
        {
          "output_type": "stream",
          "name": "stdout",
          "text": [
            "Text: CONSTITUTION OF INDIA:\n",
            "\n",
            "The Constitution of India is the supreme law of India. The document lays down the framework that demarcates fundamental political code, structure, procedures, powers, and duties of government institutions and sets out fundamental rights, directive principles, and the duties of citizens. It is the longest written national constitution in the world.\n",
            "\n",
            "The Constitution of India imparts constitutional supremacy (not parliamentary supremacy, since it was created by a constituent assembly rather than Parliament) and was adopted by its people with a declaration in its preamble.Parliament cannot override the constitution.\n",
            "\n",
            "The Constitution was adopted by the Constituent Assembly of India on 26 November 1949 and became effective on 26 January 1950. The constitution replaced the Government of India Act 1935 as the country's fundamental governing document, and the Dominion of India became the Republic of India. To ensure constitutional autochthony, its framers repealed prior acts of the British parliament in Article 395. India celebrates its constitution on 26 January as Republic Day.\n",
            "\n",
            "The constitution declares India a sovereign, socialist, secular, and democratic republic, assures its citizens justice, equality, and liberty, and endeavours to promote fraternity. The original 1950 constitution is preserved in a nitrogen-filled case at the Parliament House in New Delhi.\n",
            "\n",
            "The Constitution of India or the Constitution of the Republic of India came in effect on January 26, 1950 and is the longest written constitution of any independent nation in the world. It contains 22 Parts 395 articles and 12 schedules. It has a total of 117,369 words in its English language version.\n",
            "\n",
            "History of the Constitution of India:\n",
            "At the end of World War II in Europe on May 9, 1945, a new government came to power in the United Kingdom. This government announced to convene a constituent drafting body in India. A team of ministers, called the Cabinet Mission, were sent to India to find solution to the question of India's independence.\n",
            "The Cabinet Mission discussed the framework and the procedure to be followed the drafting body. With India's independence, the Constituent Assembly became a fully sovereign body and they began the working from 9 December 1947.\n",
            "The Assembly had members belonging to different communities, regions and even from different political persuasions of India. Dr. Rajendra Prasad was the elected president and B.R. Ambedkar, the chairman of the Drafting Committee.\n",
            "Over a period of 2 years, 11 months and 18 days, before submitting the final copy of the Constitution, the Constituent Assembly met for 166 days and the sessions were always open to the press and the public.\n",
            "\n",
            "Features of the Constitution of India:\n",
            "It has been extensively drawn from Western legal traditions in enunciation of the principles of liberal democracy. The principles of the Constitution reflect aspirants to end the inequities of traditional social relations and to enhance the social welfare of the population. Since the enactment, the constitution has always fostered for a steady concentrate of power to the central government, especially to Prime Minister Office (PMO).\n",
            "\n",
            "Features of the Indian Constitution:\n",
            "The Indian constitution is unique in its content and spirit. The salient features ofthe constitution are as follows:\n",
            "Lengthiest written Constitution\n",
            "Blend of Rigidity and Flexibility\n",
            "Federal system with unitary features\n",
            "Parliamentary form of Government\n",
            "Independent judiciary\n",
            "Single citizenship\n",
            "Emergency provision\n",
            "\n",
            "Structure of the Indian Constitution:\n",
            "The Indian Constitution originally consisted of 395 Art, 22 parts, 8 Schedules. But after the Constitution 104th Amendment Act, 2003, the Indian Constitution Consists of 448 Art, 25 parts, 12 Schedules.\n",
            "Relevance Score: 0.7208646465462599\n",
            "----------------------------------------------------------------------------------------------------\n",
            "----------------------------------------------------------------------------------------------------\n",
            "Text: Mandamus: It literally means ‘we command’. It is command issued by the court to a public official asking him to perform his official duties that he has failed or refused to perform. It can also be issued against any public body, a corporation, an inferior court, a tribunal or government for the same purpose. It cannot be issued in the following cases:\n",
            "1. Against a private individual or body\n",
            "2. To enforce departmental instruction\n",
            "3. When the duty is discretionary not mandatory\n",
            "4. Against the president or Governor.\n",
            "\n",
            "Prohibition:- Literally means ‘to forbid’. It is issued by higher court to a lower court or tribunal to prevent the latter from exceeding the jurisdiction. Thus unlike, mandamus that directs activity, the prohibition directs inactivity. It is not issued against Administrative authorities, Legislative authorities and Private individuals.\n",
            "\n",
            "Certiorari:- In the literal sense, it means ‘to be certified’ or ‘to be informed’. It is issued by higher court to a lower court or tribunal either to transfer a case pending with the latter to itself or squash the order of the latter in a case. It is issued on the grounds of Excess of jurisdiction, Lack of jurisdiction and Error of law. Thus, unlike prohibition, which is only preventive, certiorari is both preventive as well as curative. Certiorari can be issued against even the administrative authorities affecting the rights of individual as per the ruling of the supreme since 1991.\n",
            "\n",
            "Quo-Warranto:- In the literal sense, ‘it means by what authority or warrant’. It is issued by the court to enquire in to the legality of claim of a person to a public office.\n",
            "\n",
            "Directive Principles of State Policy (DPSP) in the Constitution:\n",
            "The Directive Principles of State Policy (DPSP) contained in Part IV of the Constitution set out aims and objective to be taken up by the States in the governance of the country. This\n",
            "feature of the Constitution is borrowed from the Constitution of Ireland. The idea of a welfare State established by our constitution can only be achieved if the States try to implement them with a high sense of moral duty. The main object in enacting the directive principles appears is to set standard of achievement before the legislature and the executive, the local and other authorities, by which their success or failure can be judge.\n",
            "Relevance Score: 0.7208035546893434\n",
            "----------------------------------------------------------------------------------------------------\n",
            "----------------------------------------------------------------------------------------------------\n",
            "Text: Article 138: Enacting formula for Bills other than Money Bills\n",
            "(1) A Bill pending in Parliament shall not lapse by reason of the prorogation of the Houses.\n",
            "(2) A Bill pending in the Council of States which has not been passed by the House of the People shall not lapse on a dissolution of the House of the People.\n",
            "(3) A Bill which is pending in the House of the People, or which having been passed by the House of the People is pending in the Council of States, shall, subject to the provisions of article 108 or, as the case may be, article 109, lapse on a dissolution of the House of the People.\n",
            "(4) A Bill which is pending in the Council of States and which has not been passed by the House of the People shall, subject to the provisions of article 108, lapse on a dissolution of the Council of States.\n",
            "\n",
            "Article 139: Conferment on the Supreme Court of powers to issue certain writs\n",
            "(1) Parliament may by law confer on the Supreme Court power to issue directions, orders or writs, including writs in the nature of habeas corpus, mandamus, prohibition, quo warranto and certiorari, whichever may be appropriate, for the enforcement of any of the rights conferred by Part III and for any other purpose.\n",
            "(2) The power conferred on a High Court by clauses (2) and (4) of article 226 shall not be in derogation of the power conferred on the Supreme Court by clause (1).\n",
            "\n",
            "Article 140: Auditor-General of India\n",
            "(1) There shall be an Auditor-General of India who shall be appointed by the President.\n",
            "(2) Every person appointed to be the Auditor-General of India shall, before he enters upon his office, make and subscribe before the President, or some person appointed in that behalf by him, an oath or affirmation according to the form set out for the purpose in the Third Schedule.\n",
            "(3) The salary and other conditions of service of the Auditor-General shall be such as may be determined by Parliament by law and, until they are so determined, shall be as specified in the Second Schedule: Provided that neither the salary of the Auditor-General nor his rights in respect of leave of absence, pension or age of retirement shall be varied to his disadvantage after his appointment.\n",
            "\n",
            "Article 141: Law declared by Supreme Court to be binding on all courts\n",
            "The law declared by the Supreme Court shall be binding on all courts within the territory of India.\n",
            "\n",
            "Article 142: Enforcement of decrees and orders of Supreme Court and orders as to discovery, etc.\n",
            "(1) The Supreme Court in the exercise of its jurisdiction may pass such decree or make such order as is necessary for doing complete justice in any cause or matter pending before it, and any decree so passed or order so made shall be enforceable throughout the territory of India in such manner as may be prescribed by or under any law made by Parliament and, until provision in that behalf is so made, in such manner as the President may by order prescribe.\n",
            "(2) Subject to the provisions of any law made in this behalf by Parliament, the Supreme Court shall, as respects the whole of the territory of India, have all and every power to make any order for the purpose of securing the attendance of any person, the discovery or production of any documents, or the investigation or punishment of any contempt of itself.\n",
            "Relevance Score: 0.71529961881573\n",
            "----------------------------------------------------------------------------------------------------\n",
            "----------------------------------------------------------------------------------------------------\n",
            "Text: Part XII – Finance, Property, Contracts and Suits:\n",
            "Part XII of the Indian Constitution deals with the financial, property, contractual and judicial aspects of the Union and the States. This part of the Constitution sets out the rules and procedures for the management of public finances, the ownership of property, the enforcement of contracts, and the resolution of disputes.\n",
            "\n",
            "Part XIII – Trade, Commerce and Intercourse within the territory of India:\n",
            "Part XIII of the Indian Constitution deals with the trade, commerce, and intercourse within the territory of India. This part of the Constitution sets out the principles for the free movement of goods, people, and services within India.\n",
            "\n",
            "Part XIV – Services Under the Union and the States:\n",
            "(1) The services under the Union and the States shall be regulated by the appropriate law made by Parliament or, as the case may be, the Legislature of the State.\n",
            "(2) In particular, and without prejudice to the generality of the foregoing power, such law may provide for—\n",
            "(a) the recruitment, and conditions of service of persons appointed, to public services and posts in connection with the affairs of the Union or of any State;\n",
            "\n",
            "Part XIVA – Tribunals:\n",
            "(1) Parliament may, by law, provide for the establishment of tribunals for the adjudication of disputes relating to matters specified in clause (2) with respect to which any law made by Parliament is competent to enact.\n",
            "(2) The provisions of this article shall apply to the following classes of tribunals, namely:\n",
            "(a) tribunals for the Union and a State or for two or more States;\n",
            "(b) tribunals for foreign exchange, customs and excise or industrial and labour disputes;\n",
            "(c) tribunals for taxes on income other than agricultural income;\n",
            "(d) tribunals for land reforms by way of acquisition by the State of any estate as defined in article 31A or of any rights therein or the extinguishment or modification of any such rights or for deciding disputes in respect of any matter arising from such acquisition or extinguishment or modification of rights;\n",
            "(e) tribunals to determine the validity, or otherwise, of decisions of the Central and State Governments or any local or other authority that are violative of the rights of citizens as envisaged in Part III of this Constitution;\n",
            "(f) tribunals for any matter referred to them by any law made by Parliament.\n",
            "\n",
            "Part XV – Elections:\n",
            "(1) The President, Vice-President, members of Parliament, the State Legislatures and the members of the Committee referred to in clause (1) of article 324 shall be elected by direct election.\n",
            "(2) Election to the House of the People and to the Legislative Assemblies of States shall be on the basis of adult suffrage; that is to say, every person who is a citizen of India and who is not less than eighteen years of age on such date as may be fixed in that behalf by or under any law made by the appropriate Legislature and is not otherwise disqualified under this Constitution or any law made by the appropriate Legislature on the ground of non-residence, unsoundness of mind, crime or corrupt or illegal practice, shall be entitled to be registered as a voter at any such election.\n",
            "(3) of the People Act, 1950 and the of the People Act, 1951 shall provide for the conduct of elections to the Houses of Parliament and to the Houses of the Legislature of each State, the qualifications of voters at such elections, the delimitation of constituencies for the purpose of elections, the preparation of electoral rolls, the manner of filling seats in the Council of States to be filled by representatives of Union territories, and matters connected therewith.\n",
            "\n",
            "Part XVI – Special provisions relating to certain classes:\n",
            "Part XVI of the Indian Constitution deals with special provisions relating to certain classes, including Scheduled Castes, Scheduled Tribes, and Anglo-Indians. This part of the Constitution sets out the special rights and privileges that are granted to these classes.\n",
            "Relevance Score: 0.7096341552285002\n",
            "----------------------------------------------------------------------------------------------------\n",
            "----------------------------------------------------------------------------------------------------\n"
          ]
        }
      ]
    },
    {
      "cell_type": "markdown",
      "source": [
        "### Cohere Embeddings"
      ],
      "metadata": {
        "id": "j7DDvAbVwDLc"
      }
    },
    {
      "cell_type": "code",
      "source": [
        "COHERE_API_KEY = return_api_key(\"COHERE_API_KEY\")"
      ],
      "metadata": {
        "id": "t9yI8u4TCWTl"
      },
      "execution_count": 22,
      "outputs": []
    },
    {
      "cell_type": "code",
      "source": [
        "from langchain.embeddings import CohereEmbeddings\n",
        "cohr = CohereEmbeddings(\n",
        "    model=\"embed-english-v2.0\",\n",
        "    cohere_api_key=COHERE_API_KEY\n",
        "    )\n"
      ],
      "metadata": {
        "id": "lXyxhF_CwT9Z"
      },
      "execution_count": 23,
      "outputs": []
    },
    {
      "cell_type": "code",
      "source": [
        "# db_cohr = create_embeddings(docs_text, cohr)\n",
        "cohr_db = Chroma.from_documents(docs_text, cohr, persist_directory=\"./chroma_db_cohr\")"
      ],
      "metadata": {
        "id": "B3D2GhCdwo6B"
      },
      "execution_count": 24,
      "outputs": []
    },
    {
      "cell_type": "code",
      "source": [
        "### check similar documents\n",
        "query = \"What is writs in constitution?\"\n",
        "retrived_docs = return_similar_docs(cohr_db, query, show_docs=True)"
      ],
      "metadata": {
        "id": "fqZWPr-zGWiT",
        "colab": {
          "base_uri": "https://localhost:8080/"
        },
        "outputId": "be5c2587-881f-4af2-9398-ceaba80b57d9"
      },
      "execution_count": 25,
      "outputs": [
        {
          "output_type": "stream",
          "name": "stdout",
          "text": [
            "Text: Article 241: High Courts' power to issue certain writs\n",
            "(1) The High Court shall have power, throughout the territories in relation to which it exercises jurisdiction, to issue to any person or authority, including in appropriate cases, any Government, directions, orders or writs, including writs in the nature of habeas corpus, mandamus, prohibition, quo warranto and certiorari, or any of them, for the enforcement of any of the rights conferred by Part III and for any other purpose.\n",
            "(2) The power conferred by clause (1) shall not be in derogation of the power conferred on the Supreme Court by Article 32.\n",
            "\n",
            "Article 242: Administration of tribal areas\n",
            "(1) The President may, with the consent of the Parliament, by order, direct that any area in the States of Assam, Meghalaya, Tripura and Mizoram shall be administered as a tribal area.\n",
            "(2) An order made under clause (1) may, from time to time, be modified or revoked by the President by a like order.\n",
            "(3) The administration of a tribal area under this article shall be carried on in accordance with the provisions of any law made by Parliament for the purpose.\n",
            "\n",
            "Article 243: Constitution of Panchayats\n",
            "(1) There shall be constituted in every State, Panchayats at the village, intermediate and district levels, to function as units of self-government.\n",
            "(2) The composition of Panchayats at each level shall be as provided in the Constitution of each State.\n",
            "(3) The powers and functions of Panchayats at each level shall be as provided in the Constitution of each State.\n",
            "(4) The State Legislature may, by law, make provisions with respect to—\n",
            "(a) the manner in which and the extent to which, powers and functions may be transferred to Panchayats at the district, intermediate and village levels under this article;\n",
            "(b) the number of seats to be reserved for women and the reservation of seats in Panchayats in favour of the Scheduled Castes and the Scheduled Tribes, in accordance with the provisions of the Constitution.\n",
            "\n",
            "Article 244: Creation of new States and alteration of areas, boundaries or names of existing States\n",
            "(1) Parliament may by law—\n",
            "(a) create a new State by separation of territory from any State or by uniting two or more States or parts of States or by uniting any territory to a State;\n",
            "(b) increase the area of any State;\n",
            "(c) diminish the area of any State;\n",
            "(d) alter the boundaries of any State;\n",
            "(e) alter the name of any State.\n",
            "\n",
            "Article 245: Power of Parliament to make laws\n",
            "\n",
            "Article 246: Legislative Powers of the Union\n",
            "(1) Subject to the provisions of this Constitution, Parliament may make laws for the whole or any part of the territory of India.\n",
            "(2) Parliament has exclusive power to make laws with respect to any of the matters enumerated in List I in the Seventh Schedule.\n",
            "(3) Parliament and, subject to the provisions of Article 249, the Legislatures of States have power to make laws with respect to any of the matters enumerated in List III in the Seventh Schedule.\n",
            "(4) The power of Parliament to make laws with respect to any matter enumerated in List II in the Seventh Schedule shall be subject to the provisions of Article 254.\n",
            "\n",
            "Article 247: Control over public moneys\n",
            "(1) All revenues received by the Government of India, except those assigned to the States by the Constitution, shall form one consolidated fund to be called the Consolidated Fund of India.\n",
            "(2) All expenditure incurred by the Government of India, except that relating to the States, shall be charged on the Consolidated Fund of India.\n",
            "(3) No moneys out of the Consolidated Fund of India shall be appropriated except in accordance with law passed by Parliament.\n",
            "\n",
            "Article 248: Power of Parliament to make laws with respect to any matter\n",
            "Relevance Score: -5993.037841887599\n",
            "----------------------------------------------------------------------------------------------------\n",
            "----------------------------------------------------------------------------------------------------\n",
            "Text: Government of India Act 1935:\n",
            "An all-India Federation was proposed which would consist of British India and the princely states. This never materialised though. Subjects were divided between the centre and the provinces. Centre was in charge of the Federal List, provinces in charge of the Provincial List and there was a Concurrent List which both catered to. Diarchy was abolished at the provincial level and introduced at the centre. More autonomy was accorded to the provinces and in 6 out of 11 provinces, the bicameral legislature was introduced. A federal court was established and the Indian Council abolished. Burma and Aden were severed off from India. This act provided for the establishment of the RBI. This Act continued until it was replaced by the new Indian Constitution.\n",
            "\n",
            "Indian Independence Act 1947:\n",
            "India was declared independent and sovereign. The Viceroy and the Governors were made constitutional (nominal) heads. Set up responsible governments at the centre and the provinces. Assigned both legislative and executive powers to the Constituent Assembly of India.\n",
            "\n",
            "Who is Father of Indian constitution?\n",
            "The father of the Indian Constitution is widely regarded as Dr. B.R. Ambedkar. On 29 August, he was appointed Chairman of the Constitution Drafting Committee, and was appointed by the Assembly to write India’s new Constitution.\n",
            "\n",
            "What is 104th amendment of Indian Constitution?\n",
            "The Constitution of India’s One Hundred and Fourth Amendment (104th Constitutional Amendment Act) extended by ten years the deadline for the cessation of reservation of seats in the Lok Sabha and state legislative assemblies for members of Scheduled Castes and Scheduled Tribes.\n",
            "\n",
            "Preamble of the Indian Constitution:\n",
            "The ‘Preamble’ of the Constitution of India is a brief introductory statement that sets out the guiding purpose and principles of the document, and it indicates the source from which the document which derives its authority, meaning, the people. It was adopted on 26 November 1949 by the Constituent Assembly of India and came into effect on 26th January 1950.\n",
            "\n",
            "Preamble of India – Objective Resolution:\n",
            "In 1946, Objective Resolution was moved by Jawaharlal Nehru, describing the constitutional structure. In 1947 (22nd January) it was adopted. It shaped the Constitution of India and its modified version is reflected in the Preamble of the Indian Constitution. The basic tenets that the objective resolution highlighted were:\n",
            "1. Constituent Assembly’s resolve to see India as independent, sovereign and republic\n",
            "2. To draw a Constitution for India\n",
            "3. To make all territories of the pre-independent India into united states of post-independent India\n",
            "4. To realize residual powers, autonomy on such states as the Constitution of India reflects\n",
            "5. To realize union with the power which will be different than those given to such states\n",
            "6. The people of India to play the source of power and authority of the sovereignty, and the independence\n",
            "7. To provide justice, social, economic and political equality of status of opportunity and, freedom of thought, expression, belief, faith, worship, vocation, association and action, subject to law and public morality before the law\n",
            "8. To provide adequate safeguards to the minorities, tribal and backward areas and other depressed and backward classes\n",
            "9. To maintain the integrity of the Indian republic’s territory and its territorial rights on land, sea, air according to the justice and law of the civilized nation\n",
            "10. To promote peace and welfare among the worldly nations.\n",
            "\n",
            "Is preamble a part of Indian Constitution?\n",
            "Yes, it is a part of the Indian constitution, also emphasized in Kesavananda Bharti Case.\n",
            " \n",
            "Who wrote the preamble of India?\n",
            "The preamble of India contains tenets highlighted in the Objective Resolution drafted by Jawaharlal Nehru in 1946\n",
            "\n",
            "How many preambles does the Indian Constitution have?\n",
            "Only 1 preamble along with 22 parts and 12 schedules and 448 articles, Indian Constitution today exists\n",
            "Relevance Score: -6008.502638955081\n",
            "----------------------------------------------------------------------------------------------------\n",
            "----------------------------------------------------------------------------------------------------\n",
            "Text: CONSTITUTION OF INDIA:\n",
            "\n",
            "The Constitution of India is the supreme law of India. The document lays down the framework that demarcates fundamental political code, structure, procedures, powers, and duties of government institutions and sets out fundamental rights, directive principles, and the duties of citizens. It is the longest written national constitution in the world.\n",
            "\n",
            "The Constitution of India imparts constitutional supremacy (not parliamentary supremacy, since it was created by a constituent assembly rather than Parliament) and was adopted by its people with a declaration in its preamble.Parliament cannot override the constitution.\n",
            "\n",
            "The Constitution was adopted by the Constituent Assembly of India on 26 November 1949 and became effective on 26 January 1950. The constitution replaced the Government of India Act 1935 as the country's fundamental governing document, and the Dominion of India became the Republic of India. To ensure constitutional autochthony, its framers repealed prior acts of the British parliament in Article 395. India celebrates its constitution on 26 January as Republic Day.\n",
            "\n",
            "The constitution declares India a sovereign, socialist, secular, and democratic republic, assures its citizens justice, equality, and liberty, and endeavours to promote fraternity. The original 1950 constitution is preserved in a nitrogen-filled case at the Parliament House in New Delhi.\n",
            "\n",
            "The Constitution of India or the Constitution of the Republic of India came in effect on January 26, 1950 and is the longest written constitution of any independent nation in the world. It contains 22 Parts 395 articles and 12 schedules. It has a total of 117,369 words in its English language version.\n",
            "\n",
            "History of the Constitution of India:\n",
            "At the end of World War II in Europe on May 9, 1945, a new government came to power in the United Kingdom. This government announced to convene a constituent drafting body in India. A team of ministers, called the Cabinet Mission, were sent to India to find solution to the question of India's independence.\n",
            "The Cabinet Mission discussed the framework and the procedure to be followed the drafting body. With India's independence, the Constituent Assembly became a fully sovereign body and they began the working from 9 December 1947.\n",
            "The Assembly had members belonging to different communities, regions and even from different political persuasions of India. Dr. Rajendra Prasad was the elected president and B.R. Ambedkar, the chairman of the Drafting Committee.\n",
            "Over a period of 2 years, 11 months and 18 days, before submitting the final copy of the Constitution, the Constituent Assembly met for 166 days and the sessions were always open to the press and the public.\n",
            "\n",
            "Features of the Constitution of India:\n",
            "It has been extensively drawn from Western legal traditions in enunciation of the principles of liberal democracy. The principles of the Constitution reflect aspirants to end the inequities of traditional social relations and to enhance the social welfare of the population. Since the enactment, the constitution has always fostered for a steady concentrate of power to the central government, especially to Prime Minister Office (PMO).\n",
            "\n",
            "Features of the Indian Constitution:\n",
            "The Indian constitution is unique in its content and spirit. The salient features ofthe constitution are as follows:\n",
            "Lengthiest written Constitution\n",
            "Blend of Rigidity and Flexibility\n",
            "Federal system with unitary features\n",
            "Parliamentary form of Government\n",
            "Independent judiciary\n",
            "Single citizenship\n",
            "Emergency provision\n",
            "\n",
            "Structure of the Indian Constitution:\n",
            "The Indian Constitution originally consisted of 395 Art, 22 parts, 8 Schedules. But after the Constitution 104th Amendment Act, 2003, the Indian Constitution Consists of 448 Art, 25 parts, 12 Schedules.\n",
            "Relevance Score: -6033.748962387242\n",
            "----------------------------------------------------------------------------------------------------\n",
            "----------------------------------------------------------------------------------------------------\n",
            "Text: What does it mean by the Constitution of India?: \n",
            "Constitution of India is essentially a set of frameworks that binds our nation together, invoking a sense of patriotism and unity that transcends social boundaries. The ideals embodied in the Indian Constitution are built entirely on a solid ethical framework designed to uplift the populace and propel Indian society ahead with a spirit of tolerance and respect for the nation’s diversity. \n",
            "Despite being a relatively young Constitution, it has undergone through some tremendous changes while demonstrating remarkable resilience to every challenge. Our Indian Constitution is a living testament that proves that the desires of heedless political avarice do not govern the populace; rather, it is the will and the words of the Constitution. \n",
            "As Dr B. R. Ambedkar aptly states, “The Constitution is not a mere lawyer’s document, it is a vehicle of life, and its spirit is always the spirit of the age!” \n",
            "\n",
            "Constituent Assembly of India:\n",
            "The idea of a constituent assembly was first proposed in 1934 by M.N. Roy. However, the actual constituent assembly was formed in 1946 on the basis of the cabinet mission plan.\n",
            "\n",
            "Background of the Constituent Assembly of India:\n",
            "In 1934, M N Roy first proposed the idea of a constituent assembly. The demand was taken up by the Congress Party in 1935 as an official demand. The British accepted this in the August Offer of 1940. Under the Cabinet Mission plan of 1946, elections were held for the formation of the constituent assembly. The members of this assembly were elected indirectly, i.e., by the members of the provincial assemblies by the method of a single transferable vote of proportional representation. The constituent assembly was formed for the purpose of writing a constitution for independent India\n",
            "\n",
            "Composition of Constituent Assembly:\n",
            "Initially, the number of members was 389. After partition, some of the members went to Pakistan and the number came down to 299. Out of this, 229 were from the British provinces and 70 were nominated from the princely states.\n",
            "Dr. Sachchidananda Sinha was the first temporary chairman of the Constituent Assembly. Later, Dr. Rajendra Prasad was elected as the President and its Vice President was Harendra Coomar Mookerjee. BN Rau was the constitutional advisor.\n",
            "\n",
            "When did the constituent assembly first meet?\n",
            "The assembly first met on 9 December 1946\n",
            "\n",
            "Was there any role of the Muslim League in the formation of the Constitution of India ?\n",
            "No, there was no role played by the Muslim League in the constituent assembly as it had boycotted this meeting citing their demand for partition\n",
            "\n",
            "What is ‘Objective Resolution’ concerned with the constituent assembly of India?\n",
            "Objective Resolution enshrined the aspirations and values of the constitution-makers. Under this, the people of India were guaranteed social, economic and political justice, equality and fundamental freedoms. This resolution was unanimously adopted on 22 January 1947 and the Preamble to the Constitution is based on it.\n",
            "\n",
            "When was Objective Resolution moved and by who?\n",
            "On 13 December 1946, Jawaharlal Nehru moved the ‘Objective Resolution’.\n",
            "\n",
            "When was National Flag of Union adopted?\n",
            "The National Flag of the Union was adopted on 22 July 1947\n",
            "\n",
            "For how many days, the constituent assembly assembled to frame the constitution?\n",
            "The time is taken by the assembly to frame the constitution: 2 years, 11 months and 17 days. Money spent in framing the constitution: Rs.64 lakhs\n",
            "\n",
            "When was Jana Gana Mana adopted as our national anthem? \n",
            "On 24 January 1950, ‘Jana Gana Mana’ was adopted as the national anthem\n",
            "\n",
            "How many articles our final constitution has? \n",
            "The final document had 22 parts, 395 articles and 8 schedules.\n",
            "\n",
            "What was the total number of sessions constituent assembly had?\n",
            "The assembly had met for 11 sessions\n",
            "\n",
            "When was the draft of the Indian Constitution published?\n",
            "The draft was published in January 1948 and the country’s people were asked for their feedback and inputs within 8 months\n",
            "Relevance Score: -6251.65478023758\n",
            "----------------------------------------------------------------------------------------------------\n",
            "----------------------------------------------------------------------------------------------------\n"
          ]
        },
        {
          "output_type": "stream",
          "name": "stderr",
          "text": [
            "/usr/local/lib/python3.10/dist-packages/langchain/vectorstores/base.py:254: UserWarning: Relevance scores must be between 0 and 1, got [(Document(page_content=\"Article 241: High Courts' power to issue certain writs\\n(1) The High Court shall have power, throughout the territories in relation to which it exercises jurisdiction, to issue to any person or authority, including in appropriate cases, any Government, directions, orders or writs, including writs in the nature of habeas corpus, mandamus, prohibition, quo warranto and certiorari, or any of them, for the enforcement of any of the rights conferred by Part III and for any other purpose.\\n(2) The power conferred by clause (1) shall not be in derogation of the power conferred on the Supreme Court by Article 32.\\n\\nArticle 242: Administration of tribal areas\\n(1) The President may, with the consent of the Parliament, by order, direct that any area in the States of Assam, Meghalaya, Tripura and Mizoram shall be administered as a tribal area.\\n(2) An order made under clause (1) may, from time to time, be modified or revoked by the President by a like order.\\n(3) The administration of a tribal area under this article shall be carried on in accordance with the provisions of any law made by Parliament for the purpose.\\n\\nArticle 243: Constitution of Panchayats\\n(1) There shall be constituted in every State, Panchayats at the village, intermediate and district levels, to function as units of self-government.\\n(2) The composition of Panchayats at each level shall be as provided in the Constitution of each State.\\n(3) The powers and functions of Panchayats at each level shall be as provided in the Constitution of each State.\\n(4) The State Legislature may, by law, make provisions with respect to—\\n(a) the manner in which and the extent to which, powers and functions may be transferred to Panchayats at the district, intermediate and village levels under this article;\\n(b) the number of seats to be reserved for women and the reservation of seats in Panchayats in favour of the Scheduled Castes and the Scheduled Tribes, in accordance with the provisions of the Constitution.\\n\\nArticle 244: Creation of new States and alteration of areas, boundaries or names of existing States\\n(1) Parliament may by law—\\n(a) create a new State by separation of territory from any State or by uniting two or more States or parts of States or by uniting any territory to a State;\\n(b) increase the area of any State;\\n(c) diminish the area of any State;\\n(d) alter the boundaries of any State;\\n(e) alter the name of any State.\\n\\nArticle 245: Power of Parliament to make laws\\n\\nArticle 246: Legislative Powers of the Union\\n(1) Subject to the provisions of this Constitution, Parliament may make laws for the whole or any part of the territory of India.\\n(2) Parliament has exclusive power to make laws with respect to any of the matters enumerated in List I in the Seventh Schedule.\\n(3) Parliament and, subject to the provisions of Article 249, the Legislatures of States have power to make laws with respect to any of the matters enumerated in List III in the Seventh Schedule.\\n(4) The power of Parliament to make laws with respect to any matter enumerated in List II in the Seventh Schedule shall be subject to the provisions of Article 254.\\n\\nArticle 247: Control over public moneys\\n(1) All revenues received by the Government of India, except those assigned to the States by the Constitution, shall form one consolidated fund to be called the Consolidated Fund of India.\\n(2) All expenditure incurred by the Government of India, except that relating to the States, shall be charged on the Consolidated Fund of India.\\n(3) No moneys out of the Consolidated Fund of India shall be appropriated except in accordance with law passed by Parliament.\\n\\nArticle 248: Power of Parliament to make laws with respect to any matter\", metadata={'source': '/content/drive/MyDrive/Project_CILLM/colab_project/Constitution-Xpert using OpenAI Embeddings (1)/file_context_corpus_cleaned_extended_part3.txt'}), -5993.037841887599), (Document(page_content='Government of India Act 1935:\\nAn all-India Federation was proposed which would consist of British India and the princely states. This never materialised though. Subjects were divided between the centre and the provinces. Centre was in charge of the Federal List, provinces in charge of the Provincial List and there was a Concurrent List which both catered to. Diarchy was abolished at the provincial level and introduced at the centre. More autonomy was accorded to the provinces and in 6 out of 11 provinces, the bicameral legislature was introduced. A federal court was established and the Indian Council abolished. Burma and Aden were severed off from India. This act provided for the establishment of the RBI. This Act continued until it was replaced by the new Indian Constitution.\\n\\nIndian Independence Act 1947:\\nIndia was declared independent and sovereign. The Viceroy and the Governors were made constitutional (nominal) heads. Set up responsible governments at the centre and the provinces. Assigned both legislative and executive powers to the Constituent Assembly of India.\\n\\nWho is Father of Indian constitution?\\nThe father of the Indian Constitution is widely regarded as Dr. B.R. Ambedkar. On 29 August, he was appointed Chairman of the Constitution Drafting Committee, and was appointed by the Assembly to write India’s new Constitution.\\n\\nWhat is 104th amendment of Indian Constitution?\\nThe Constitution of India’s One Hundred and Fourth Amendment (104th Constitutional Amendment Act) extended by ten years the deadline for the cessation of reservation of seats in the Lok Sabha and state legislative assemblies for members of Scheduled Castes and Scheduled Tribes.\\n\\nPreamble of the Indian Constitution:\\nThe ‘Preamble’ of the Constitution of India is a brief introductory statement that sets out the guiding purpose and principles of the document, and it indicates the source from which the document which derives its authority, meaning, the people. It was adopted on 26 November 1949 by the Constituent Assembly of India and came into effect on 26th January 1950.\\n\\nPreamble of India – Objective Resolution:\\nIn 1946, Objective Resolution was moved by Jawaharlal Nehru, describing the constitutional structure. In 1947 (22nd January) it was adopted. It shaped the Constitution of India and its modified version is reflected in the Preamble of the Indian Constitution. The basic tenets that the objective resolution highlighted were:\\n1. Constituent Assembly’s resolve to see India as independent, sovereign and republic\\n2. To draw a Constitution for India\\n3. To make all territories of the pre-independent India into united states of post-independent India\\n4. To realize residual powers, autonomy on such states as the Constitution of India reflects\\n5. To realize union with the power which will be different than those given to such states\\n6. The people of India to play the source of power and authority of the sovereignty, and the independence\\n7. To provide justice, social, economic and political equality of status of opportunity and, freedom of thought, expression, belief, faith, worship, vocation, association and action, subject to law and public morality before the law\\n8. To provide adequate safeguards to the minorities, tribal and backward areas and other depressed and backward classes\\n9. To maintain the integrity of the Indian republic’s territory and its territorial rights on land, sea, air according to the justice and law of the civilized nation\\n10. To promote peace and welfare among the worldly nations.\\n\\nIs preamble a part of Indian Constitution?\\nYes, it is a part of the Indian constitution, also emphasized in Kesavananda Bharti Case.\\n \\nWho wrote the preamble of India?\\nThe preamble of India contains tenets highlighted in the Objective Resolution drafted by Jawaharlal Nehru in 1946\\n\\nHow many preambles does the Indian Constitution have?\\nOnly 1 preamble along with 22 parts and 12 schedules and 448 articles, Indian Constitution today exists', metadata={'source': '/content/drive/MyDrive/Project_CILLM/colab_project/Constitution-Xpert using OpenAI Embeddings (1)/file_context_corpus_cleaned_extended_part3.txt'}), -6008.502638955081), (Document(page_content=\"CONSTITUTION OF INDIA:\\n\\nThe Constitution of India is the supreme law of India. The document lays down the framework that demarcates fundamental political code, structure, procedures, powers, and duties of government institutions and sets out fundamental rights, directive principles, and the duties of citizens. It is the longest written national constitution in the world.\\n\\nThe Constitution of India imparts constitutional supremacy (not parliamentary supremacy, since it was created by a constituent assembly rather than Parliament) and was adopted by its people with a declaration in its preamble.Parliament cannot override the constitution.\\n\\nThe Constitution was adopted by the Constituent Assembly of India on 26 November 1949 and became effective on 26 January 1950. The constitution replaced the Government of India Act 1935 as the country's fundamental governing document, and the Dominion of India became the Republic of India. To ensure constitutional autochthony, its framers repealed prior acts of the British parliament in Article 395. India celebrates its constitution on 26 January as Republic Day.\\n\\nThe constitution declares India a sovereign, socialist, secular, and democratic republic, assures its citizens justice, equality, and liberty, and endeavours to promote fraternity. The original 1950 constitution is preserved in a nitrogen-filled case at the Parliament House in New Delhi.\\n\\nThe Constitution of India or the Constitution of the Republic of India came in effect on January 26, 1950 and is the longest written constitution of any independent nation in the world. It contains 22 Parts 395 articles and 12 schedules. It has a total of 117,369 words in its English language version.\\n\\nHistory of the Constitution of India:\\nAt the end of World War II in Europe on May 9, 1945, a new government came to power in the United Kingdom. This government announced to convene a constituent drafting body in India. A team of ministers, called the Cabinet Mission, were sent to India to find solution to the question of India's independence.\\nThe Cabinet Mission discussed the framework and the procedure to be followed the drafting body. With India's independence, the Constituent Assembly became a fully sovereign body and they began the working from 9 December 1947.\\nThe Assembly had members belonging to different communities, regions and even from different political persuasions of India. Dr. Rajendra Prasad was the elected president and B.R. Ambedkar, the chairman of the Drafting Committee.\\nOver a period of 2 years, 11 months and 18 days, before submitting the final copy of the Constitution, the Constituent Assembly met for 166 days and the sessions were always open to the press and the public.\\n\\nFeatures of the Constitution of India:\\nIt has been extensively drawn from Western legal traditions in enunciation of the principles of liberal democracy. The principles of the Constitution reflect aspirants to end the inequities of traditional social relations and to enhance the social welfare of the population. Since the enactment, the constitution has always fostered for a steady concentrate of power to the central government, especially to Prime Minister Office (PMO).\\n\\nFeatures of the Indian Constitution:\\nThe Indian constitution is unique in its content and spirit. The salient features ofthe constitution are as follows:\\nLengthiest written Constitution\\nBlend of Rigidity and Flexibility\\nFederal system with unitary features\\nParliamentary form of Government\\nIndependent judiciary\\nSingle citizenship\\nEmergency provision\\n\\nStructure of the Indian Constitution:\\nThe Indian Constitution originally consisted of 395 Art, 22 parts, 8 Schedules. But after the Constitution 104th Amendment Act, 2003, the Indian Constitution Consists of 448 Art, 25 parts, 12 Schedules.\", metadata={'source': '/content/drive/MyDrive/Project_CILLM/colab_project/Constitution-Xpert using OpenAI Embeddings (1)/file_context_corpus_cleaned_extended_part3.txt'}), -6033.748962387242), (Document(page_content='What does it mean by the Constitution of India?: \\nConstitution of India is essentially a set of frameworks that binds our nation together, invoking a sense of patriotism and unity that transcends social boundaries. The ideals embodied in the Indian Constitution are built entirely on a solid ethical framework designed to uplift the populace and propel Indian society ahead with a spirit of tolerance and respect for the nation’s diversity. \\nDespite being a relatively young Constitution, it has undergone through some tremendous changes while demonstrating remarkable resilience to every challenge. Our Indian Constitution is a living testament that proves that the desires of heedless political avarice do not govern the populace; rather, it is the will and the words of the Constitution. \\nAs Dr B. R. Ambedkar aptly states, “The Constitution is not a mere lawyer’s document, it is a vehicle of life, and its spirit is always the spirit of the age!” \\n\\nConstituent Assembly of India:\\nThe idea of a constituent assembly was first proposed in 1934 by M.N. Roy. However, the actual constituent assembly was formed in 1946 on the basis of the cabinet mission plan.\\n\\nBackground of the Constituent Assembly of India:\\nIn 1934, M N Roy first proposed the idea of a constituent assembly. The demand was taken up by the Congress Party in 1935 as an official demand. The British accepted this in the August Offer of 1940. Under the Cabinet Mission plan of 1946, elections were held for the formation of the constituent assembly. The members of this assembly were elected indirectly, i.e., by the members of the provincial assemblies by the method of a single transferable vote of proportional representation. The constituent assembly was formed for the purpose of writing a constitution for independent India\\n\\nComposition of Constituent Assembly:\\nInitially, the number of members was 389. After partition, some of the members went to Pakistan and the number came down to 299. Out of this, 229 were from the British provinces and 70 were nominated from the princely states.\\nDr. Sachchidananda Sinha was the first temporary chairman of the Constituent Assembly. Later, Dr. Rajendra Prasad was elected as the President and its Vice President was Harendra Coomar Mookerjee. BN Rau was the constitutional advisor.\\n\\nWhen did the constituent assembly first meet?\\nThe assembly first met on 9 December 1946\\n\\nWas there any role of the Muslim League in the formation of the Constitution of India ?\\nNo, there was no role played by the Muslim League in the constituent assembly as it had boycotted this meeting citing their demand for partition\\n\\nWhat is ‘Objective Resolution’ concerned with the constituent assembly of India?\\nObjective Resolution enshrined the aspirations and values of the constitution-makers. Under this, the people of India were guaranteed social, economic and political justice, equality and fundamental freedoms. This resolution was unanimously adopted on 22 January 1947 and the Preamble to the Constitution is based on it.\\n\\nWhen was Objective Resolution moved and by who?\\nOn 13 December 1946, Jawaharlal Nehru moved the ‘Objective Resolution’.\\n\\nWhen was National Flag of Union adopted?\\nThe National Flag of the Union was adopted on 22 July 1947\\n\\nFor how many days, the constituent assembly assembled to frame the constitution?\\nThe time is taken by the assembly to frame the constitution: 2 years, 11 months and 17 days. Money spent in framing the constitution: Rs.64 lakhs\\n\\nWhen was Jana Gana Mana adopted as our national anthem? \\nOn 24 January 1950, ‘Jana Gana Mana’ was adopted as the national anthem\\n\\nHow many articles our final constitution has? \\nThe final document had 22 parts, 395 articles and 8 schedules.\\n\\nWhat was the total number of sessions constituent assembly had?\\nThe assembly had met for 11 sessions\\n\\nWhen was the draft of the Indian Constitution published?\\nThe draft was published in January 1948 and the country’s people were asked for their feedback and inputs within 8 months', metadata={'source': '/content/drive/MyDrive/Project_CILLM/colab_project/Constitution-Xpert using OpenAI Embeddings (1)/file_context_corpus_cleaned_extended_part3.txt'}), -6251.65478023758)]\n",
            "  warnings.warn(\n"
          ]
        }
      ]
    },
    {
      "cell_type": "markdown",
      "source": [
        "### OpenAI Embeddings"
      ],
      "metadata": {
        "id": "-1eyV80gn9sR"
      }
    },
    {
      "cell_type": "code",
      "source": [
        "OPENAI_API_KEY = return_api_key(\"OPENAI_API_KEY\")\n",
        "# OPENAI_API_KEY"
      ],
      "metadata": {
        "id": "WdW32-0prwtg"
      },
      "execution_count": null,
      "outputs": []
    },
    {
      "cell_type": "code",
      "source": [
        "from langchain.embeddings import OpenAIEmbeddings\n",
        "\n",
        "openai = OpenAIEmbeddings(openai_api_key=OPENAI_API_KEY)\n"
      ],
      "metadata": {
        "id": "A3HPSd4vr360"
      },
      "execution_count": null,
      "outputs": []
    },
    {
      "cell_type": "markdown",
      "source": [
        "#### We can also use [VectorstoreIndexCreator](https://python.langchain.com/docs/modules/data_connection/retrievers/#one-line-index-creation)\n",
        "for creating vectorstore quickly with one liner code."
      ],
      "metadata": {
        "id": "8XznW6gTElyA"
      }
    },
    {
      "cell_type": "code",
      "source": [
        "from langchain.indexes import VectorstoreIndexCreator\n",
        "\n",
        "index_creator = VectorstoreIndexCreator(\n",
        "    vectorstore_cls=Chroma,\n",
        "    embedding=CohereEmbeddings(cohere_api_key=COHERE_API_KEY),\n",
        "    text_splitter=CharacterTextSplitter(separator='\\n\\n'),\n",
        ")\n",
        "\n",
        "index = index_creator.from_loaders([loader_text])\n",
        "\n",
        "# querying\n",
        "query = \"what is article 4?\"\n",
        "# index.query(query) # give your llm\n",
        "# index.query_with_sources(query) # give your llm\n",
        "\n",
        "# check Vectorstore\n",
        "index.vectorstore\n",
        "\n",
        "# can use as a retriever\n",
        "index.vectorstore.as_retriever()"
      ],
      "metadata": {
        "colab": {
          "base_uri": "https://localhost:8080/"
        },
        "id": "dcsbPVtvE4Ht",
        "outputId": "11844c68-a559-4738-9f7b-b1463891b7fa"
      },
      "execution_count": 30,
      "outputs": [
        {
          "output_type": "execute_result",
          "data": {
            "text/plain": [
              "VectorStoreRetriever(tags=['Chroma', 'CohereEmbeddings'], metadata=None, vectorstore=<langchain.vectorstores.chroma.Chroma object at 0x7a003b083ac0>, search_type='similarity', search_kwargs={})"
            ]
          },
          "metadata": {},
          "execution_count": 30
        }
      ]
    },
    {
      "cell_type": "markdown",
      "source": [
        "## [Retrievers](https://python.langchain.com/docs/modules/data_connection/retrievers/)"
      ],
      "metadata": {
        "id": "d6AzTQMZsNpt"
      }
    },
    {
      "cell_type": "markdown",
      "source": [
        "### MultiQueryRetriever"
      ],
      "metadata": {
        "id": "V3KSRJGzsfPh"
      }
    },
    {
      "cell_type": "code",
      "source": [],
      "metadata": {
        "id": "v4oJcuzLC82h"
      },
      "execution_count": null,
      "outputs": []
    }
  ]
}