{
  "nbformat": 4,
  "nbformat_minor": 0,
  "metadata": {
    "colab": {
      "provenance": [],
      "gpuType": "T4",
      "mount_file_id": "1lkOHANi_A0f8FSEMpekKjFrML7s7FPDX",
      "authorship_tag": "ABX9TyN8ALja34LIjxgPOHKtYGA3",
      "include_colab_link": true
    },
    "kernelspec": {
      "name": "python3",
      "display_name": "Python 3"
    },
    "language_info": {
      "name": "python"
    },
    "accelerator": "GPU"
  },
  "cells": [
    {
      "cell_type": "markdown",
      "metadata": {
        "id": "view-in-github",
        "colab_type": "text"
      },
      "source": [
        "<a href=\"https://colab.research.google.com/github/lucken99/ConstitutionXpert/blob/main/ProjectCI_Aug26.ipynb\" target=\"_parent\"><img src=\"https://colab.research.google.com/assets/colab-badge.svg\" alt=\"Open In Colab\"/></a>"
      ]
    },
    {
      "cell_type": "code",
      "source": [
        "# ## Install all required libraries\n",
        "# !pip install langchain\n",
        "# !pip install pypdf\n",
        "\n",
        "# !pip install pdfminer.six\n",
        "# # !pip install unstructured pdf2image  # for unstructured pdf loader (legacy)\n",
        "\n",
        "# !pip install tiktoken\n",
        "# !pip install sentence_transformers\n",
        "# !pip install chromadb\n",
        "# !pip install cohere\n",
        "# !pip install openai\n",
        "# !pip install litellm\n",
        "!pip install rank_bm25"
      ],
      "metadata": {
        "id": "BgpefP-o6XBv"
      },
      "execution_count": null,
      "outputs": []
    },
    {
      "cell_type": "markdown",
      "source": [
        "# DATA"
      ],
      "metadata": {
        "id": "OjBrceNL1OZ9"
      }
    },
    {
      "cell_type": "markdown",
      "source": [
        "> We have text file which consists of paragraphs related to Indian Constitution for e.g., Articles, Schedules, etc.\n",
        "\n",
        ">"
      ],
      "metadata": {
        "id": "9Alt6gid1UoG"
      }
    },
    {
      "cell_type": "code",
      "source": [
        "# data path\n",
        "dir_path = \"/content/drive/MyDrive/Project_CILLM/db/\"\n",
        "text_file_path = \"/content/drive/MyDrive/Project_CILLM/db/file_context_corpus_cleaned_extended_part3.txt\"\n",
        "text_file_path = \"/content/drive/MyDrive/Project_CILLM/colab_project/Constitution-Xpert using OpenAI Embeddings (1)/file_context_corpus_cleaned_extended_part3.txt\"\n",
        "pdf_file_path = \"/content/drive/MyDrive/Project_CILLM/db/file_context_corpus_cleaned_extended_part3.pdf\"\n"
      ],
      "metadata": {
        "id": "5TlhFoKt5D3V"
      },
      "execution_count": 1,
      "outputs": []
    },
    {
      "cell_type": "code",
      "source": [
        "# utility function to load api keys from json file\n",
        "import json\n",
        "path_to_keys = \"/content/drive/MyDrive/Project_CILLM/Keys/keys.json\"\n",
        "def return_api_key(name):\n",
        "    with open(path_to_keys, 'r') as f:\n",
        "        json_data = json.load(f)\n",
        "        return json_data[name]"
      ],
      "metadata": {
        "id": "E4NvkzreAul5"
      },
      "execution_count": 2,
      "outputs": []
    },
    {
      "cell_type": "markdown",
      "source": [
        "# RETRIEVAL\n"
      ],
      "metadata": {
        "id": "lJrYlQmfbc3o"
      }
    },
    {
      "cell_type": "markdown",
      "source": [
        "## [Document loaders](https://python.langchain.com/docs/modules/data_connection/document_loaders/)"
      ],
      "metadata": {
        "id": "pmjql4Pn6E4T"
      }
    },
    {
      "cell_type": "code",
      "source": [
        "# Text Loaders\n",
        "from langchain.document_loaders import TextLoader\n",
        "\n",
        "# PDF Loaders (try which suits us best)\n",
        "from langchain.document_loaders import PyPDFLoader\n",
        "from langchain.document_loaders import PyPDFDirectoryLoader\n",
        "# from langchain.document_loaders import MathpixPDFLoader\n",
        "from langchain.document_loaders import UnstructuredPDFLoader\n",
        "from langchain.document_loaders import PDFMinerPDFasHTMLLoader\n",
        "from langchain.document_loaders import AmazonTextractPDFLoader\n",
        "from langchain.document_loaders import OnlinePDFLoader\n",
        "\n",
        "loader_text = TextLoader(text_file_path)\n",
        "loader_pdf = PyPDFLoader(pdf_file_path)"
      ],
      "metadata": {
        "id": "wZdrSHYF6LPX"
      },
      "execution_count": 3,
      "outputs": []
    },
    {
      "cell_type": "code",
      "source": [
        "## utility function for document loaders information\n",
        "\n",
        "def loaded_doc_info(loader, show_loaded_data=False):\n",
        "    data = loader.load()\n",
        "    print(\"Type of the loader:\", type(loader))\n",
        "    print(\"Length of the data:\", len(data))\n",
        "    if show_loaded_data:\n",
        "        print(data)\n",
        "    return data\n",
        "\n",
        "\n"
      ],
      "metadata": {
        "id": "xyATwh2GB2tY"
      },
      "execution_count": 4,
      "outputs": []
    },
    {
      "cell_type": "code",
      "source": [
        "# loaded_doc_info(loader_text, show_loaded_data=True)\n",
        "text_data = loaded_doc_info(loader_text)"
      ],
      "metadata": {
        "colab": {
          "base_uri": "https://localhost:8080/"
        },
        "id": "3uU64OAz_3YW",
        "outputId": "5d9ba8e5-8b10-4b69-eaf8-2711ba343372"
      },
      "execution_count": 5,
      "outputs": [
        {
          "output_type": "stream",
          "name": "stdout",
          "text": [
            "Type of the loader: <class 'langchain.document_loaders.text.TextLoader'>\n",
            "Length of the data: 1\n"
          ]
        }
      ]
    },
    {
      "cell_type": "code",
      "source": [
        "pdf_data = loaded_doc_info(loader_pdf)"
      ],
      "metadata": {
        "colab": {
          "base_uri": "https://localhost:8080/"
        },
        "id": "EalxDyqJHV8h",
        "outputId": "9a02ec7b-4af3-4e9c-fcfc-2bdf6e6f9f16"
      },
      "execution_count": 6,
      "outputs": [
        {
          "output_type": "stream",
          "name": "stdout",
          "text": [
            "Type of the loader: <class 'langchain.document_loaders.pdf.PyPDFLoader'>\n",
            "Length of the data: 178\n"
          ]
        }
      ]
    },
    {
      "cell_type": "code",
      "source": [
        "# # checking different pdf loader\n",
        "# loader = PDFMinerPDFasHTMLLoader(pdf_file_path)\n",
        "# data = loaded_doc_info(loader, True)"
      ],
      "metadata": {
        "id": "LvAi8Ws9AMHK"
      },
      "execution_count": null,
      "outputs": []
    },
    {
      "cell_type": "markdown",
      "source": [
        "## [Document Transformers](https://python.langchain.com/docs/modules/data_connection/document_transformers/)"
      ],
      "metadata": {
        "id": "QnoPoGXYFIMP"
      }
    },
    {
      "cell_type": "code",
      "source": [
        "from langchain.text_splitter import CharacterTextSplitter\n",
        "from langchain.text_splitter import RecursiveCharacterTextSplitter\n",
        "from langchain.text_splitter import MarkdownHeaderTextSplitter  # we can split by parts in constitution using this splitter and add metadata for better search\n",
        "                                                                # first we have to add headers (for e.g., # or ##)\n",
        "\n",
        "# # Split by tokens\n",
        "# from langchain.text_splitter import TokenTextSplitter\n",
        "# from langchain.text_splitter import SpacyTextSplitter\n",
        "# from langchain.text_splitter import NLTKTextSplitter\n",
        "\n",
        "# !pip install tiktoken\n",
        "# good for OpenAI Models\n",
        "# text_splitter = CharacterTextSplitter.from_tiktoken_encoder(\n",
        "#     chunk_size=100, chunk_overlap=0\n",
        "# )\n",
        "\n",
        "# # Sentence Transformers token split\n",
        "# from langchain.text_splitter import SentenceTransformersTokenTextSplitter # for a particular sentence transformer\n",
        "\n",
        "# # Hugging face tokenizers\n",
        "# from transformers import GPT2TokenizerFast\n",
        "# tokenizer = GPT2TokenizerFast.from_pretrained(\"gpt2\")\n",
        "# text_splitter = CharacterTextSplitter.from_huggingface_tokenizer(\n",
        "#     tokenizer, chunk_size=100, chunk_overlap=0\n",
        "# )\n",
        "# texts = text_splitter.split_text(text)\n"
      ],
      "metadata": {
        "id": "Fmp1TBAPG6JD"
      },
      "execution_count": 7,
      "outputs": []
    },
    {
      "cell_type": "code",
      "source": [
        "def split_data(loader, splitter):\n",
        "    docs = loader.load_and_split(splitter)\n",
        "    print(\"Loader Type:\", type(loader))\n",
        "    print(\"Splitter Type:\", type(splitter))\n",
        "    print(\"Length of splitted data:\", len(docs))\n",
        "    return docs\n",
        "\n",
        "\n"
      ],
      "metadata": {
        "id": "zHGMmb19PywQ"
      },
      "execution_count": 8,
      "outputs": []
    },
    {
      "cell_type": "code",
      "source": [
        "# using openai's tiktoken for splitting data\n",
        "text_splitter = CharacterTextSplitter.from_tiktoken_encoder()\n",
        "docs_text = split_data(loader_text, text_splitter)\n",
        "docs_pdf = split_data(loader_pdf, text_splitter)"
      ],
      "metadata": {
        "colab": {
          "base_uri": "https://localhost:8080/"
        },
        "id": "pgKj3hfnEjOk",
        "outputId": "9dde4af0-d32b-479c-fba4-7bf12cdebc3b"
      },
      "execution_count": 9,
      "outputs": [
        {
          "output_type": "stream",
          "name": "stdout",
          "text": [
            "Loader Type: <class 'langchain.document_loaders.text.TextLoader'>\n",
            "Splitter Type: <class 'langchain.text_splitter.CharacterTextSplitter'>\n",
            "Length of splitted data: 31\n",
            "Loader Type: <class 'langchain.document_loaders.pdf.PyPDFLoader'>\n",
            "Splitter Type: <class 'langchain.text_splitter.CharacterTextSplitter'>\n",
            "Length of splitted data: 178\n"
          ]
        }
      ]
    },
    {
      "cell_type": "code",
      "source": [
        "# using RecursiveCharacterTextSplitter\n",
        "recur_splitter = RecursiveCharacterTextSplitter()\n",
        "docs_text = split_data(loader_text, recur_splitter)\n",
        "docs_pdf = split_data(loader_pdf, recur_splitter)"
      ],
      "metadata": {
        "colab": {
          "base_uri": "https://localhost:8080/"
        },
        "id": "r_dlvO-5RueP",
        "outputId": "8a1449de-6ff1-4faa-9421-9556bca1e0e0"
      },
      "execution_count": 10,
      "outputs": [
        {
          "output_type": "stream",
          "name": "stdout",
          "text": [
            "Loader Type: <class 'langchain.document_loaders.text.TextLoader'>\n",
            "Splitter Type: <class 'langchain.text_splitter.RecursiveCharacterTextSplitter'>\n",
            "Length of splitted data: 156\n",
            "Loader Type: <class 'langchain.document_loaders.pdf.PyPDFLoader'>\n",
            "Splitter Type: <class 'langchain.text_splitter.RecursiveCharacterTextSplitter'>\n",
            "Length of splitted data: 178\n"
          ]
        }
      ]
    },
    {
      "cell_type": "code",
      "source": [
        "docs_pdf[0]"
      ],
      "metadata": {
        "id": "D1Gdxg-cR0Oi"
      },
      "execution_count": null,
      "outputs": []
    },
    {
      "cell_type": "code",
      "source": [
        "char_splitter = CharacterTextSplitter(\n",
        "    separator = \"\\n\\n\",\n",
        "    # chunk_size = 1000,\n",
        "    # chunk_overlap  = 200,\n",
        "    # length_function = len,\n",
        "    is_separator_regex = False,\n",
        ")\n",
        "\n",
        "# char_splitter = CharacterTextSplitter(chunk_size=2000, chunk_overlap=500)\n",
        "\n",
        "docs_text = split_data(loader_text, char_splitter)\n",
        "docs_pdf = split_data(loader_pdf, char_splitter)\n"
      ],
      "metadata": {
        "colab": {
          "base_uri": "https://localhost:8080/"
        },
        "id": "VROD2RVCT1q7",
        "outputId": "b7e49881-2206-4d3f-e58a-c4e2518215ad"
      },
      "execution_count": 11,
      "outputs": [
        {
          "output_type": "stream",
          "name": "stdout",
          "text": [
            "Loader Type: <class 'langchain.document_loaders.text.TextLoader'>\n",
            "Splitter Type: <class 'langchain.text_splitter.CharacterTextSplitter'>\n",
            "Length of splitted data: 156\n",
            "Loader Type: <class 'langchain.document_loaders.pdf.PyPDFLoader'>\n",
            "Splitter Type: <class 'langchain.text_splitter.CharacterTextSplitter'>\n",
            "Length of splitted data: 178\n"
          ]
        }
      ]
    },
    {
      "cell_type": "code",
      "source": [
        "docs = [doc.page_content for doc in docs_text]"
      ],
      "metadata": {
        "id": "HBWNbzN4sD49"
      },
      "execution_count": 12,
      "outputs": []
    },
    {
      "cell_type": "code",
      "source": [
        "\n"
      ],
      "metadata": {
        "id": "XmSCpOYeWafq"
      },
      "execution_count": null,
      "outputs": []
    },
    {
      "cell_type": "code",
      "source": [
        "# docs_pdf[0].page_content"
      ],
      "metadata": {
        "id": "OvSaSxsDU-Ru"
      },
      "execution_count": null,
      "outputs": []
    },
    {
      "cell_type": "code",
      "source": [
        "# print(docs_pdf[0].page_content.rstrip('\\n'))"
      ],
      "metadata": {
        "id": "zilnW8L3UeZt"
      },
      "execution_count": null,
      "outputs": []
    },
    {
      "cell_type": "markdown",
      "source": [
        "## Text Embedding models and chromadb Vectorstore\n",
        "[MTEB blog](https://huggingface.co/blog/mteb) <br>\n",
        "[MTEB](https://huggingface.co/spaces/mteb/leaderboard)"
      ],
      "metadata": {
        "id": "ER6i0-85UqwL"
      }
    },
    {
      "cell_type": "markdown",
      "source": [
        "### Chromadb VectorStore\n"
      ],
      "metadata": {
        "id": "1WT99JNfyAq3"
      }
    },
    {
      "cell_type": "code",
      "source": [
        "from langchain.vectorstores import Chroma\n"
      ],
      "metadata": {
        "id": "xRsZ-4_VyHfQ"
      },
      "execution_count": 13,
      "outputs": []
    },
    {
      "cell_type": "code",
      "source": [
        "# utility function for embeddings info\n",
        "\n",
        "def embeddings_info(embeddings):\n",
        "    print(\"Total Embeddings:\", len(embeddings))\n",
        "    print(\"Dimension:\", len(embeddings[0]))\n"
      ],
      "metadata": {
        "id": "VLKfVutytshL"
      },
      "execution_count": 14,
      "outputs": []
    },
    {
      "cell_type": "code",
      "source": [
        "### Problems with Chroma\n",
        "### https://python.langchain.com/docs/integrations/vectorstores/chroma#basic-example-including-saving-to-disk\n",
        "## Caching Embeddings using LocalFileStore\n",
        "# from langchain.storage import LocalFileStore\n",
        "# from langchain.embeddings import CacheBackedEmbeddings # Embeddings can be stored or temporarily cached to avoid needing to recompute them.\n",
        "# import os\n",
        "\n",
        "# utility function for creating embeddings using chromdb\n",
        "# def create_cached_embeddings(docs, embedding_model, model_name, fs):\n",
        "#     # print(list(fs.yield_keys()))\n",
        "#     # cached_embedder = CacheBackedEmbeddings.from_bytes_store(\n",
        "#     #     embedding_model, fs, namespace=model_name\n",
        "#     # )\n",
        "#     ### Create the vectorstore\n",
        "#     # db = Chroma.from_documents(docs, cached_embedder)\n",
        "#     db = Chroma.from_documents(docs, embedding_model)\n",
        "#     return db\n",
        "\n",
        "# def create_embeddings(docs, embedding_model):\n",
        "#     return Chroma.from_documents(docs, embedding_model)\n",
        "\n",
        "\n",
        "# utility function for similarity search\n",
        "def return_similar_docs(db, query, k=4, show_docs=False):\n",
        "    docs = db.similarity_search_with_relevance_scores(query, k=k)\n",
        "    docs = sorted(docs, key=lambda x: -x[1])\n",
        "    if show_docs:\n",
        "        for doc in docs:\n",
        "            print(\"Text:\", doc[0].page_content)\n",
        "            print(\"Relevance Score:\", doc[1])\n",
        "            print(\"--\"*50)\n",
        "            print(\"--\"*50)\n",
        "    return docs\n",
        "\n"
      ],
      "metadata": {
        "id": "zMLnXd4x3KOz"
      },
      "execution_count": 15,
      "outputs": []
    },
    {
      "cell_type": "markdown",
      "source": [
        "### BGE Hugging face embeddings"
      ],
      "metadata": {
        "id": "HUNJ2TN-jhkH"
      }
    },
    {
      "cell_type": "code",
      "source": [
        "from langchain.embeddings import HuggingFaceBgeEmbeddings\n",
        "\n",
        "model_name = \"BAAI/bge-large-en\"\n",
        "model_kwargs = {'device': 'cpu'}\n",
        "encode_kwargs = {'normalize_embeddings': True}\n",
        "hf = HuggingFaceBgeEmbeddings(\n",
        "    model_name=model_name,\n",
        "    model_kwargs=model_kwargs,\n",
        "    encode_kwargs=encode_kwargs\n",
        ")"
      ],
      "metadata": {
        "id": "LOtmP_kUmaq6"
      },
      "execution_count": 16,
      "outputs": []
    },
    {
      "cell_type": "code",
      "source": [
        "# embeddings = hf.embed_documents(docs)\n",
        "# embeddings_info(embeddings)\n",
        "# sentence1 = \"Tell me about article 23\"\n",
        "# embedding1 = hf.embed_query(sentence1)\n",
        "# import numpy as np\n",
        "\n",
        "# dot_product = np.dot(embeddings, embedding1)\n",
        "# dot_product\n",
        "# np.argmax()"
      ],
      "metadata": {
        "id": "YUX28y8VpMN6"
      },
      "execution_count": null,
      "outputs": []
    },
    {
      "cell_type": "code",
      "source": [
        "# hf_db = Chroma.from_documents(docs_text, hf, persist_directory=\"./chroma_db_hf\")\n",
        "hf_db = Chroma(persist_directory=\"./chroma_db_hf\", embedding_function=hf)"
      ],
      "metadata": {
        "id": "jzCQlsvX0FVi"
      },
      "execution_count": 17,
      "outputs": []
    },
    {
      "cell_type": "code",
      "source": [
        "### check similar documents\n",
        "query = \"What is writs in constitution?\"\n",
        "retrived_docs = return_similar_docs(hf_db, query, show_docs=True)"
      ],
      "metadata": {
        "id": "FahmaWQ0uOdA"
      },
      "execution_count": null,
      "outputs": []
    },
    {
      "cell_type": "markdown",
      "source": [
        "### Cohere Embeddings"
      ],
      "metadata": {
        "id": "j7DDvAbVwDLc"
      }
    },
    {
      "cell_type": "code",
      "source": [
        "COHERE_API_KEY = return_api_key(\"COHERE_API_KEY\")"
      ],
      "metadata": {
        "id": "t9yI8u4TCWTl"
      },
      "execution_count": 18,
      "outputs": []
    },
    {
      "cell_type": "code",
      "source": [
        "from langchain.embeddings import CohereEmbeddings\n",
        "cohr = CohereEmbeddings(\n",
        "    model=\"embed-english-v2.0\",\n",
        "    cohere_api_key=COHERE_API_KEY\n",
        "    )\n"
      ],
      "metadata": {
        "id": "lXyxhF_CwT9Z"
      },
      "execution_count": 19,
      "outputs": []
    },
    {
      "cell_type": "code",
      "source": [
        "# db_cohr = create_embeddings(docs_text, cohr)\n",
        "# cohr_db = Chroma.from_documents(docs_text, cohr, persist_directory=\"./chroma_db_cohr\")\n",
        "cohr_db = Chroma(persist_directory=\"./chroma_db_cohr\", embedding_function=cohr)"
      ],
      "metadata": {
        "id": "B3D2GhCdwo6B"
      },
      "execution_count": 20,
      "outputs": []
    },
    {
      "cell_type": "code",
      "source": [
        "### check similar documents\n",
        "query = \"What is writs in constitution?\"\n",
        "retrieved_docs = return_similar_docs(cohr_db, query, show_docs=True)"
      ],
      "metadata": {
        "id": "fqZWPr-zGWiT"
      },
      "execution_count": null,
      "outputs": []
    },
    {
      "cell_type": "markdown",
      "source": [
        "#### Reordering\n",
        "- When models must access relevant information in the middle of long contexts, then tend to ignore the provided documents. See: https://arxiv.org/abs/2307.03172\n"
      ],
      "metadata": {
        "id": "qcOReyx7c9eS"
      }
    },
    {
      "cell_type": "code",
      "source": [
        "from langchain.document_transformers import (\n",
        "    LongContextReorder,\n",
        ")\n",
        "\n",
        "# Reorder returned docs\n",
        "reordering = LongContextReorder()\n",
        "reordered_docs = reordering.transform_documents(retrieved_docs)\n",
        "reordered_docs"
      ],
      "metadata": {
        "id": "41Yhjut9dUE3"
      },
      "execution_count": null,
      "outputs": []
    },
    {
      "cell_type": "markdown",
      "source": [
        "### OpenAI Embeddings"
      ],
      "metadata": {
        "id": "-1eyV80gn9sR"
      }
    },
    {
      "cell_type": "code",
      "source": [
        "OPENAI_API_KEY = return_api_key(\"OPENAI_API_KEY\")\n",
        "# OPENAI_API_KEY"
      ],
      "metadata": {
        "id": "WdW32-0prwtg"
      },
      "execution_count": null,
      "outputs": []
    },
    {
      "cell_type": "code",
      "source": [
        "from langchain.embeddings import OpenAIEmbeddings\n",
        "\n",
        "openai = OpenAIEmbeddings(openai_api_key=OPENAI_API_KEY)\n"
      ],
      "metadata": {
        "id": "A3HPSd4vr360"
      },
      "execution_count": null,
      "outputs": []
    },
    {
      "cell_type": "markdown",
      "source": [
        "#### We can also use [VectorstoreIndexCreator](https://python.langchain.com/docs/modules/data_connection/retrievers/#one-line-index-creation)\n",
        "for creating vectorstore quickly with one liner code."
      ],
      "metadata": {
        "id": "8XznW6gTElyA"
      }
    },
    {
      "cell_type": "code",
      "source": [
        "from langchain.indexes import VectorstoreIndexCreator\n",
        "from langchain.chains import RetrievalQA\n",
        "from langchain.llms import OpenAI\n",
        "\n",
        "index_creator = VectorstoreIndexCreator(\n",
        "    vectorstore_cls=Chroma,\n",
        "    embedding=CohereEmbeddings(cohere_api_key=COHERE_API_KEY),\n",
        "    text_splitter=CharacterTextSplitter(separator='\\n\\n'),\n",
        ")\n",
        "\n",
        "index = index_creator.from_loaders([loader_text])\n",
        "\n",
        "# querying\n",
        "query = \"what is article 4?\"\n",
        "# index.query(query) # give your llm\n",
        "# index.query_with_sources(query) # give your llm\n",
        "\n",
        "# check Vectorstore\n",
        "index.vectorstore\n",
        "\n",
        "# can use as a retriever\n",
        "index.vectorstore.as_retriever()\n",
        "\n",
        "# can use in QA using llm\n",
        "# qa = RetrievalQA.from_chain_type(llm=OpenAI(), chain_type=\"stuff\", retriever=retriever)"
      ],
      "metadata": {
        "colab": {
          "base_uri": "https://localhost:8080/"
        },
        "id": "dcsbPVtvE4Ht",
        "outputId": "df481e4e-5ef6-4773-9bfb-72ac54a65fb7"
      },
      "execution_count": 22,
      "outputs": [
        {
          "output_type": "execute_result",
          "data": {
            "text/plain": [
              "VectorStoreRetriever(tags=['Chroma', 'CohereEmbeddings'], metadata=None, vectorstore=<langchain.vectorstores.chroma.Chroma object at 0x78572fc8a650>, search_type='similarity', search_kwargs={})"
            ]
          },
          "metadata": {},
          "execution_count": 22
        }
      ]
    },
    {
      "cell_type": "markdown",
      "source": [
        "## [Retrievers](https://python.langchain.com/docs/modules/data_connection/retrievers/)"
      ],
      "metadata": {
        "id": "d6AzTQMZsNpt"
      }
    },
    {
      "cell_type": "markdown",
      "source": [
        "### [MultiQueryRetriever](https://python.langchain.com/docs/modules/data_connection/retrievers/MultiQueryRetriever)"
      ],
      "metadata": {
        "id": "V3KSRJGzsfPh"
      }
    },
    {
      "cell_type": "code",
      "source": [
        "# using cohere llm via LiteLLM lib interface\n",
        "# from langchain.chat_models import ChatLiteLLM\n",
        "from langchain.llms import Cohere\n",
        "from langchain.prompts.chat import (\n",
        "    ChatPromptTemplate,\n",
        "    SystemMessagePromptTemplate,\n",
        "    AIMessagePromptTemplate,\n",
        "    HumanMessagePromptTemplate,\n",
        ")\n",
        "from langchain.schema import AIMessage, HumanMessage, SystemMessage\n",
        "from langchain.retrievers.multi_query import MultiQueryRetriever\n",
        "\n",
        "# llm = ChatLiteLLM(model=\"command-nightly\", cohere_api_key=COHERE_API_KEY)\n",
        "llm = Cohere(model=\"command-nightly\", cohere_api_key=COHERE_API_KEY)\n",
        "# llm.cohere_api_key\n",
        "retriever_from_llm = MultiQueryRetriever.from_llm(\n",
        "    retriever=cohr_db.as_retriever(), llm=llm\n",
        ")"
      ],
      "metadata": {
        "id": "v4oJcuzLC82h"
      },
      "execution_count": 26,
      "outputs": []
    },
    {
      "cell_type": "code",
      "source": [
        "# Set logging for the queries\n",
        "import logging\n",
        "\n",
        "logging.basicConfig()\n",
        "logging.getLogger(\"langchain.retrievers.multi_query\").setLevel(logging.INFO)\n"
      ],
      "metadata": {
        "id": "Y4DPDEaROJrD"
      },
      "execution_count": 27,
      "outputs": []
    },
    {
      "cell_type": "code",
      "source": [
        "# Problem with the litellm lib\n",
        "question = \"Tell me about article 4\"\n",
        "unique_docs = retriever_from_llm.get_relevant_documents(query=question)\n",
        "len(unique_docs)"
      ],
      "metadata": {
        "colab": {
          "base_uri": "https://localhost:8080/"
        },
        "id": "0vSP7YiEOt66",
        "outputId": "50c52143-b3bf-4e6c-c3c1-b3c2eec69e2a"
      },
      "execution_count": 28,
      "outputs": [
        {
          "output_type": "stream",
          "name": "stderr",
          "text": [
            "INFO:langchain.retrievers.multi_query:Generated queries: [\"1. Tell me about article 4's tags.\", \"2. Tell me about article 4's content.\", \"3. Tell me about article 4's authors.\"]\n"
          ]
        },
        {
          "output_type": "execute_result",
          "data": {
            "text/plain": [
              "7"
            ]
          },
          "metadata": {},
          "execution_count": 28
        }
      ]
    },
    {
      "cell_type": "markdown",
      "source": [
        "- We can supply our own prompt along with [output parser](https://python.langchain.com/docs/modules/model_io/output_parsers/) to split the results into a list of queries\n",
        "\n"
      ],
      "metadata": {
        "id": "IdYvXQbZPBAG"
      }
    },
    {
      "cell_type": "code",
      "source": [
        "from typing import List\n",
        "from langchain import LLMChain\n",
        "from pydantic import BaseModel, Field\n",
        "from langchain.prompts import PromptTemplate\n",
        "from langchain.output_parsers import PydanticOutputParser\n",
        "\n",
        "\n",
        "# Output parser will split the LLM result into a list of queries\n",
        "class LineList(BaseModel):\n",
        "    # \"lines\" is the key (attribute name) of the parsed output\n",
        "    lines: List[str] = Field(description=\"Lines of text\")\n",
        "\n",
        "\n",
        "class LineListOutputParser(PydanticOutputParser):\n",
        "    def __init__(self) -> None:\n",
        "        super().__init__(pydantic_object=LineList)\n",
        "\n",
        "    def parse(self, text: str) -> LineList:\n",
        "        lines = text.strip().split(\"\\n\")\n",
        "        return LineList(lines=lines)\n",
        "\n",
        "\n",
        "output_parser = LineListOutputParser()\n",
        "\n",
        "QUERY_PROMPT = PromptTemplate(\n",
        "    input_variables=[\"question\"],\n",
        "    template=\"\"\"You are an AI language model assistant. Your task is to generate five\n",
        "    different versions of the given user question to retrieve relevant documents from a vector\n",
        "    database. By generating multiple perspectives on the user question, your goal is to help\n",
        "    the user overcome some of the limitations of the distance-based similarity search.\n",
        "    Provide these alternative questions seperated by newlines.\n",
        "    Original question: {question}\"\"\",\n",
        ")\n",
        "\n",
        "# Chain\n",
        "llm_chain = LLMChain(llm=llm, prompt=QUERY_PROMPT, output_parser=output_parser)\n",
        "\n",
        "# Other inputs\n",
        "question = \"what is reservation in contitution of india?\""
      ],
      "metadata": {
        "id": "d8s0JEM0aMq4"
      },
      "execution_count": 29,
      "outputs": []
    },
    {
      "cell_type": "code",
      "source": [
        "# Run\n",
        "retriever = MultiQueryRetriever(\n",
        "    retriever=cohr_db.as_retriever(), llm_chain=llm_chain, parser_key=\"lines\"\n",
        ")  # \"lines\" is the key (attribute name) of the parsed output\n",
        "\n",
        "# Results\n",
        "unique_docs = retriever.get_relevant_documents(\n",
        "    query=question\n",
        ")\n",
        "len(unique_docs)"
      ],
      "metadata": {
        "colab": {
          "base_uri": "https://localhost:8080/"
        },
        "id": "nU3RZvIpa0rh",
        "outputId": "c80e0024-8528-4869-eace-6025ab2ddf09"
      },
      "execution_count": 30,
      "outputs": [
        {
          "output_type": "stream",
          "name": "stderr",
          "text": [
            "INFO:langchain.retrievers.multi_query:Generated queries: ['1. What is the reservation in the Constitution of India according to the Constitution?', '2. What does the Constitution of India say about reservation?', '3. How does the reservation in the Constitution of India work?', '4. What are the different types of reservation in the Constitution of India?', '5. How has the reservation in the Constitution of India changed over time?']\n"
          ]
        },
        {
          "output_type": "execute_result",
          "data": {
            "text/plain": [
              "11"
            ]
          },
          "metadata": {},
          "execution_count": 30
        }
      ]
    },
    {
      "cell_type": "code",
      "source": [],
      "metadata": {
        "id": "mTz8YKKQa9on"
      },
      "execution_count": 33,
      "outputs": []
    },
    {
      "cell_type": "code",
      "source": [],
      "metadata": {
        "id": "M4XNHlTre95U"
      },
      "execution_count": 33,
      "outputs": []
    },
    {
      "cell_type": "code",
      "source": [],
      "metadata": {
        "id": "k3W40nmke98l"
      },
      "execution_count": 33,
      "outputs": []
    },
    {
      "cell_type": "code",
      "source": [],
      "metadata": {
        "id": "aYtVbxf9e9_h"
      },
      "execution_count": 33,
      "outputs": []
    },
    {
      "cell_type": "markdown",
      "source": [
        "### [Ensemble Retriever](https://python.langchain.com/docs/modules/data_connection/retrievers/ensemble)\n",
        "- The EnsembleRetriever takes a list of retrievers as input and ensemble the results of their get_relevant_documents() methods and rerank the results based on the [Reciprocal Rank Fusion](https://plg.uwaterloo.ca/~gvcormac/cormacksigir09-rrf.pdf) algorithm.\n",
        "- The most common pattern is to combine a sparse retriever(like BM25) with a dense retriever(like Embedding similarity), because their strengths are complementary. It is also known as \"hybrid search\"."
      ],
      "metadata": {
        "id": "vJzsgqNKe-Cc"
      }
    },
    {
      "cell_type": "code",
      "source": [
        "from langchain.retrievers import BM25Retriever\n",
        "from langchain.retrievers import EnsembleRetriever"
      ],
      "metadata": {
        "id": "TCNDL9k8iH8I"
      },
      "execution_count": 35,
      "outputs": []
    },
    {
      "cell_type": "code",
      "source": [
        "# initialize the bm25 retriever\n",
        "bm25_retriever = BM25Retriever.from_documents(docs_text)\n",
        "bm25_retriever.k = 2\n",
        "\n",
        "# initialize the Chromadb as retriever\n",
        "chroma_retriever = cohr_db.as_retriever(search_kwargs={\"k\": 2})\n",
        "\n"
      ],
      "metadata": {
        "id": "punritF1nMiT"
      },
      "execution_count": 39,
      "outputs": []
    },
    {
      "cell_type": "code",
      "source": [
        "# initialize the ensemble retriever\n",
        "ensemble_retriever = EnsembleRetriever(retrievers=[bm25_retriever, chroma_retriever], weights=[0.5, 0.5])"
      ],
      "metadata": {
        "id": "A5zqzYidn0q7"
      },
      "execution_count": 41,
      "outputs": []
    },
    {
      "cell_type": "code",
      "source": [
        "docs = ensemble_retriever.get_relevant_documents(\"schedules\")\n",
        "docs"
      ],
      "metadata": {
        "colab": {
          "base_uri": "https://localhost:8080/"
        },
        "id": "5eYX9xAOnrWk",
        "outputId": "9a3d8a20-8d89-4500-9139-37c1ec95a232"
      },
      "execution_count": 42,
      "outputs": [
        {
          "output_type": "execute_result",
          "data": {
            "text/plain": [
              "[Document(page_content=\"The 44th Amendment Amend articles 19, 22, 30, 31A, 31C, 38, 71, 74, 77, 83, 103, 105, 123, 132, 133, 134, 139A, 150, 166, 172, 192, 194, 213, 217, 225, 226, 227, 239B, 329, 352, 356, 358, 359, 360 and 371F.\\nInsert articles 134A and 361A.\\nRemove articles 31, 257A and 329A.\\nAmend part 12.\\nAmend schedule 9.\\nThe objective of 44th Amendment was: Amendment passed after revocation of internal emergency in the Country. \\nProvides for human rights safeguards and mechanisms to prevent abuse of executive and legislative authority. Annuls some Amendments enacted in Amendment Bill 42. \\nThe 44th Amendment is enforced since: 20 June, 1 August & 6 September 1979 [6] \\nThe Prime Minster at the time of 44th Amendment was: Morarji Desai \\nThe President at the time of 44th Amendment was: Neelam Sanjiva Reddy \\n\\nThe 45th Amendment Amend article 334.\\nThe objective of 45th Amendment was: Extend reservation for SCs and STs and nomination of Anglo Indian members in Parliament and State Assemblies for another ten years i.e. up to 1990. \\nThe 45th Amendment is enforced since: 25 January 1980 \\nThe Prime Minster at the time of 45th Amendment was: Indira Gandhi \\nThe President at the time of 45th Amendment was: Neelam Sanjiva Reddy \\n\\nThe 46th Amendment Amend articles 269, 286 and 366.\\nAmend schedule 7.\\nThe objective of 46th Amendment was: Amendment to negate judicial pronouncements on scope and applicability on Sales Tax. \\nThe 46th Amendment is enforced since: 2 February 1983 \\nThe Prime Minster at the time of 46th Amendment was: Indira Gandhi \\nThe President at the time of 46th Amendment was: Zail Singh \\n\\nThe 47th Amendment Amend schedule 9.\\nThe objective of 47th Amendment was: Place land reform acts and amendments to these act under Schedule 9 of the constitution. \\nThe 47th Amendment is enforced since: 26 August 1984 \\nThe Prime Minster at the time of 47th Amendment was: Indira Gandhi \\nThe President at the time of 47th Amendment was: Zail Singh \\n\\nThe 48th Amendment Amend article 356.\\nThe objective of 48th Amendment was: Article 356 amended to permit President's rule up to two years in the state of Punjab. \\nThe 48th Amendment is enforced since: 1 April 1985 \\nThe Prime Minster at the time of 48th Amendment was: Indira Gandhi \\nThe President at the time of 48th Amendment was: Zail Singh \\n\\nThe 49th Amendment Amend article 244.\\nAmend schedules 5 and 6.\\nThe objective of 49th Amendment was: Recognise Tripura as a tribal state and enable the creation of a Tripura Tribal Areas Autonomous District Council. \\nThe 49th Amendment is enforced since: 11 September 1984 \\nThe Prime Minster at the time of 49th Amendment was: Indira Gandhi \\nThe President at the time of 49th Amendment was: Zail Singh \\n\\nThe 50th Amendment Amend article 33.\\nThe objective of 50th Amendment was: Technical Amendment to curtailment of Fundamental Rights as per Part III as prescribed in Article 33 to cover Security Personnel protecting property and communication infrastructure. \\nThe 50th Amendment is enforced since: 11 September 1984 \\nThe Prime Minster at the time of 50th Amendment was: Indira Gandhi \\nThe President at the time of 50th Amendment was: Zail Singh \\n\\nThe 51st Amendment Amend articles 330 and 332.\\nThe objective of 51st Amendment was: Provide reservation to Scheduled Tribes in Nagaland, Meghalaya, Mizoram and Arunachal Pradesh in Loksabha, similarly for Meghalaya and Arunachal in their Legislative Assemblies. \\nThe 51st Amendment is enforced since: 16 June 1986 \\nThe Prime Minster at the time of 51st Amendment was: Indira Gandhi \\nThe President at the time of 51st Amendment was: Zail Singh\", metadata={'source': '/content/drive/MyDrive/Project_CILLM/colab_project/Constitution-Xpert using OpenAI Embeddings (1)/file_context_corpus_cleaned_extended_part3.txt'}),\n",
              " Document(page_content='How many Schedules are there in India?\\nThere are 12 Schedules in the Indian Constitution.\\n\\nWhat is the 11th and 12th Schedule of India?\\nEleventh Schedule – It contains the provisions that specify the powers, authority and responsibilities of Panchayats.\\nFundamental Rights – It deals with the provisions that specify the powers, authority and responsibilities of Municipalities.\\n\\nWhich act gave Constitutional recognition to the municipalities?\\n74th Amendment Act 1992 gave constitutional recognition to urban local bodies i.e. municipalities.\\n\\nRepresentation of People Act, 1951:\\nThe Representation of People Act, 1951 was passed by the Parliament in accordance with Article 327 of the Constitution of India. This legislation deals with the conduct of elections in the country and is hence a very important one. Articles 324 to 329 of Part XV of the Indian Constitution provides for the country’s electoral system. The Constitution confers upon the Parliament the power to enact laws for all matters connected with elections to the Parliament and the State Legislature.  \\t\\n\\nWhen was the Representation of the People Act passed?\\nThe first Representation of People Act  was enacted in 1950.\\n\\nWhat amendment did the Representation of People Act make?\\nThe Representation of People Act  was amended many times. In 1966, the amendment to the 1951 Act abolished election tribunals. Many other amendments were passed, the details of which are mentioned in the article.\\n\\nCan a convicted person contest election in India?\\nA person convicted of any offence and imprisoned for more than 2 years shall be disqualified from contesting for a period of 6 years after he or she is released from jail. After the 6-year period, he/she can contest elections.\\n\\nRight to Education Act (RTE):\\nThe Right to Education Act (RTE) is important legislation that marks a watershed in the education system in India. With its enactment, the right to education has become a fundamental right in the country.\\nThe Act is completely titled “the Right of Children to Free and Compulsory Education Act”. It was passed by the Parliament in August 2009. When the Act came into force in 2010, India became one among 135 countries where education is a fundamental right of every child.\\n\\nWhat are the basic features of Right to Education Act?\\nSome of the basic features of the RTE are:\\n1. Free and compulsory education for all children in the age group 6 to 14.\\n2. There will not be any detention or examination until elementary education is completed. However, there has been an amendment to this (as mentioned above in the criticisms of the Act).\\n3. This makes providing education a legal obligation of the governments.\\n4. It also makes it mandatory for all private schools to reserve 25% of their seats for the EWS and disadvantaged groups.\\n\\nWhat is the age limit for RTE?\\nAll children between the ages of 6 and 14 have the right to free education under the provisions of the Act.\\n\\nWhat is Article 21 of the Constitution?\\nArticle 21 deals with the right to life and personal liberty. It is a fundamental right. To know more click on Right to Life (Article 21) – Indian Polity Notes.\\n\\nWhat is the importance of the right to education?\\nEducation is a significant step to achieving all other basic human rights. Education can help decrease poverty, reduce social inequalities, empower women and others marginalised, bring down discrimination and finally help individuals live life to their fullest potentials. It helps improve access to opportunities for a better life in terms of employment and business. It can also bring about peace and overall prosperity to a region. Therefore, education is one of the most important rights.', metadata={'source': '/content/drive/MyDrive/Project_CILLM/colab_project/Constitution-Xpert using OpenAI Embeddings (1)/file_context_corpus_cleaned_extended_part3.txt'}),\n",
              " Document(page_content=\"Schedule 8: Language\\nSchedule 8 of the Indian Constitution lists the 22 official languages of India. These languages are used for official purposes in the Union and in the States.\\n\\nSchedule 9: Laws to be Passed by Parliament with Special Majority\\nSchedule 9 of the Indian Constitution lists certain laws that can only be passed by Parliament with a special majority.\\n\\nSchedule 10: Provisions as to Disqualification on Ground of Defection\\nSchedule 10 of the Indian Constitution deals with the disqualification of members of Parliament and State Legislatures on the ground of defection.\\n\\nSchedule 11: Panchayats\\nSchedule 11 of the Indian Constitution deals with the establishment, composition, powers and functions of Panchayats in India.\\n\\nSchedule 12: Finance Commission\\nSchedule 12 of the Indian Constitution deals with the composition, functions, and powers of the Finance Commission.\\n\\nFundamental Duties:\\nFundamental duties are the moral obligations that every citizen of India has towards the nation and fellow citizens. They were added to the Indian Constitution in 1976.\\n\\nDirective Principles of State Policy:\\nDirective Principles of State Policy (DPSP) are a set of guidelines for the government of India to follow in order to create a just and equitable society. They were added to the Indian Constitution in 1950.\\n\\nPart I – The Union and its Territories:\\n\\nPart I of the Indian Constitution deals with the Union and its Territories. It defines the territories that constitute the Union of India, and it establishes the central government of India.\\n\\nPart II – Citizenship:\\nPart II of the Indian Constitution deals with Citizenship. It defines who is a citizen of India, and it sets out the procedures for acquiring and losing citizenship.\\n\\nPart III – Fundamental Rights:\\nPart III of the Indian Constitution deals with Fundamental Rights. It guarantees certain rights to all citizens of India, including the right to equality, the right to freedom, the right to property, and the right to life and personal liberty.\\n\\nPart IV – Directive Principles of State Policy:\\nPart IV of the Indian Constitution contains a set of principles that the state should strive to achieve. These principles are not enforceable by the courts, but they are nevertheless important in guiding the government's policies.\\n\\nPart IV A – Fundamental Duties:\\nPart IV A of the Indian Constitution contains a list of 11 fundamental duties that are expected of all citizens of India. These duties are not enforceable by the courts, but they are nevertheless important in guiding the behavior of citizens.\\n\\nPart V – The Union:\\nPart V of the Indian Constitution deals with the structure of the Union government. It establishes a parliamentary system of government at the Union level, with a President as the head of state and a Prime Minister as the head of government.\\n\\nPart VI – The States:\\n(1) Legislative powers of the State.—Subject to the provisions of this Constitution, the Legislature of a State shall have exclusive power to make laws for such State or any part thereof with respect to any of the matters enumerated in List II in the Seventh Schedule (in this Constitution referred to as the “State List”).\\n(2) Nothing in clause (1) shall derogate from the powers of Parliament to make laws with respect to any matter for a State or any part thereof.\\n\\nPart VII – The States in Part B of First Schedule:\\nPart VII of the Indian Constitution deals with the states that were formerly princely states or `Part B` states. These states were governed by a Rajpramukh, who was appointed by the President. The Rajpramukh had the power to appoint the Chief Minister and the Council of Ministers.\", metadata={'source': '/content/drive/MyDrive/Project_CILLM/colab_project/Constitution-Xpert using OpenAI Embeddings (1)/file_context_corpus_cleaned_extended_part3.txt'}),\n",
              " Document(page_content='The 13th Amendment Amend article 170.\\nInsert new article 371A.\\nThe objective of 13th Amendment was: Formation of State of Nagaland, with special protection under Article 371A. \\nThe 13th Amendment is enforced since: 1 December 1962 \\nThe Prime Minster at the time of 13th Amendment was: Jawaharlal Nehru \\nThe President at the time of 13th Amendment was: Sarvepalli Radhakrishnan \\n\\nThe 14th Amendment Amend articles 81 and 240.\\nInsert article 239A.\\nAmend schedules 1 and 4.\\nThe objective of 14th Amendment was: Incorporation of Pondicherry into the Union of India and creation of Legislative Assemblies for Himachal Pradesh, Tripura, Manipur and Goa. \\nThe 14th Amendment is enforced since: 28 December 1962 \\nThe Prime Minster at the time of 14th Amendment was: Jawaharlal Nehru \\nThe President at the time of 14th Amendment was: Sarvepalli Radhakrishnan \\n\\nThe 15th Amendment Amend articles 124, 128, 217, 222, 224, 226, 297, 311 and 316.\\nInsert article 224A.\\nAmend schedule 7.\\nThe objective of 15th Amendment was: Raise retirement age of High Court judges from 60 to 62 and other minor amendments for rationalising interpretation of rules regarding judges etc. \\nThe 15th Amendment is enforced since: 5 October 1963 \\nThe Prime Minster at the time of 15th Amendment was: Jawaharlal Nehru \\nThe President at the time of 15th Amendment was: Sarvepalli Radhakrishnan \\n\\nThe 16th Amendment Amend articles 19, 84 and 173.\\nAmend schedule 3.\\nThe objective of 16th Amendment was: Make it obligatory for seekers of public office to swear their allegiance to the Indian Republic and prescribe the various obligatory templates. \\nThe 16th Amendment is enforced since: 5 October 1963 \\nThe Prime Minster at the time of 16th Amendment was: Jawaharlal Nehru \\nThe President at the time of 16th Amendment was: Sarvepalli Radhakrishnan \\n\\nThe 17th Amendment Amend article 31A.\\nAmend schedule 9.\\nThe objective of 17th Amendment was: To secure the constitutional validity of acquisition of Estates and place land acquisition laws in Schedule 9 of the constitution. \\nThe 17th Amendment is enforced since: 20 June 1964 \\nThe Prime Minster at the time of 17th Amendment was: Jawaharlal Nehru \\nThe President at the time of 17th Amendment was: Sarvepalli Radhakrishnan \\n\\nThe 18th Amendment Amend article 3.\\nThe objective of 18th Amendment was: Technical Amendment to include Union Territories in Article 3 and hence permit reorganisation of Union Territories. \\nThe 18th Amendment is enforced since: 27 August 1966 \\nThe Prime Minster at the time of 18th Amendment was: Lal Bahadur Shastri \\nThe President at the time of 18th Amendment was: Sarvepalli Radhakrishnan \\n\\nThe 19th Amendment Amend article 324.\\nThe objective of 19th Amendment was: Abolish Election Tribunals and enable trial of election petitions by regular High Courts. \\nThe 19th Amendment is enforced since: 11 December 1966 \\nThe Prime Minster at the time of 19th Amendment was: Lal Bahadur Shastri \\nThe President at the time of 19th Amendment was: Sarvepalli Radhakrishnan \\n\\nThe 20th Amendment Insert article 233A.\\nThe objective of 20th Amendment was: Indemnify & validate judgments, decrees, orders and sentences passed by judges and to validate the appointment, posting, promotion and transfer of judges barring a few who were not eligible for appointment under article 233. Amendment needed to overcome the effect of judgment invalidating appointments of certain judges in the state of Uttar Pradesh. \\nThe 20th Amendment is enforced since: 22 December 1966 \\nThe Prime Minster at the time of 20th Amendment was: Lal Bahadur Shastri \\nThe President at the time of 20th Amendment was: Sarvepalli Radhakrishnan \\n\\nThe 21st Amendment Amend schedule 8.\\nThe objective of 21st Amendment was: Include Sindhi as an official language. \\nThe 21st Amendment is enforced since: 10 April 1967 \\nThe Prime Minster at the time of 21st Amendment was: Indira Gandhi \\nThe President at the time of 21st Amendment was: Sarvepalli Radhakrishnan', metadata={'source': '/content/drive/MyDrive/Project_CILLM/colab_project/Constitution-Xpert using OpenAI Embeddings (1)/file_context_corpus_cleaned_extended_part3.txt'})]"
            ]
          },
          "metadata": {},
          "execution_count": 42
        }
      ]
    },
    {
      "cell_type": "markdown",
      "source": [
        "### [MultiVector Retriever](https://python.langchain.com/docs/modules/data_connection/retrievers/multi_vector)\n",
        "\n",
        "- The methods to create multiple vectors per document include:\n",
        "\n",
        "    - smaller chunks: split a document into smaller chunks, and embed those (this is ParentDocumentRetriever)\n",
        "    - summary: create a summary for each document, embed that along with (or instead of) the document\n",
        "    - hypothetical questions: create hypothetical questions that each document would be appropriate to answer, embed those along with (or instead of) the document"
      ],
      "metadata": {
        "id": "XvZQNMW8f8lc"
      }
    },
    {
      "cell_type": "code",
      "source": [
        "from langchain.retrievers.multi_vector import MultiVectorRetriever\n",
        "COHERE_API_KEY = return_api_key(\"COHERE_API_KEY\")"
      ],
      "metadata": {
        "id": "be7Avh6msI3l"
      },
      "execution_count": 47,
      "outputs": []
    },
    {
      "cell_type": "code",
      "source": [
        "from langchain.vectorstores import Chroma\n",
        "from langchain.embeddings import CohereEmbeddings\n",
        "from langchain.text_splitter import RecursiveCharacterTextSplitter\n",
        "from langchain.storage import InMemoryStore\n",
        "from langchain.document_loaders import TextLoader"
      ],
      "metadata": {
        "id": "lB6lZxCKtvwE"
      },
      "execution_count": 44,
      "outputs": []
    },
    {
      "cell_type": "code",
      "source": [
        "loaders = TextLoader(text_file_path)\n",
        "\n",
        "docs = loaders.load()\n",
        "text_splitter = RecursiveCharacterTextSplitter(chunk_size=10000)\n",
        "docs = text_splitter.split_documents(docs)"
      ],
      "metadata": {
        "id": "ujB3J_4WuNl9"
      },
      "execution_count": 56,
      "outputs": []
    },
    {
      "cell_type": "markdown",
      "source": [
        "#### Smaller chunks\n"
      ],
      "metadata": {
        "id": "QKOP4O2eu1zk"
      }
    },
    {
      "cell_type": "code",
      "source": [
        "# The vectorstore to use to index the child chunks\n",
        "vectorstore = Chroma(\n",
        "    collection_name=\"full_docs_CI\",\n",
        "    embedding_function=CohereEmbeddings(cohere_api_key=COHERE_API_KEY),\n",
        ")\n",
        "\n",
        "# The Storage layer for the parent documents\n",
        "store = InMemoryStore()\n",
        "id_key = \"doc_id\"\n",
        "\n",
        "# The retriever (empty to start)\n",
        "retriever = MultiVectorRetriever(\n",
        "    vectorstore=vectorstore,\n",
        "    docstore=store,\n",
        "    id_key=id_key,\n",
        ")\n",
        "\n",
        "import uuid\n",
        "doc_ids = [str(uuid.uuid4()) for _ in docs]\n"
      ],
      "metadata": {
        "id": "eIjpP0xNuv9b"
      },
      "execution_count": 57,
      "outputs": []
    },
    {
      "cell_type": "code",
      "source": [
        "# The splitter to use to create the smaller chunks\n",
        "child_text_splitter = RecursiveCharacterTextSplitter(chunk_size=800)"
      ],
      "metadata": {
        "id": "cItsHBtcw2Z3"
      },
      "execution_count": 58,
      "outputs": []
    },
    {
      "cell_type": "code",
      "source": [
        "sub_docs = []\n",
        "for i, doc in enumerate(docs):\n",
        "    _id = doc_ids[i]\n",
        "    _sub_docs = child_text_splitter.split_documents([doc])\n",
        "    for _doc in _sub_docs:\n",
        "        _doc.metadata[id_key] = _id\n",
        "    sub_docs.extend(_sub_docs)"
      ],
      "metadata": {
        "id": "f94DfUcIxRE0"
      },
      "execution_count": 59,
      "outputs": []
    },
    {
      "cell_type": "code",
      "source": [
        "retriever.vectorstore.add_documents(sub_docs)\n",
        "retriever.docstore.mset(list(zip(doc_ids, docs)))"
      ],
      "metadata": {
        "id": "D92wB_2xyKS_"
      },
      "execution_count": 60,
      "outputs": []
    },
    {
      "cell_type": "code",
      "source": [
        "# Vectorstore alone retrieves the small chunks\n",
        "retriever.vectorstore.similarity_search(\"article 29\")"
      ],
      "metadata": {
        "colab": {
          "base_uri": "https://localhost:8080/"
        },
        "id": "7TDrNrclypea",
        "outputId": "9b2e4592-1fe7-4939-c034-eeab315d421c"
      },
      "execution_count": 61,
      "outputs": [
        {
          "output_type": "execute_result",
          "data": {
            "text/plain": [
              "[Document(page_content='Article 297: Things of value within territorial waters or continental shelf and resources of the exclusive economic zone to vest in the Union.\\nArticle 298: Power to carry on trade, etc.\\nArticle 299: Contracts.\\nArticle 300: Suits and proceedings.', metadata={'doc_id': '246a1d0b-497f-4a4b-aa57-663384c849b9', 'source': '/content/drive/MyDrive/Project_CILLM/colab_project/Constitution-Xpert using OpenAI Embeddings (1)/file_context_corpus_cleaned_extended_part3.txt'}),\n",
              " Document(page_content='PART IVA: FUNDAMENTAL DUTIES\\nArticle 51A: Fundamental duties.\\n\\nPART V: THE UNION:\\nCHAPTER I: THE EXECUTIVE', metadata={'doc_id': '115e017e-e303-4fa1-a5a5-20e4f531f55f', 'source': '/content/drive/MyDrive/Project_CILLM/colab_project/Constitution-Xpert using OpenAI Embeddings (1)/file_context_corpus_cleaned_extended_part3.txt'}),\n",
              " Document(page_content='Article 379-391: [Repealed]\\nArticle 392: Power of the President to remove difficulties.', metadata={'doc_id': 'd588fc73-eb16-44f6-95b6-3c8265a50f3d', 'source': '/content/drive/MyDrive/Project_CILLM/colab_project/Constitution-Xpert using OpenAI Embeddings (1)/file_context_corpus_cleaned_extended_part3.txt'}),\n",
              " Document(page_content='Article 49: Protection of monuments and places and objects of national importance.\\nArticle 50: Separation of judiciary from the executive.\\nArticle 51: Promotion of international peace and security.', metadata={'doc_id': '06611dfa-525a-42ee-83ce-f21b4daac661', 'source': '/content/drive/MyDrive/Project_CILLM/colab_project/Constitution-Xpert using OpenAI Embeddings (1)/file_context_corpus_cleaned_extended_part3.txt'})]"
            ]
          },
          "metadata": {},
          "execution_count": 61
        }
      ]
    },
    {
      "cell_type": "code",
      "source": [
        "# Retriever returns larger chunks\n",
        "len(retriever.get_relevant_documents(\"article 29\")[0].page_content)"
      ],
      "metadata": {
        "colab": {
          "base_uri": "https://localhost:8080/"
        },
        "id": "jWwNei231Eki",
        "outputId": "f016ff2c-968f-4f9d-f674-722d25eed162"
      },
      "execution_count": 68,
      "outputs": [
        {
          "output_type": "execute_result",
          "data": {
            "text/plain": [
              "8326"
            ]
          },
          "metadata": {},
          "execution_count": 68
        }
      ]
    },
    {
      "cell_type": "code",
      "source": [
        "# sub_docs"
      ],
      "metadata": {
        "id": "1wEq3org038n"
      },
      "execution_count": null,
      "outputs": []
    },
    {
      "cell_type": "code",
      "source": [
        "# # cohr_db.similarity_search(\"article 29\")\n",
        "# bm25_retriever = BM25Retriever.from_documents(docs)\n",
        "# bm25_retriever.k = 2\n",
        "\n",
        "# ensemble_retriever = EnsembleRetriever(retrievers=[bm25_retriever, retriever], weights=[0.5, 0.5])\n",
        "# ensemble_retriever.get_relevant_documents(\"article 29\")"
      ],
      "metadata": {
        "id": "IM1LjgJky-Hg"
      },
      "execution_count": null,
      "outputs": []
    },
    {
      "cell_type": "markdown",
      "source": [
        "#### Summary\n",
        "\n",
        "- Oftentimes a summary may be able to distill more accurately what a chunk is about, leading to better retrieval. Here we show how to create summaries, and then embed those."
      ],
      "metadata": {
        "id": "MJPAQMn52m6m"
      }
    },
    {
      "cell_type": "code",
      "source": [
        "from langchain.llms import Cohere\n",
        "from langchain.prompts import ChatPromptTemplate\n",
        "from langchain.schema.output_parser import StrOutputParser\n",
        "import uuid\n",
        "from langchain.schema.document import Document"
      ],
      "metadata": {
        "id": "9ImZ2IRz2nWU"
      },
      "execution_count": 69,
      "outputs": []
    },
    {
      "cell_type": "code",
      "source": [
        "chain = (\n",
        "    {\"doc\": lambda x: x.page_content}\n",
        "    | ChatPromptTemplate.from_template(\"Summarize the following document:\\n\\n{doc}\")\n",
        "    | Cohere(model=\"command-nightly\", max_retries=0, cohere_api_key=COHERE_API_KEY)\n",
        "    | StrOutputParser()\n",
        ")"
      ],
      "metadata": {
        "id": "9wuAH8fc2-WV"
      },
      "execution_count": 71,
      "outputs": []
    },
    {
      "cell_type": "code",
      "source": [
        "# due to free license we are requesting only 5 API calls per minute , therefore this cell will take time\n",
        "import time\n",
        "# summaries = chain.batch(docs, {\"max_concurrency\": 1})\n",
        "summaries = []\n",
        "for i in range(len(docs)):\n",
        "    summaries.append(chain.invoke(doc))\n",
        "    if i%5 == 0:\n",
        "        time.sleep(60)"
      ],
      "metadata": {
        "id": "Zwv28Irs3X3H"
      },
      "execution_count": 78,
      "outputs": []
    },
    {
      "cell_type": "code",
      "source": [
        "summary_docs = [Document(page_content=s,metadata={id_key: doc_ids[i]}) for i, s in enumerate(summaries)]"
      ],
      "metadata": {
        "id": "PTd9qEHs8_I0"
      },
      "execution_count": 79,
      "outputs": []
    },
    {
      "cell_type": "code",
      "source": [
        "import pickle\n",
        "pickle.dump(summary_docs, open(\"summaries.txt\", \"wb\"))"
      ],
      "metadata": {
        "id": "qfWcXI4HBjBY"
      },
      "execution_count": 87,
      "outputs": []
    },
    {
      "cell_type": "code",
      "source": [
        "summary_docs"
      ],
      "metadata": {
        "colab": {
          "base_uri": "https://localhost:8080/"
        },
        "id": "UApj6KXDD7NH",
        "outputId": "c3b6349b-e973-40b0-f52e-51f2e1e0688a"
      },
      "execution_count": 88,
      "outputs": [
        {
          "output_type": "execute_result",
          "data": {
            "text/plain": [
              "[Document(page_content=' This document summarizes the rights and freedoms of citizens in India as outlined in the Indian Constitution. It includes protections for freedom of speech, expression, assembly, association, movement, residence, and profession, as well as the right to education and protection from unfair conviction. It also includes provisions for the protection of life and personal liberty, prohibition of traffic in human beings and forced labor, and the prohibition of employment of children in factories and mines. Additionally, it outlines the freedom of conscience and the right to freely practice and propagate religion, as well as the right to manage religious affairs and own and acquire property. The document also mentions the freedom from paying taxes for the promotion or maintenance of any particular religion, as well as the right to conserve a distinct language, script, or culture. It also states that no citizen shall be denied admission into any educational institution maintained by the state or receiving state funds on grounds of religion, race, caste, language, or any of them.', metadata={'doc_id': 'ea2c7349-093b-494f-be00-76a925c67ca0'}),\n",
              " Document(page_content=' This document summarizes the articles of the Constitution of India dealing with fundamental rights. It covers articles 18 to 29, which deal with the abolition of titles, protection of certain rights regarding freedom of speech, etc., protection in respect of conviction for offences, protection of life and personal liberty, protection against arrest and detention in certain cases, prohibition of traffic in human beings and forced labor, prohibition of employment of children in factories, etc., freedom of conscience and free profession, practice, and propagation of religion, freedom to manage religious affairs, freedom as to payment of taxes, freedom as to attendance at religious instruction or religious worship in certain educational institutions, and protection of interests of minorities.', metadata={'doc_id': '71b834d7-4bf2-4825-82a7-55d1e8c4c942'}),\n",
              " Document(page_content=' Article 18: Abolition of Titles\\nNo title, not being a military or academic distinction, shall be conferred by the State. No citizen of India shall accept any title from any foreign State. No person who is not a citizen of India shall, while he holds any office of profit or trust under the State, accept without the consent of the President any title from any foreign State. No person holding any office of profit or trust under the State shall, without the consent of the President, accept any present, emolument, or office of any kind from or under any foreign State. The President may, by rule, specify the titles which may be conferred by the State, the qualifications necessary for conferment of such titles, and the manner of their conferment.\\nArticle 19: Protection of certain rights regarding freedom of speech, etc.\\nAll citizens shall have the right—\\n(a) to freedom of speech and expression;\\n(b) to assemble peaceably and without arms;\\n(c) to form associations or unions;\\n(d) to move freely throughout the territory of India;\\n(e) to reside and settle in any part of the territory of India; and\\n(f) to practice any profession, or to carry on any occupation', metadata={'doc_id': 'bf539988-797a-404f-9b0d-1efcd524db6a'}),\n",
              " Document(page_content=\" This document outlines the various freedoms and protections guaranteed to citizens of India by the Constitution. \\n\\nArticles 18 and 19 guarantee freedom of speech, expression, assembly, and movement, as well as the right to choose one's own profession and trade. Article 20 provides protection from unfair prosecution and punishment, while Article 21 guarantees the right to life and personal liberty, as well as the right to education.\\n\\nArticles 22 and 23 prohibit arbitrary arrest and detention, as well as the traffic in human beings and forced labor. Article 24 prohibits the employment of children below the age of 14 in factories and mines, as well as other hazardous occupations.\\n\\nArticles 25 and 26 guarantee the freedom of conscience and the right to freely practice and propagate religion, as well as the right to manage religious affairs and own and acquire property. Article 27 prohibits the compulsory payment of taxes for the promotion or maintenance of any particular religion.\\n\\nArticles 28 and 29 protect the interests of minorities, including the right to conserve distinct languages, scripts, or cultures, the right to admission into educational institutions, and the right to establish and administer educational institutions of their choice.\", metadata={'doc_id': '7eb8e729-1aaa-450c-852c-1b15481a52ef'}),\n",
              " Document(page_content=' This document summarizes the rights of citizens of India as granted by the Indian constitution. It includes the right to freedom of speech, expression, and religion, as well as the right to own and acquire property. It also includes protections against forced labor and child labor.', metadata={'doc_id': '871162f3-3b6f-42cf-91ee-6c5293e839ec'}),\n",
              " Document(page_content=' This document outlines the various freedoms and protections guaranteed to citizens of India by the Indian Constitution. \\n\\nAmong the many provisions, the document guarantees the right to freedom of speech, expression, and religion, as well as the right to freedom from discrimination based on religion, race, caste, or sex. It also provides for the right to education and the right to live and settle in any part of India. \\n\\nIn addition, the document protects the rights of minorities, including the right to conserve their distinct language, script, or culture, and the right to establish and administer their own educational institutions.', metadata={'doc_id': '3292f2bd-4bc7-452e-b6ac-7ff8407f9b55'}),\n",
              " Document(page_content=' This document summarizes the rights and freedoms of Indian citizens, as outlined in the Constitution of India. It includes the right to freedom of speech and expression, the right to assemble peaceably and without arms, the right to form associations or unions, the right to move freely throughout the territory of India, the right to reside and settle in any part of the territory of India, and the right to practice any profession, or to carry on any occupation, trade or business. It also includes the right to protection against conviction for offenses, the right to protection of life and personal liberty, and the right to education.', metadata={'doc_id': 'e10dd6f3-788b-4ae9-966d-6e441f3993c3'}),\n",
              " Document(page_content=' This document outlines the various freedoms and protections granted to citizens of India by the Constitution of India. \\n\\nAmong the many provisions, the document guarantees the right to freedom of speech, expression, and religion, as well as the right to own and acquire property. It also prohibits discrimination against any citizen on the grounds of religion, race, caste, sex, or place of birth. Additionally, it provides for the right to education and the prohibition of traffic in human beings and forced labor. \\n\\nIn terms of education, the document states that no person shall be denied admission into any educational institution maintained by the state or receiving state funds on the grounds of religion, race, caste, or language. It also states that all minorities, whether based on religion or language, shall have the right to establish and administer educational institutions of their choice.\\n\\nFurthermore, the document protects the rights of minors and prevents the state from discriminating against any educational institution based on its management by a minority, whether based on religion or language.', metadata={'doc_id': '57853361-dd07-4a3e-b0f0-16e1a153cb60'}),\n",
              " Document(page_content=' This document outlines the various protections and freedoms guaranteed to citizens of India by the Constitution. It includes the right to freedom of speech, expression, and religion, as well as the right to education and the prohibition of forced labor. It also includes a number of specific protections, such as the right to a fair trial and the prohibition of discrimination on the basis of religion, race, caste, or sex.', metadata={'doc_id': '13e9e752-db02-47ee-aa47-55db8511b95d'}),\n",
              " Document(page_content=' Article 18: Abolition of Titles. No title, not being a military or academic distinction, shall be conferred by the State. No citizen of India shall accept any title from any foreign State. No person who is not a citizen of India shall, while he holds any office of profit or trust under the State, accept without the consent of the President any title from any foreign State. No person holding any office of profit or trust under the State shall, without the consent of the President, accept any present, emolument, or office of any kind from or under any foreign State. The President may, by rule, specify the titles which may be conferred by the State, the qualifications necessary for conferment of such titles, and the manner of their conferment. Article 19: Protection of certain rights regarding freedom of speech, etc. All citizens shall have the right— (a) to freedom of speech and expression; (b) to assemble peaceably and without arms; (c) to form associations or unions; (d) to move freely throughout the territory of India; (e) to reside and settle in any part of the territory of India; and (f) to practice any profession, or to carry on any occupation, trade or business. Nothing in this', metadata={'doc_id': 'b5b4963d-8135-4a96-8835-d8e417795df1'}),\n",
              " Document(page_content=' This document summarizes the rights of citizens of India, as stated in the Constitution of India. It covers various aspects such as the right to freedom of speech and expression, the right to form associations or unions, the right to move freely throughout the territory of India, the right to reside and settle in any part of the territory of India, and the right to practice any profession, or to carry on any occupation, trade or business. It also includes provisions for the protection of certain rights in case of conviction for offenses, such as the right to protection against double punishment and the right to protection against self-incrimination.\\n\\nThe document also outlines the various restrictions and exceptions that apply to these rights, such as restrictions on the right to freedom of speech and expression in the interests of the sovereignty and integrity of India, the security of the State, friendly relations with foreign States, public order, decency or morality, or in relation to contempt of court, defamation or incitement to an offense. It also specifies that nothing in the right to freedom of speech and expression shall affect the operation of any existing law or prevent the State from making any law in so far as such law imposes reasonable restrictions on the exercise of the right conferred by this article in the interests of the sovereignty and integrity', metadata={'doc_id': 'a5604043-81d2-449c-ae5d-a7132f9756de'}),\n",
              " Document(page_content=' Article 18: Abolition of Titles\\n- No title, not being a military or academic distinction, shall be conferred by the State.\\n- No citizen of India shall accept any title from any foreign State.\\n- No person who is not a citizen of India shall, while he holds any office of profit or trust under the State, accept without the consent of the President any title from any foreign State.\\n- No person holding any office of profit or trust under the State shall, without the consent of the President, accept any present, emolument, or office of any kind from or under any foreign State.\\n- The President may, by rule, specify the titles which may be conferred by the State, the qualifications necessary for conferment of such titles, and the manner of their conferment.\\n\\nArticle 19: Protection of certain rights regarding freedom of speech, etc.\\n- All citizens shall have the right—\\n- to freedom of speech and expression;\\n- to assemble peaceably and without arms;\\n- to form associations or unions;\\n- to move freely throughout the territory of India;\\n- to reside and settle in any part of the territory of India; and\\n- to practice any profession, or to carry on any occupation,', metadata={'doc_id': 'c43bd68a-0cba-4c47-8efa-6de10d17ad02'}),\n",
              " Document(page_content=' This document summarizes the rights and freedoms of Indian citizens as granted by the Indian Constitution. It includes the right to freedom of speech, expression, and religion, as well as the right to own and acquire property. It also includes protections against discrimination and forced labor, and the right to education.', metadata={'doc_id': 'c18731fb-6422-43f2-9516-d83d7b463624'}),\n",
              " Document(page_content=' This document summarizes the rights of citizens and non-citizens of India, as outlined in the Constitution of India. \\n\\nArticle 18: Abolition of Titles. No title, not being a military or academic distinction, shall be conferred by the State. No citizen of India shall accept any title from any foreign State. No person who is not a citizen of India shall, while he holds any office of profit or trust under the State, accept without the consent of the President any title from any foreign State. No person holding any office of profit or trust under the State shall, without the consent of the President, accept any present, emolument, or office of any kind from or under any foreign State. The President may, by rule, specify the titles which may be conferred by the State, the qualifications necessary for conferment of such titles, and the manner of their conferment.\\n\\nArticle 19: Protection of certain rights regarding freedom of speech, etc. All citizens shall have the right—(a) to freedom of speech and expression; (b) to assemble peaceably and without arms; (c) to form associations or unions; (d) to move freely throughout the territory of India; (e) to reside and settle in any part of the territory', metadata={'doc_id': '39e9e783-f91b-4f7b-b04b-24b756f8ab36'}),\n",
              " Document(page_content=' Article 18: Abolition of Titles\\n- No title, not being a military or academic distinction, shall be conferred by the State.\\n- No citizen of India shall accept any title from any foreign State.\\n- No person who is not a citizen of India shall, while he holds any office of profit or trust under the State, accept without the consent of the President any title from any foreign State.\\n- No person holding any office of profit or trust under the State shall, without the consent of the President, accept any present, emolument, or office of any kind from or under any foreign State.\\n- The President may, by rule, specify the titles which may be conferred by the State, the qualifications necessary for conferment of such titles, and the manner of their conferment.\\n\\nArticle 19: Protection of certain rights regarding freedom of speech, etc.\\n- All citizens shall have the right—\\n- to freedom of speech and expression;\\n- to assemble peaceably and without arms;\\n- to form associations or unions;\\n- to move freely throughout the territory of India;\\n- to reside and settle in any part of the territory of India; and\\n- to practice any profession, or to carry on any occupation,', metadata={'doc_id': '14fb9c24-87a8-4806-b2a8-40dddcde8e6f'}),\n",
              " Document(page_content=' This document summarizes the articles of the Constitution of India that protect the rights of citizens. It covers articles 18-29, which include the abolition of titles, protection of certain rights regarding freedom of speech, protection in respect of conviction for offenses, protection of life and personal liberty, protection against arrest and detention in certain cases, prohibition of traffic in human beings and forced labor, prohibition of employment of children in factories, etc., freedom of conscience and free profession, practice, and propagation of religion, freedom to manage religious affairs, freedom as to payment of taxes, freedom as to attendance at religious instruction or religious worship in certain educational institutions, and protection of the interests of minorities.', metadata={'doc_id': '356da702-b98d-42bc-8655-d31e23faa1af'}),\n",
              " Document(page_content=' Article 18: Abolition of Titles\\nNo title, not being a military or academic distinction, shall be conferred by the State. No citizen of India shall accept any title from any foreign State. No person who is not a citizen of India shall, while he holds any office of profit or trust under the State, accept without the consent of the President any title from any foreign State. No person holding any office of profit or trust under the State shall, without the consent of the President, accept any present, emolument, or office of any kind from or under any foreign State. The President may, by rule, specify the titles which may be conferred by the State, the qualifications necessary for conferment of such titles, and the manner of their conferment.\\n\\nArticle 19: Protection of certain rights regarding freedom of speech, etc.\\nAll citizens shall have the right—\\n(a) to freedom of speech and expression;\\n(b) to assemble peaceably and without arms;\\n(c) to form associations or unions;\\n(d) to move freely throughout the territory of India;\\n(e) to reside and settle in any part of the territory of India; and\\n(f) to practice any profession, or to carry on any', metadata={'doc_id': '74141864-3c6a-44b7-b536-ec08c5829cf1'}),\n",
              " Document(page_content=' Article 18: Abolition of Titles\\nNo title, not being a military or academic distinction, shall be conferred by the State. No citizen of India shall accept any title from any foreign State. No person who is not a citizen of India shall, while he holds any office of profit or trust under the State, accept without the consent of the President any title from any foreign State. No person holding any office of profit or trust under the State shall, without the consent of the President, accept any present, emolument, or office of any kind from or under any foreign State. The President may, by rule, specify the titles which may be conferred by the State, the qualifications necessary for conferment of such titles, and the manner of their conferment.\\n\\nArticle 19: Protection of certain rights regarding freedom of speech, etc.\\nAll citizens shall have the right—\\n(a) to freedom of speech and expression;\\n(b) to assemble peaceably and without arms;\\n(c) to form associations or unions;\\n(d) to move freely throughout the territory of India;\\n(e) to reside and settle in any part of the territory of India; and\\n(f) to practice any profession, or to carry on any', metadata={'doc_id': '120fe4f4-b52e-4ba5-923c-55ac39b7b36f'}),\n",
              " Document(page_content=' This document outlines the various protections and freedoms guaranteed to citizens of India by the Constitution of India. It includes protections such as the right to freedom of speech, expression, and religion, as well as the right to education and the prohibition of forced labor. It also includes provisions for the protection of minority groups, such as linguistic and religious minorities, and the right to establish and administer educational institutions of their choice.', metadata={'doc_id': '07eb080c-0039-4044-b233-02b65b262253'}),\n",
              " Document(page_content=' Article 18: Abolition of Titles\\n• No title, not being a military or academic distinction, shall be conferred by the State.\\n• No citizen of India shall accept any title from any foreign State.\\n• No person who is not a citizen of India shall, while he holds any office of profit or trust under the State, accept without the consent of the President any title from any foreign State.\\n• No person holding any office of profit or trust under the State shall, without the consent of the President, accept any present, emolument, or office of any kind from or under any foreign State.\\n• The President may, by rule, specify the titles which may be conferred by the State, the qualifications necessary for conferment of such titles, and the manner of their conferment.\\n\\nArticle 19: Protection of certain rights regarding freedom of speech, etc.\\n• All citizens shall have the right—\\n• to freedom of speech and expression;\\n• to assemble peaceably and without arms;\\n• to form associations or unions;\\n• to move freely throughout the territory of India;\\n• to reside and settle in any part of the territory of India; and\\n• to practice any profession, or to carry on any occupation,', metadata={'doc_id': '4dd6052c-57ea-4558-aedf-78870b0eeae3'}),\n",
              " Document(page_content=' This document summarizes the articles of the Constitution of India that protect the rights of citizens. It covers articles 18-29, which include provisions for the abolition of titles, protection of certain rights regarding freedom of speech, protection in respect of conviction for offenses, protection of life and personal liberty, protection against arrest and detention in certain cases, prohibition of traffic in human beings and forced labor, prohibition of employment of children in factories, etc, freedom of conscience and free profession, practice, and propagation of religion, freedom to manage religious affairs, freedom as to payment of taxes, freedom as to attendance at religious instruction or religious worship in certain educational institutions, and protection of the interests of minorities.', metadata={'doc_id': 'ab4ed42d-9cee-444a-888b-3060d27d8c39'}),\n",
              " Document(page_content=' This report summarizes Article 18-29 of the Constitution of India. \\n\\nArticle 18: Abolition of Titles\\nThe state shall not confer any title, other than military or academic distinctions. No citizen of India shall accept any title from any foreign state. No person who is not a citizen of India shall, while holding an office of profit or trust under the state, accept without the consent of the President any title from any foreign state. No person holding any office of profit or trust under the state shall, without the consent of the President, accept any present, emolument, or office of any kind from or under any foreign state.\\n\\nArticle 19: Protection of certain rights regarding freedom of speech, etc.\\nAll citizens shall have the right: to freedom of speech and expression; to assemble peaceably and without arms; to form associations or unions; to move freely throughout the territory of India; to reside and settle in any part of the territory of India; and to practice any profession, or to carry on any occupation, trade or business. Nothing in this article shall affect the operation of any existing law, or prevent the state from making any law, in so far as such law imposes reasonable restrictions on the exercise of the right conferred by this article in the', metadata={'doc_id': 'fc7b5611-2f67-47e8-a715-da18d21993d0'}),\n",
              " Document(page_content=' This document outlines the various freedoms and protections granted to citizens of India by the Indian Constitution. \\n\\nAmong the many provisions, Article 18 states that no titles, other than military or academic distinctions, shall be conferred by the state. Additionally, no citizen of India shall accept any title from a foreign state. \\n\\nArticle 19 outlines the freedoms of speech, expression, assembly, association, movement, residence, and profession. However, these rights are subject to certain restrictions, such as those imposed in the interests of the sovereignty and integrity of India, national security, friendly relations with foreign states, public order, decency, or morality, or contempt of court, defamation, or incitement to an offense. \\n\\nArticle 20 provides protections in the event of a conviction for an offense. No person shall be convicted of an offense except for violating a law in force at the time of the commission of the act charged as an offense, and no person shall be subjected to a penalty greater than that which might have been imposed under the law in force at the time of the commission of the offense. \\n\\nAdditionally, no person shall be prosecuted and punished for the same offense more than once, and no person shall be compelled to be a witness against himself. \\n\\nArticle 21 ensures the', metadata={'doc_id': '7b4c7034-9f15-4fb9-991b-5cda5418fe23'}),\n",
              " Document(page_content=' Article 18: Abolition of Titles\\n- No title, not being a military or academic distinction, shall be conferred by the State.\\n- No citizen of India shall accept any title from any foreign State.\\n- No person who is not a citizen of India shall, while he holds any office of profit or trust under the State, accept without the consent of the President any title from any foreign State.\\n- No person holding any office of profit or trust under the State shall, without the consent of the President, accept any present, emolument, or office of any kind from or under any foreign State.\\n- The President may, by rule, specify the titles which may be conferred by the State, the qualifications necessary for conferment of such titles, and the manner of their conferment.\\n\\nArticle 19: Protection of certain rights regarding freedom of speech, etc.\\n- All citizens shall have the right—\\n- to freedom of speech and expression;\\n- to assemble peaceably and without arms;\\n- to form associations or unions;\\n- to move freely throughout the territory of India;\\n- to reside and settle in any part of the territory of India; and\\n- to practice any profession, or to carry on any occupation,', metadata={'doc_id': '3bacd08e-daa0-42af-8406-8954b684ee57'}),\n",
              " Document(page_content=' Article 18 prohibits the conferring of titles by the state, except military or academic distinctions. It also prohibits citizens from accepting titles from any foreign state. \\nArticle 19 provides for freedom of speech, assembly, association, movement, residence, and profession. However, this right is subject to certain restrictions in the interests of the sovereignty and integrity of India, the security of the state, friendly relations with foreign states, public order, decency, or morality, or contempt of court, defamation, or incitement to an offense.\\nArticle 20 provides that no person shall be convicted of any offense except for violation of a law in force at the time of the commission of the act charged as an offense, nor be subjected to a penalty greater than that which might have been inflicted under the law in force at the time of the commission of the offense. It also provides that no person shall be prosecuted and punished for the same offense more than once, and that no person accused of any offense shall be compelled to be a witness against himself. \\nArticle 21 provides that no person shall be deprived of his life or personal liberty except according to the procedure established by law. It also provides for the right to education and prohibits discrimination against any citizen on grounds only of religion, race, caste', metadata={'doc_id': 'a6b23dc8-9e3a-4e0f-9172-2c159bd0021d'}),\n",
              " Document(page_content=' This report summarizes the articles of the Constitution of India dealing with fundamental rights. These rights include freedom of speech, expression, assembly, association, movement, residence, and business, as well as the right to education and protection against unfair conviction. The constitution also protects the right to life and personal liberty, prohibits forced labor and traffic in human beings, and prohibits the employment of children below the age of 14 in factories and mines. The constitution also guarantees the freedom of conscience and the right to freely practice and propagate religion, as well as the right to manage religious affairs and own and acquire property. Citizens are also protected from being compelled to pay taxes for the promotion or maintenance of any particular religion.', metadata={'doc_id': 'a4f4cf37-ec0a-4e64-a42f-74e4f404e2e9'}),\n",
              " Document(page_content=' This document outlines the various freedoms and protections granted to citizens of India by the Indian Constitution. \\n\\nAmong the many provisions, the document guarantees the right to freedom of speech, expression, and religion. It also protects against discrimination based on race, caste, sex, or place of birth. Additionally, the document outlines the procedures for arrest and detention, as well as the protection of life and personal liberty. \\nMinority educational institutions also receive protection from discrimination in the granting of state aid.', metadata={'doc_id': '2c4e4b9e-b8e4-431d-bdea-55484c44b865'}),\n",
              " Document(page_content=' This document outlines the various articles of the Constitution of India that protect the rights of citizens, including the right to freedom of speech and expression, the right to assemble peaceably, the right to form associations or unions, the right to move freely throughout the territory of India, the right to reside and settle in any part of the territory of India, and the right to practice any profession, or to carry on any occupation, trade, or business. The document also outlines the various articles that protect citizens from being convicted of any offense except for violation of a law in force at the time of the commission of the act charged as an offense, and from being subjected to a penalty greater than that which might have been inflicted under the law in force at the time of the commission of the offense. \\n\\nThe document also outlines the various articles that protect the right to life and personal liberty, the right to education, and the right to protection against arrest and detention in certain cases. The document also outlines the various articles that prohibit traffic in human beings and forced labor, and that prohibit the employment of children below the age of fourteen years in any factory or mine or engaged in any other hazardous employment. The document also outlines the various articles that protect the freedom of conscience and the right to freely profess', metadata={'doc_id': '8ce9dad2-1c97-4e8e-8bfb-e33ab2ded47f'}),\n",
              " Document(page_content=' Article 18: No titles shall be conferred by the State except military or academic distinctions. No citizen of India shall accept any title from any foreign State. No person who is not a citizen of India shall, while he holds any office of profit or trust under the State, accept without the consent of the President any title from any foreign State. No person holding any office of profit or trust under the State shall, without the consent of the President, accept any present, emolument, or office of any kind from or under any foreign State. The President may, by rule, specify the titles which may be conferred by the State, the qualifications necessary for conferment of such titles, and the manner of their conferment. \\nArticle 19: Every citizen shall have the right—(a) to freedom of speech and expression; (b) to assemble peaceably and without arms; (c) to form associations or unions; (d) to move freely throughout the territory of India; (e) to reside and settle in any part of the territory of India; and (f) to practice any profession, or to carry on any occupation, trade or business. Nothing in this article shall affect the operation of any existing law, or prevent the State from making any law', metadata={'doc_id': '222fd44a-fa83-42e8-8e48-117a31ad9d59'}),\n",
              " Document(page_content=' This document outlines the various freedoms and protections granted to citizens of India by the Constitution of India. \\n\\nAmong the many provisions, Article 18 prohibits the conferring of titles by the State, with exceptions for military and academic distinctions.  No citizen of India may accept titles from foreign states, and no person may accept titles from foreign states while holding office under the State, without the consent of the President.  Further, no person may accept any present, emolument, or office of any kind from or under any foreign state while holding office under the State, without the consent of the President.  The President may specify titles that may be conferred by the State, the necessary qualifications, and the manner of conferring such titles.\\n\\nArticle 19 grants all citizens the right to freedom of speech and expression, the right to assemble peaceably and without arms, the right to form associations or unions, the right to move freely throughout the territory of India, the right to reside and settle in any part of the territory of India, and the right to practice any profession, or to carry on any occupation, trade or business.  However, this right is subject to certain restrictions, including those necessary for the sovereignty and integrity of India, the security of the State, friendly relations', metadata={'doc_id': '30edf05f-a83a-4ef2-ae1e-5c6badbe50d9'}),\n",
              " Document(page_content=' This document outlines the various freedoms and protections granted to citizens of India by the Indian Constitution. \\n\\nAmong the many provisions, Article 18 abolishes titles, with the exception of military or academic distinctions, and prohibits citizens from accepting titles from foreign states. Article 19 protects the freedom of speech, expression, assembly, association, movement, residence, and profession. However, existing laws or state legislation may impose reasonable restrictions on these rights in the interest of national security, friendly relations with foreign states, public order, decency, or morality. \\n\\nArticle 20 provides protection in the event of a conviction for an offense, stating that no person shall be convicted of an offense except for violating a law in force at the time of the commission of the act, and no person shall be subjected to a penalty greater than what might have been imposed under the law in force at the time of the commission of the offense. Furthermore, no person shall be prosecuted or punished more than once for the same offense, and no person shall be compelled to be a witness against himself. \\n\\nArticle 21 ensures the protection of life and personal liberty, stating that no person shall be deprived of these except according to the procedure established by law. Additionally, no person shall be denied the right to education, and the', metadata={'doc_id': 'd49a7f90-1bfa-4d7d-b686-d9d418f4cf60'}),\n",
              " Document(page_content=' This document details the rights of citizens of India, protecting them from being discriminated against based on several factors. It also protects citizens from being forced to pay taxes for the promotion of any particular religion.', metadata={'doc_id': '4e421f7b-1571-43e9-913b-4788c532fba1'}),\n",
              " Document(page_content=' Article 18: Abolition of Titles\\nNo title, not being a military or academic distinction, shall be conferred by the State. No citizen of India shall accept any title from any foreign State. No person who is not a citizen of India shall, while he holds any office of profit or trust under the State, accept without the consent of the President any title from any foreign State. No person holding any office of profit or trust under the State shall, without the consent of the President, accept any present, emolument, or office of any kind from or under any foreign State. The President may, by rule, specify the titles which may be conferred by the State, the qualifications necessary for conferment of such titles, and the manner of their conferment.\\n\\nArticle 19: Protection of certain rights regarding freedom of speech, etc.\\nAll citizens shall have the right—\\n(a) to freedom of speech and expression;\\n(b) to assemble peaceably and without arms;\\n(c) to form associations or unions;\\n(d) to move freely throughout the territory of India;\\n(e) to reside and settle in any part of the territory of India; and\\n(f) to practice any profession, or to carry on any', metadata={'doc_id': 'c4c91c65-b0e5-4808-84d7-527db748ae65'}),\n",
              " Document(page_content=' This document outlines the various freedoms and protections granted to citizens of India by the Constitution of India. \\n\\nArticle 18: Abolition of Titles - States that no title, other than military or academic distinction, shall be conferred by the State. Further, no Indian citizen shall accept any title from a foreign state.\\n\\nArticle 19: Protection of certain rights regarding freedom of speech, etc. - Grants every Indian citizen the right to freedom of speech and expression, the right to assemble peaceably and without arms, the right to form associations or unions, the right to move freely throughout the territory of India, the right to reside and settle in any part of the territory of India, and the right to practice any profession, or to carry on any occupation, trade or business. However, existing laws and future laws may impose reasonable restrictions on these rights in the interest of the sovereignty and integrity of India, the security of the State, friendly relations with foreign states, public order, decency or morality, or in relation to contempt of court, defamation or incitement to an offence.\\n\\nArticle 20: Protection in respect of conviction for offences - Prohibits the conviction of any person for any offence except for violation of a law in force at the time of the commission of the', metadata={'doc_id': '678fc468-039c-4e0a-bf50-fc927ac51d3a'}),\n",
              " Document(page_content=' This document outlines the various protections and freedoms granted to citizens of India by the Indian Constitution. It includes provisions for freedom of speech, expression, assembly, and movement, as well as the right to practice any profession or carry on any occupation, trade, or business. There are also protections against arbitrary detention and punishment, as well as the right to a fair trial and due process. The document also prohibits traffic in human beings and forced labor, and mandates free and compulsory education for all children between the ages of six and fourteen.', metadata={'doc_id': '65388eb1-ff39-41e0-96ff-5a9028ca3af7'}),\n",
              " Document(page_content=' This document outlines the protections and restrictions on individual rights in India. It includes provisions for freedom of speech, religion, and movement, as well as protections against discrimination and forced labor. It also includes a provision for the right to education and prohibits child labor in factories.', metadata={'doc_id': '5b72f94a-9fba-4c90-9161-d735b2ae30b2'}),\n",
              " Document(page_content=' This document outlines the various articles of the Constitution of India dealing with fundamental rights. Articles 18-21 deal with fundamental rights related to equality, while articles 22-24 deal with procedural and administrative rights. Articles 25-28 deal with cultural and economic rights, while articles 29-30 deal with the rights of minorities.', metadata={'doc_id': 'd12ac878-b5b2-42f0-8276-b9e21f7765a4'}),\n",
              " Document(page_content=' This document outlines the various freedoms and protections granted to citizens of India by the Indian Constitution. It includes articles on the abolition of titles, the right to freedom of speech and expression, the right to form associations or unions, the right to move freely throughout the territory of India, the right to reside and settle in any part of the territory of India, and the right to practice any profession, or to carry on any occupation, trade, or business.\\n\\nThere are also articles on the protection of certain rights regarding freedom of speech, the right to education, and the right to protection in respect of conviction for offenses. Additionally, there are articles on the protection of life and personal liberty, the prohibition of traffic in human beings and forced labor, and the prohibition of employment of children in factories, mines, or other hazardous employment.\\n\\nFurthermore, there are articles on the freedom of conscience and free profession, practice, and propagation of religion, the right to manage religious affairs, and the freedom as to payment of taxes. Finally, there are articles on the freedom to attend religious instruction or religious worship in certain educational institutions, and the protection of the interests of minorities.', metadata={'doc_id': '14ee6fea-cd06-42c6-8fb0-90f45e258606'}),\n",
              " Document(page_content=' This document outlines the various protections and freedoms guaranteed to citizens of India by the Constitution of India. \\n\\nAmong the many provisions, the document guarantees the right to freedom of speech and expression, the right to assemble peaceably and without arms, the right to form associations or unions, the right to move freely throughout the territory of India, the right to reside and settle in any part of the territory of India, and the right to practice any profession, or to carry on any occupation, trade or business. The document also protects against unreasonable search and seizure and prohibits excessive bail, and cruel, inhuman, or degrading treatment. \\n\\nAdditionally, the document guarantees the right to life and personal liberty, the right to education, and the right to protection against arrest and detention in certain cases. The document also prohibits traffic in human beings and forced labor and employment of children below the age of fourteen in factories or mines or other hazardous employment.', metadata={'doc_id': '6f2e4c36-5ba4-47f7-b30d-d8f746fc6b17'}),\n",
              " Document(page_content=' Article 18: Abolition of Titles\\nNo title, not being a military or academic distinction, shall be conferred by the State. No citizen of India shall accept any title from any foreign State. No person who is not a citizen of India shall, while he holds any office of profit or trust under the State, accept without the consent of the President any title from any foreign State. No person holding any office of profit or trust under the State shall, without the consent of the President, accept any present, emolument, or office of any kind from or under any foreign State. The President may, by rule, specify the titles which may be conferred by the State, the qualifications necessary for conferment of such titles, and the manner of their conferment.\\n\\nArticle 19: Protection of certain rights regarding freedom of speech, etc.\\nAll citizens shall have the right—\\n(a) to freedom of speech and expression;\\n(b) to assemble peaceably and without arms;\\n(c) to form associations or unions;\\n(d) to move freely throughout the territory of India;\\n(e) to reside and settle in any part of the territory of India; and\\n(f) to practice any profession, or to carry on any', metadata={'doc_id': 'b381bc3c-b9af-498b-b4f8-9e988663b1ee'}),\n",
              " Document(page_content=' This document details the protections and restrictions on individual freedoms in the Indian Constitution. It includes articles on the freedom of speech, the right to education, and the right to practice any profession or carry on any occupation. It also includes articles on the protection of certain rights in regard to convictions for offenses, protection of life and personal liberty, and protection against arrest and detention in certain cases.', metadata={'doc_id': '06611dfa-525a-42ee-83ce-f21b4daac661'}),\n",
              " Document(page_content=' Article 18: Abolition of Titles\\nNo title, not being a military or academic distinction, shall be conferred by the State. No citizen of India shall accept any title from any foreign State. No person who is not a citizen of India shall, while he holds any office of profit or trust under the State, accept without the consent of the President any title from any foreign State. No person holding any office of profit or trust under the State shall, without the consent of the President, accept any present, emolument, or office of any kind from or under any foreign State. The President may, by rule, specify the titles which may be conferred by the State, the qualifications necessary for conferment of such titles, and the manner of their conferment.\\n\\nArticle 19: Protection of certain rights regarding freedom of speech, etc.\\nAll citizens shall have the right—\\n(a) to freedom of speech and expression;\\n(b) to assemble peaceably and without arms;\\n(c) to form associations or unions;\\n(d) to move freely throughout the territory of India;\\n(e) to reside and settle in any part of the territory of India; and\\n(f) to practice any profession, or to carry on any', metadata={'doc_id': 'd4ba0b18-07f1-4a10-8bdc-a360bf43a768'}),\n",
              " Document(page_content=' This document outlines the various protections and freedoms guaranteed to citizens of India by the Constitution of India. It includes protections such as the right to freedom of speech and expression, the right to assemble peaceably and without arms, the right to form associations or unions, the right to move freely throughout the territory of India, the right to reside and settle in any part of the territory of India, and the right to practice any profession, or to carry on any occupation, trade, or business. It also includes protections against unfair prosecution and punishment, such as the right to be tried only for violations of laws in force at the time of the alleged offense, and the right to not be prosecuted or punished more than once for the same offense. It also guarantees the right to life and personal liberty, the right to education, and the right to protection against arrest and detention in certain cases.', metadata={'doc_id': '9c9654be-0615-4960-a84a-1a125be12714'}),\n",
              " Document(page_content=' This document outlines the various articles of the Constitution of India dealing with fundamental rights. Articles 18-21 deal with fundamental rights related to equality, while articles 22-24 deal with personal liberties. Articles 25-28 outline the rights to freedom of religion, and articles 29-30 focus on the protection of minorities.', metadata={'doc_id': 'ad7556f8-aac1-4696-b502-29c824ae5110'}),\n",
              " Document(page_content=' This document details the protections and freedoms of citizens in India, as outlined in the Constitution of India. It includes provisions for freedom of speech, expression, and religion, as well as protections against discrimination and unfair prosecution. Additionally, the document outlines the responsibilities of the state in providing education and healthcare to its citizens, and in protecting the rights of minorities.', metadata={'doc_id': '6a131dd9-5833-4a30-83ba-c5c0eef1662d'}),\n",
              " Document(page_content=' This document outlines the various articles of the Constitution of India that protect the rights of individuals and groups, including:\\n\\n- Article 18, which prohibits the conferring of titles by the state or acceptance of titles from foreign states, with certain exceptions.\\n- Article 19, which protects the freedom of speech, assembly, association, movement, residence, and profession, subject to certain restrictions.\\n- Article 20, which prohibits double jeopardy and compelled self-incrimination, and sets the maximum punishment for offenses.\\n- Article 21, which guarantees the right to life and personal liberty, and states that no person shall be deprived of these rights except according to the procedure established by law.\\n- Article 22, which outlines the procedure for arrest and detention, and states that no person shall be detained in custody without being informed of the grounds for arrest, and the right to consult and be defended by a legal practitioner of their choice.\\n- Article 23, which prohibits trafficking in human beings and forced labor, and states that any contravention of this provision shall be an offense punishable by law.\\n- Article 24, which prohibits the employment of children below the age of 14 in factories, mines, or other hazardous employment, with certain exceptions.\\n- Article 25, which guarantees the', metadata={'doc_id': '5c789f28-d7f0-4196-960e-521ba7a6ad54'}),\n",
              " Document(page_content=' This document outlines the various freedoms and protections granted to citizens of India by the Constitution of India. It includes protections for freedom of speech, expression, assembly, and movement, as well as the right to practice any profession, carry on any occupation, trade, or business. It also includes protections against unreasonable search and seizure and prohibits the use of torture or cruel, inhuman, or degrading treatment. Additionally, it provides for the right to a fair and speedy trial, prohibits double jeopardy, and requires that defendants be informed of the charges against them and be allowed to consult with legal counsel. The Constitution also guarantees the right to life and personal liberty, as well as the right to education and the prohibition of discrimination based on religion, race, caste, sex, or place of birth. It also requires the State to provide free and compulsory education to all children between the ages of 6 and 14. The Constitution also guarantees the right to practice and propagate any religion, as well as the right to manage religious affairs and the right to own and acquire property. It also prohibits traffic in human beings and forced labor and requires that children under the age of 14 not be employed in factories or mines or in any other hazardous employment.', metadata={'doc_id': 'ec5e20c7-248f-44e5-9626-2340ceb93293'}),\n",
              " Document(page_content=' This document outlines the various protections and freedoms granted to citizens of India by the Indian Constitution. It includes articles on the abolition of titles, freedom of speech and expression, freedom of movement, and the right to education. It also includes articles on the protection of certain rights in relation to convictions for offenses, protection of life and personal liberty, and prevention of traffic in human beings and forced labor.', metadata={'doc_id': 'df62e482-5a72-4467-bb69-a36eacc7643c'}),\n",
              " Document(page_content=' This document summarizes the various articles of the Constitution of India. It covers a wide range of topics, including the abolition of titles, protection of certain rights regarding freedom of speech, protection in respect of conviction for offences, protection of life and personal liberty, protection against arrest and detention in certain cases, prohibition of traffic in human beings and forced labor, prohibition of employment of children in factories, etc., freedom of conscience and free profession, practice, and propagation of religion, freedom to manage religious affairs, freedom as to payment of taxes, freedom as to attendance at religious instruction or religious worship in certain educational institutions, and protection of the interests of minorities.', metadata={'doc_id': '7123617a-f272-4937-ad7a-883f00666cd9'}),\n",
              " Document(page_content=' This document summarizes the articles of the Constitution of India that protect the rights of citizens. Article 18 prohibits the conferring of titles by the state or acceptance of titles from foreign states. Article 19 grants citizens the right to freedom of speech, expression, assembly, association, movement, residence, and profession. Article 20 protects citizens from being convicted of offenses or subjected to harsher punishment than what was applicable at the time of the commission of the offense. Article 21 guarantees the right to life and personal liberty, as well as the right to education. Article 22 outlines the procedure for arrest and detention, and prohibits the compulsion of witnesses and punishment beyond what was applicable at the time of the commission of the offense. Article 23 prohibits the traffic in human beings and forced labor. Article 24 prohibits the employment of children below the age of 14 in factories, mines, or other hazardous occupations. Article 25 grants freedom of conscience and the right to freely practice and propagate religion. Article 26 grants the right to manage religious affairs, own and acquire property, and administer such property in accordance with law. Article 27 prohibits the compulsion of citizens to pay taxes for the promotion or maintenance of any particular religion. Article 28 prohibits religious instruction in educational institutions wholly maintained out of state funds. Article 29 protects the interests', metadata={'doc_id': 'd77c129f-493d-4bfa-8ac5-5c1e1ede97a6'}),\n",
              " Document(page_content=\" This report summarizes the articles of the Constitution of India that protect the rights of citizens. Article 18 prohibits the conferring of titles by the state other than military or academic distinctions. It also prohibits citizens from accepting titles from foreign states. Article 19 guarantees the right to freedom of speech, expression, assembly, association, movement, residence, and profession. However, existing laws that impose reasonable restrictions on these rights in the interest of national security, friendly relations with foreign states, public order, decency, or morality may still be in effect. Article 20 provides that no person can be convicted of an offense other than violation of a law in force at the time of the offense's commission. It also prohibits punishing a person twice for the same offense and requires that a person be informed of the grounds for arrest. Article 21 guarantees the right to life and personal liberty, as well as the right to education. Article 22 requires that persons arrested be informed of the grounds for arrest and be allowed to consult and be defended by a legal practitioner of their choice. It also requires that persons arrested and detained in custody be produced before the nearest magistrate within 24 hours of arrest and that no such person be detained beyond that period without the authority of a magistrate. Article 23 prohibits traffic in human beings and forced labor\", metadata={'doc_id': '3e9e26d3-ee46-491e-8f86-0be25ef853c9'}),\n",
              " Document(page_content=' This document outlines the various freedoms and protections granted to citizens of India by the Indian Constitution. It includes provisions for freedom of speech, expression, and religion, as well as protections against discrimination and unfair prosecution. Additionally, the document outlines the rights of minorities and disadvantaged groups, such as women and children.', metadata={'doc_id': '97d7987b-7043-45d5-be1b-36f16e5b256e'}),\n",
              " Document(page_content=' This document outlines the various protections and freedoms guaranteed to citizens of India by the Constitution of India. \\n\\nArticle 18: Abolition of Titles. No title, not being a military or academic distinction, shall be conferred by the State. No citizen of India shall accept any title from any foreign State. No person who is not a citizen of India shall, while he holds any office of profit or trust under the State, accept without the consent of the President any title from any foreign State. No person holding any office of profit or trust under the State shall, without the consent of the President, accept any present, emolument, or office of any kind from or under any foreign State. The President may, by rule, specify the titles which may be conferred by the State, the qualifications necessary for conferment of such titles, and the manner of their conferment.\\n\\nArticle 19: Protection of certain rights regarding freedom of speech, etc. All citizens shall have the right—(a) to freedom of speech and expression;(b) to assemble peaceably and without arms;(c) to form associations or unions;(d) to move freely throughout the territory of India;(e) to reside and settle in any part of the territory of India;(f) to practice', metadata={'doc_id': '32290352-34cb-4bf8-9bc7-ca08314fad74'}),\n",
              " Document(page_content=' This document summarizes the rights of citizens and non-citizens of India, as set forth in the Constitution of India. It includes protections for freedom of speech, assembly, and movement, as well as the right to practice any profession, carry on any occupation, trade, or business. It also includes protections against unreasonable search and seizure, as well as the right to a fair trial. \\n\\nAdditionally, the document provides for the protection of certain rights regarding freedom of speech, etc. Specifically, all citizens shall have the right to freedom of speech and expression, to assemble peaceably and without arms, to form associations or unions, to move freely throughout the territory of India, to reside and settle in any part of the territory of India, and to practice any profession, or to carry on any occupation, trade or business.\\n\\nFurthermore, the document provides for the protection of certain rights in respect of conviction for offenses. No person shall be convicted of any offense except for violation of a law in force at the time of the commission of the act charged as an offense, nor be subjected to a penalty greater than that which might have been inflicted under the law in force at the time of the commission of the offense.', metadata={'doc_id': 'c698c3c0-4c9f-4320-82e8-5f3f27d6f5a3'}),\n",
              " Document(page_content=' Article 18 prohibits titles, with the exception of military or academic distinctions, from being conferred by the state. It also prohibits Indian citizens from accepting titles from foreign states. \\nArticle 19 establishes several rights for citizens, including the right to:\\n- freedom of speech and expression\\n- assemble peaceably and without arms\\n- form associations or unions\\n- move freely throughout the territory of India\\n- reside and settle in any part of the territory of India\\n- practice any profession, or carry on any occupation, trade, or business\\n- Article 20 establishes that no person shall be convicted of any offense except for violation of a law in force at the time of the commission of the act charged as an offense. It also provides that no person shall be subjected to a penalty greater than that which might have been inflicted under the law in force at the time of the commission of the offense. \\nArticle 21 establishes that no person shall be deprived of his life or personal liberty except according to the procedure established by law. It also establishes the right to education and prohibits discrimination against any citizen on grounds only of religion, race, caste, sex, place of birth, or any of them. \\nArticle 22 establishes that no person who is arrested shall be detained in custody without being', metadata={'doc_id': 'db7dba1f-17b5-4529-a788-89a7a833c264'}),\n",
              " Document(page_content=' This document details the protections and freedoms of citizens in India, as outlined in the Constitution of India. \\n\\nArticle 18: Abolition of Titles - No title, other than a military or academic distinction, shall be conferred by the State. No citizen of India shall accept any title from any foreign State. No person who is not a citizen of India shall, while he holds any office of profit or trust under the State, accept without the consent of the President any title from any foreign State. No person holding any office of profit or trust under the State shall, without the consent of the President, accept any present, emolument, or office of any kind from or under any foreign State. The President may, by rule, specify the titles which may be conferred by the State, the qualifications necessary for conferment of such titles, and the manner of their conferment.\\n\\nArticle 19: Protection of certain rights regarding freedom of speech, etc. - All citizens shall have the right—(a) to freedom of speech and expression; (b) to assemble peaceably and without arms; (c) to form associations or unions; (d) to move freely throughout the territory of India; (e) to reside and settle in any part of the territory of', metadata={'doc_id': '0b6d1f3f-f0bb-4451-b12f-b210f9f093a5'}),\n",
              " Document(page_content=' This document outlines the various articles of the Constitution of India that protect the rights of citizens. Article 18 prohibits the conferring of titles by the state or acceptance of titles from foreign states. Article 19 outlines the freedom of speech, expression, assembly, association, movement, residence, and profession. Article 20 protects citizens from being convicted of offenses or subjected to harsher penalties than those in force at the time of the commission of the offense. Article 21 ensures the protection of life and personal liberty, education, and prohibits discrimination against citizens. Article 22 outlines the rights of arrested and detained citizens, including the right to be informed of the grounds for arrest, the right to consult and be defended by a legal practitioner of their choice, and the right to be produced before a magistrate within 24 hours of arrest. Article 23 prohibits traffic in human beings and forced labor. Article 24 prohibits the employment of children below the age of 14 in factories, mines, or other hazardous employment. Article 25 ensures the freedom of conscience and the right to freely practice and propagate religion. Article 26 ensures the right of religious denominations to establish and maintain institutions for religious and charitable purposes, manage their own affairs in matters of religion, own and acquire property, and administer such property in accordance with law. Article 27 prohibits the compelled', metadata={'doc_id': '6056cd76-7fb5-4197-b1ba-fc985740fb4c'}),\n",
              " Document(page_content=' This document details the protections of various rights for citizens of India. It includes the right to freedom of speech, expression, and religion, as well as the right to education and the prohibition of forced labor.', metadata={'doc_id': '3e2075e9-f155-4680-91a7-3daaeb3ededa'})]"
            ]
          },
          "metadata": {},
          "execution_count": 88
        }
      ]
    },
    {
      "cell_type": "code",
      "source": [
        "retriever.vectorstore.add_documents(summary_docs)\n",
        "retriever.docstore.mset(list(zip(doc_ids, docs)))"
      ],
      "metadata": {
        "id": "L2YpGGRc3eil"
      },
      "execution_count": 89,
      "outputs": []
    },
    {
      "cell_type": "code",
      "source": [
        "sub_docs = vectorstore.similarity_search(\"Tell me about Article 29\")"
      ],
      "metadata": {
        "id": "r7zYjoD1-V_i"
      },
      "execution_count": 90,
      "outputs": []
    },
    {
      "cell_type": "code",
      "source": [
        "sub_docs[0]"
      ],
      "metadata": {
        "colab": {
          "base_uri": "https://localhost:8080/"
        },
        "id": "QYik4njCEEgp",
        "outputId": "28d7df03-b62c-498c-9285-c158646d159b"
      },
      "execution_count": 91,
      "outputs": [
        {
          "output_type": "execute_result",
          "data": {
            "text/plain": [
              "Document(page_content='Article 297: Things of value within territorial waters or continental shelf and resources of the exclusive economic zone to vest in the Union.\\nArticle 298: Power to carry on trade, etc.\\nArticle 299: Contracts.\\nArticle 300: Suits and proceedings.', metadata={'doc_id': '246a1d0b-497f-4a4b-aa57-663384c849b9', 'source': '/content/drive/MyDrive/Project_CILLM/colab_project/Constitution-Xpert using OpenAI Embeddings (1)/file_context_corpus_cleaned_extended_part3.txt'})"
            ]
          },
          "metadata": {},
          "execution_count": 91
        }
      ]
    },
    {
      "cell_type": "code",
      "source": [
        "retrieved_docs = retriever.get_relevant_documents(\"Tell me bout Article 29\")"
      ],
      "metadata": {
        "id": "KnA2WJ4Z-i22"
      },
      "execution_count": 92,
      "outputs": []
    },
    {
      "cell_type": "code",
      "source": [],
      "metadata": {
        "colab": {
          "base_uri": "https://localhost:8080/"
        },
        "id": "1gVNJ--jEIpK",
        "outputId": "c6076f49-aefe-4873-ea56-4484ae918a5c"
      },
      "execution_count": 93,
      "outputs": [
        {
          "output_type": "execute_result",
          "data": {
            "text/plain": [
              "[]"
            ]
          },
          "metadata": {},
          "execution_count": 93
        }
      ]
    },
    {
      "cell_type": "markdown",
      "source": [
        "### [Self Querying](https://python.langchain.com/docs/modules/data_connection/retrievers/self_query/)\n",
        "\n",
        "- A self-querying retriever is one that, as the name suggests, has the ability to query itself.\n",
        "-  Specifically, given any natural language query, the retriever uses a query-constructing LLM chain to write a structured query and then applies that structured query to it's underlying VectorStore.\n",
        "- This allows the retriever to not only use the user-input query for semantic similarity comparison with the contents of stored documented, but to also extract filters from the user query on the metadata of stored documents and to execute those filters."
      ],
      "metadata": {
        "id": "0pssBSF3fPxE"
      }
    },
    {
      "cell_type": "markdown",
      "source": [
        "### [WebResearchRetriever](https://python.langchain.com/docs/modules/data_connection/retrievers/web_research)\n",
        "\n",
        "Given a query, this retriever will:\n",
        "\n",
        "- Formulate a set of relate Google searches\n",
        "- Search for each\n",
        "- Load all the resulting URLs\n",
        "- Then embed and perform similarity search with the query on the consolidate page content"
      ],
      "metadata": {
        "id": "5I0LClgGe-Ev"
      }
    },
    {
      "cell_type": "code",
      "source": [],
      "metadata": {
        "id": "fFoaRMoxAbGK"
      },
      "execution_count": null,
      "outputs": []
    }
  ]
}