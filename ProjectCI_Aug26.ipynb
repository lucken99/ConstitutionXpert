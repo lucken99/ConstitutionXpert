{
  "nbformat": 4,
  "nbformat_minor": 0,
  "metadata": {
    "colab": {
      "provenance": [],
      "gpuType": "T4",
      "mount_file_id": "1lkOHANi_A0f8FSEMpekKjFrML7s7FPDX",
      "authorship_tag": "ABX9TyO7pt5Dig+T7qcY9YgGSaf1",
      "include_colab_link": true
    },
    "kernelspec": {
      "name": "python3",
      "display_name": "Python 3"
    },
    "language_info": {
      "name": "python"
    },
    "accelerator": "GPU"
  },
  "cells": [
    {
      "cell_type": "markdown",
      "metadata": {
        "id": "view-in-github",
        "colab_type": "text"
      },
      "source": [
        "<a href=\"https://colab.research.google.com/github/lucken99/ConstitutionXpert/blob/main/ProjectCI_Aug26.ipynb\" target=\"_parent\"><img src=\"https://colab.research.google.com/assets/colab-badge.svg\" alt=\"Open In Colab\"/></a>"
      ]
    },
    {
      "cell_type": "code",
      "source": [
        "# ## Install all required libraries\n",
        "# !pip install langchain\n",
        "# !pip install pypdf\n",
        "\n",
        "# !pip install pdfminer.six\n",
        "# # !pip install unstructured pdf2image  # for unstructured pdf loader (legacy)\n",
        "\n",
        "# !pip install tiktoken\n",
        "# !pip install sentence_transformers\n",
        "# !pip install chromadb"
      ],
      "metadata": {
        "id": "BgpefP-o6XBv"
      },
      "execution_count": null,
      "outputs": []
    },
    {
      "cell_type": "markdown",
      "source": [
        "# DATA"
      ],
      "metadata": {
        "id": "OjBrceNL1OZ9"
      }
    },
    {
      "cell_type": "markdown",
      "source": [
        "> We have text file which consists of paragraphs related to Indian Constitution for e.g., Articles, Schedules, etc.\n",
        "\n",
        ">"
      ],
      "metadata": {
        "id": "9Alt6gid1UoG"
      }
    },
    {
      "cell_type": "code",
      "source": [
        "# data path\n",
        "dir_path = \"/content/drive/MyDrive/Project_CILLM/db/\"\n",
        "text_file_path = \"/content/drive/MyDrive/Project_CILLM/db/file_context_corpus_cleaned_extended_part3.txt\"\n",
        "text_file_path = \"/content/drive/MyDrive/Project_CILLM/colab_project/Constitution-Xpert using OpenAI Embeddings (1)/file_context_corpus_cleaned_extended_part3.txt\"\n",
        "pdf_file_path = \"/content/drive/MyDrive/Project_CILLM/db/file_context_corpus_cleaned_extended_part3.pdf\"\n"
      ],
      "metadata": {
        "id": "5TlhFoKt5D3V"
      },
      "execution_count": 36,
      "outputs": []
    },
    {
      "cell_type": "code",
      "source": [
        "# utility function to load api keys from json file\n",
        "import json\n",
        "path_to_keys = \"/content/drive/MyDrive/Project_CILLM/Keys/keys.json\"\n",
        "def return_api_key(name):\n",
        "    with open(path_to_keys, 'r') as f:\n",
        "        json_data = json.load(f)\n",
        "        return json_data[name]"
      ],
      "metadata": {
        "id": "E4NvkzreAul5"
      },
      "execution_count": null,
      "outputs": []
    },
    {
      "cell_type": "markdown",
      "source": [
        "# RETRIEVAL\n"
      ],
      "metadata": {
        "id": "lJrYlQmfbc3o"
      }
    },
    {
      "cell_type": "markdown",
      "source": [
        "## [Document loaders](https://python.langchain.com/docs/modules/data_connection/document_loaders/)"
      ],
      "metadata": {
        "id": "pmjql4Pn6E4T"
      }
    },
    {
      "cell_type": "code",
      "source": [
        "# Text Loaders\n",
        "from langchain.document_loaders import TextLoader\n",
        "\n",
        "# PDF Loaders (try which suits us best)\n",
        "from langchain.document_loaders import PyPDFLoader\n",
        "from langchain.document_loaders import PyPDFDirectoryLoader\n",
        "# from langchain.document_loaders import MathpixPDFLoader\n",
        "from langchain.document_loaders import UnstructuredPDFLoader\n",
        "from langchain.document_loaders import PDFMinerPDFasHTMLLoader\n",
        "from langchain.document_loaders import AmazonTextractPDFLoader\n",
        "from langchain.document_loaders import OnlinePDFLoader\n",
        "\n",
        "loader_text = TextLoader(text_file_path)\n",
        "loader_pdf = PyPDFLoader(pdf_file_path)"
      ],
      "metadata": {
        "id": "wZdrSHYF6LPX"
      },
      "execution_count": 2,
      "outputs": []
    },
    {
      "cell_type": "code",
      "source": [
        "## utility function for document loaders information\n",
        "\n",
        "def loaded_doc_info(loader, show_loaded_data=False):\n",
        "    data = loader.load()\n",
        "    print(\"Type of the loader:\", type(loader))\n",
        "    print(\"Length of the data:\", len(data))\n",
        "    if show_loaded_data:\n",
        "        print(data)\n",
        "    return data\n",
        "\n",
        "\n"
      ],
      "metadata": {
        "id": "xyATwh2GB2tY"
      },
      "execution_count": 3,
      "outputs": []
    },
    {
      "cell_type": "code",
      "source": [
        "# loaded_doc_info(loader_text, show_loaded_data=True)\n",
        "text_data = loaded_doc_info(loader_text)"
      ],
      "metadata": {
        "colab": {
          "base_uri": "https://localhost:8080/"
        },
        "id": "3uU64OAz_3YW",
        "outputId": "2eabeeee-19f6-4f4c-ba7e-bdf046995870"
      },
      "execution_count": 4,
      "outputs": [
        {
          "output_type": "stream",
          "name": "stdout",
          "text": [
            "Type of the loader: <class 'langchain.document_loaders.text.TextLoader'>\n",
            "Length of the data: 1\n"
          ]
        }
      ]
    },
    {
      "cell_type": "code",
      "source": [
        "pdf_data = loaded_doc_info(loader_pdf)"
      ],
      "metadata": {
        "colab": {
          "base_uri": "https://localhost:8080/"
        },
        "id": "EalxDyqJHV8h",
        "outputId": "47457024-1f0d-4bda-d2c4-45572737fcc7"
      },
      "execution_count": 5,
      "outputs": [
        {
          "output_type": "stream",
          "name": "stdout",
          "text": [
            "Type of the loader: <class 'langchain.document_loaders.pdf.PyPDFLoader'>\n",
            "Length of the data: 178\n"
          ]
        }
      ]
    },
    {
      "cell_type": "code",
      "source": [
        "# # checking different pdf loader\n",
        "# loader = PDFMinerPDFasHTMLLoader(pdf_file_path)\n",
        "# data = loaded_doc_info(loader, True)"
      ],
      "metadata": {
        "id": "LvAi8Ws9AMHK"
      },
      "execution_count": 14,
      "outputs": []
    },
    {
      "cell_type": "markdown",
      "source": [
        "## [Document Transformers](https://python.langchain.com/docs/modules/data_connection/document_transformers/)"
      ],
      "metadata": {
        "id": "QnoPoGXYFIMP"
      }
    },
    {
      "cell_type": "code",
      "source": [
        "from langchain.text_splitter import CharacterTextSplitter\n",
        "from langchain.text_splitter import RecursiveCharacterTextSplitter\n",
        "from langchain.text_splitter import MarkdownHeaderTextSplitter  # we can split by parts in constitution using this splitter and add metadata for better search\n",
        "                                                                # first we have to add headers (for e.g., # or ##)\n",
        "\n",
        "# # Split by tokens\n",
        "# from langchain.text_splitter import TokenTextSplitter\n",
        "# from langchain.text_splitter import SpacyTextSplitter\n",
        "# from langchain.text_splitter import NLTKTextSplitter\n",
        "\n",
        "# !pip install tiktoken\n",
        "# good for OpenAI Models\n",
        "# text_splitter = CharacterTextSplitter.from_tiktoken_encoder(\n",
        "#     chunk_size=100, chunk_overlap=0\n",
        "# )\n",
        "\n",
        "# # Sentence Transformers token split\n",
        "# from langchain.text_splitter import SentenceTransformersTokenTextSplitter # for a particular sentence transformer\n",
        "\n",
        "# # Hugging face tokenizers\n",
        "# from transformers import GPT2TokenizerFast\n",
        "# tokenizer = GPT2TokenizerFast.from_pretrained(\"gpt2\")\n",
        "# text_splitter = CharacterTextSplitter.from_huggingface_tokenizer(\n",
        "#     tokenizer, chunk_size=100, chunk_overlap=0\n",
        "# )\n",
        "# texts = text_splitter.split_text(text)\n"
      ],
      "metadata": {
        "id": "Fmp1TBAPG6JD"
      },
      "execution_count": 6,
      "outputs": []
    },
    {
      "cell_type": "code",
      "source": [
        "def split_data(loader, splitter):\n",
        "    docs = loader.load_and_split(splitter)\n",
        "    print(\"Loader Type:\", type(loader))\n",
        "    print(\"Splitter Type:\", type(splitter))\n",
        "    print(\"Length of splitted data:\", len(docs))\n",
        "    return docs\n",
        "\n",
        "\n"
      ],
      "metadata": {
        "id": "zHGMmb19PywQ"
      },
      "execution_count": 7,
      "outputs": []
    },
    {
      "cell_type": "code",
      "source": [
        "# using openai's tiktoken for splitting data\n",
        "text_splitter = CharacterTextSplitter.from_tiktoken_encoder()\n",
        "docs_text = split_data(loader_text, text_splitter)\n",
        "docs_pdf = split_data(loader_pdf, text_splitter)"
      ],
      "metadata": {
        "colab": {
          "base_uri": "https://localhost:8080/"
        },
        "id": "pgKj3hfnEjOk",
        "outputId": "17298986-1b0b-4e3f-ba2b-c9d21ea5ddfa"
      },
      "execution_count": 8,
      "outputs": [
        {
          "output_type": "stream",
          "name": "stdout",
          "text": [
            "Loader Type: <class 'langchain.document_loaders.text.TextLoader'>\n",
            "Splitter Type: <class 'langchain.text_splitter.CharacterTextSplitter'>\n",
            "Length of splitted data: 31\n",
            "Loader Type: <class 'langchain.document_loaders.pdf.PyPDFLoader'>\n",
            "Splitter Type: <class 'langchain.text_splitter.CharacterTextSplitter'>\n",
            "Length of splitted data: 178\n"
          ]
        }
      ]
    },
    {
      "cell_type": "code",
      "source": [
        "# using RecursiveCharacterTextSplitter\n",
        "recur_splitter = RecursiveCharacterTextSplitter()\n",
        "docs_text = split_data(loader_text, recur_splitter)\n",
        "docs_pdf = split_data(loader_pdf, recur_splitter)"
      ],
      "metadata": {
        "colab": {
          "base_uri": "https://localhost:8080/"
        },
        "id": "r_dlvO-5RueP",
        "outputId": "1389d649-4eb5-4b63-b2b3-6d1b5a340e3e"
      },
      "execution_count": 9,
      "outputs": [
        {
          "output_type": "stream",
          "name": "stdout",
          "text": [
            "Loader Type: <class 'langchain.document_loaders.text.TextLoader'>\n",
            "Splitter Type: <class 'langchain.text_splitter.RecursiveCharacterTextSplitter'>\n",
            "Length of splitted data: 156\n",
            "Loader Type: <class 'langchain.document_loaders.pdf.PyPDFLoader'>\n",
            "Splitter Type: <class 'langchain.text_splitter.RecursiveCharacterTextSplitter'>\n",
            "Length of splitted data: 178\n"
          ]
        }
      ]
    },
    {
      "cell_type": "code",
      "source": [
        "docs_pdf[0]"
      ],
      "metadata": {
        "id": "D1Gdxg-cR0Oi"
      },
      "execution_count": null,
      "outputs": []
    },
    {
      "cell_type": "code",
      "source": [
        "char_splitter = CharacterTextSplitter(\n",
        "    separator = \"\\n\\n\",\n",
        "    # chunk_size = 1000,\n",
        "    # chunk_overlap  = 200,\n",
        "    # length_function = len,\n",
        "    is_separator_regex = False,\n",
        ")\n",
        "\n",
        "# char_splitter = CharacterTextSplitter(chunk_size=2000, chunk_overlap=500)\n",
        "\n",
        "docs_text = split_data(loader_text, char_splitter)\n",
        "docs_pdf = split_data(loader_pdf, char_splitter)\n"
      ],
      "metadata": {
        "colab": {
          "base_uri": "https://localhost:8080/"
        },
        "id": "VROD2RVCT1q7",
        "outputId": "e9b020ea-f65f-4052-f4f1-46493a00de28"
      },
      "execution_count": 10,
      "outputs": [
        {
          "output_type": "stream",
          "name": "stdout",
          "text": [
            "Loader Type: <class 'langchain.document_loaders.text.TextLoader'>\n",
            "Splitter Type: <class 'langchain.text_splitter.CharacterTextSplitter'>\n",
            "Length of splitted data: 156\n",
            "Loader Type: <class 'langchain.document_loaders.pdf.PyPDFLoader'>\n",
            "Splitter Type: <class 'langchain.text_splitter.CharacterTextSplitter'>\n",
            "Length of splitted data: 178\n"
          ]
        }
      ]
    },
    {
      "cell_type": "code",
      "source": [
        "docs = [doc.page_content for doc in docs_text]"
      ],
      "metadata": {
        "id": "HBWNbzN4sD49"
      },
      "execution_count": 11,
      "outputs": []
    },
    {
      "cell_type": "code",
      "source": [
        "docs[109]"
      ],
      "metadata": {
        "colab": {
          "base_uri": "https://localhost:8080/",
          "height": 400
        },
        "id": "nSL1G4fKsLam",
        "outputId": "704aeeec-9611-4de1-f14f-2268e64c6748"
      },
      "execution_count": 27,
      "outputs": [
        {
          "output_type": "execute_result",
          "data": {
            "text/plain": [
              "'Right to Freedom:\\nArticle 19: Protection of certain rights regarding freedom of speech, etc.\\nArticle 20: Protection in respect of conviction for offences.\\nArticle 21: Protection of life and personal liberty.\\nArticle 21A: Right to education\\nArticle 22: Protection against arrest and detention in certain cases.\\n\\nRight against Exploitation:\\nArticle 23: Prohibition of traffic in human beings and forced labour.\\nArticle 24: Prohibition of employment of children in factories, etc.\\n\\nRight to Freedom of Religion:\\nArticle 25: Freedom of conscience and free profession, practice and propagation of religion.\\nArticle 26: Freedom to manage religious affairs.\\nArticle 27: Freedom as to payment of taxes for promotion of any particular religion.\\nArticle 28: Freedom as to attendance at religious instruction or religious worship in certain educational institutions.\\n\\nCultural and Educational Rights:\\nArticle 29: Protection of interests of minorities.\\nArticle 30: Right of minorities to establish and administer educational institutions.\\nArticle 31: [Repealed].\\n\\nSaving of Certain Laws:\\nArticle 31A: Saving of Laws providing for the acquisition of estates, etc.\\nArticle 31B: Validation of certain Acts and Regulations.\\nArticle 31C: Saving of laws giving effect to certain directive principles.\\nArticle 31D: [Repealed].\\n\\nRight to Constitutional Remedies:\\nArticle 32: Remedies for enforcement of rights conferred by this Part.\\nArticle 32A: [Repealed.]\\nArticle 33: Power of Parliament to modify the rights conferred by this Part in their application to Forces, etc.\\nArticle 34: Restriction on rights conferred by this Part while martial law is in force in any area.\\nArticle 35: Legislation to give effect to the provisions of this Part.\\n\\nPART IV: DIRECTIVE PRINCIPLES OF STATE POLICY\\nArticle 36: Definition.\\nArticle 37: Application of the principles contained in this Part.\\nArticle 38: State to secure a social order for the promotion of the welfare of the people.\\nArticle 39: Certain principles of policy to be followed by the State.\\nArticle 39A: Equal justice and free legal aid.\\nArticle 40: The organisation of village panchayats.\\nArticle 41: Right to work, to education and to public assistance in certain cases.\\nArticle 42: Provision for just and humane conditions of work and maternity relief.\\nArticle 43: Living wage, etc., for workers.\\nArticle 43A: Participation of workers in the management of industries.\\nArticle 43B: Promotion of co-operative societies.\\nArticle 44: Uniform civil code for the citizens.\\nArticle 45: Provision for free and compulsory education for children.\\nArticle 46: Promotion of educational and economic interests of Scheduled Castes, Scheduled Tribes and other weaker sections.\\nArticle 47: Duty of the State to raise the level of nutrition and the standard of living and to improve public health.\\nArticle 48: The organisation of agriculture and animal husbandry.\\nArticle 48: A Protection and improvement of environment and safeguarding of forests and wildlife.\\nArticle 49: Protection of monuments and places and objects of national importance.\\nArticle 50: Separation of judiciary from the executive.\\nArticle 51: Promotion of international peace and security.\\n\\nPART IVA: FUNDAMENTAL DUTIES\\nArticle 51A: Fundamental duties.\\n\\nPART V: THE UNION:\\nCHAPTER I: THE EXECUTIVE\\n\\nThe President:\\nArticle 52: The President of India.\\nArticle 53: The executive power of the Union.\\nArticle 54: Election of President.\\nArticle 55: Manner of election of President.\\nArticle 56: Term of office of President.\\nArticle 57: Eligibility for re-election.\\nArticle 58: Qualifications for election as President.\\nArticle 59: Conditions of the President’s office.\\nArticle 60: Oath or affirmation by the President.\\nArticle 61: Procedure for impeachment of the President.\\nArticle 62: Time of holding the election to fill the vacancy in the office of President and the term of office of person elected to fill the casual vacancy.'"
            ],
            "application/vnd.google.colaboratory.intrinsic+json": {
              "type": "string"
            }
          },
          "metadata": {},
          "execution_count": 27
        }
      ]
    },
    {
      "cell_type": "code",
      "source": [
        "docs_text[0]\n"
      ],
      "metadata": {
        "colab": {
          "base_uri": "https://localhost:8080/"
        },
        "id": "XmSCpOYeWafq",
        "outputId": "c79018a2-fe52-4906-ac28-dc96c1411eb3"
      },
      "execution_count": 61,
      "outputs": [
        {
          "output_type": "execute_result",
          "data": {
            "text/plain": [
              "Document(page_content=\"CONSTITUTION OF INDIA:\\n\\nThe Constitution of India is the supreme law of India. The document lays down the framework that demarcates fundamental political code, structure, procedures, powers, and duties of government institutions and sets out fundamental rights, directive principles, and the duties of citizens. It is the longest written national constitution in the world.\\n\\nThe Constitution of India imparts constitutional supremacy (not parliamentary supremacy, since it was created by a constituent assembly rather than Parliament) and was adopted by its people with a declaration in its preamble.Parliament cannot override the constitution.\\n\\nThe Constitution was adopted by the Constituent Assembly of India on 26 November 1949 and became effective on 26 January 1950. The constitution replaced the Government of India Act 1935 as the country's fundamental governing document, and the Dominion of India became the Republic of India. To ensure constitutional autochthony, its framers repealed prior acts of the British parliament in Article 395. India celebrates its constitution on 26 January as Republic Day.\\n\\nThe constitution declares India a sovereign, socialist, secular, and democratic republic, assures its citizens justice, equality, and liberty, and endeavours to promote fraternity. The original 1950 constitution is preserved in a nitrogen-filled case at the Parliament House in New Delhi.\\n\\nThe Constitution of India or the Constitution of the Republic of India came in effect on January 26, 1950 and is the longest written constitution of any independent nation in the world. It contains 22 Parts 395 articles and 12 schedules. It has a total of 117,369 words in its English language version.\\n\\nHistory of the Constitution of India:\\nAt the end of World War II in Europe on May 9, 1945, a new government came to power in the United Kingdom. This government announced to convene a constituent drafting body in India. A team of ministers, called the Cabinet Mission, were sent to India to find solution to the question of India's independence.\\nThe Cabinet Mission discussed the framework and the procedure to be followed the drafting body. With India's independence, the Constituent Assembly became a fully sovereign body and they began the working from 9 December 1947.\\nThe Assembly had members belonging to different communities, regions and even from different political persuasions of India. Dr. Rajendra Prasad was the elected president and B.R. Ambedkar, the chairman of the Drafting Committee.\\nOver a period of 2 years, 11 months and 18 days, before submitting the final copy of the Constitution, the Constituent Assembly met for 166 days and the sessions were always open to the press and the public.\\n\\nFeatures of the Constitution of India:\\nIt has been extensively drawn from Western legal traditions in enunciation of the principles of liberal democracy. The principles of the Constitution reflect aspirants to end the inequities of traditional social relations and to enhance the social welfare of the population. Since the enactment, the constitution has always fostered for a steady concentrate of power to the central government, especially to Prime Minister Office (PMO).\\n\\nFeatures of the Indian Constitution:\\nThe Indian constitution is unique in its content and spirit. The salient features ofthe constitution are as follows:\\nLengthiest written Constitution\\nBlend of Rigidity and Flexibility\\nFederal system with unitary features\\nParliamentary form of Government\\nIndependent judiciary\\nSingle citizenship\\nEmergency provision\\n\\nStructure of the Indian Constitution:\\nThe Indian Constitution originally consisted of 395 Art, 22 parts, 8 Schedules. But after the Constitution 104th Amendment Act, 2003, the Indian Constitution Consists of 448 Art, 25 parts, 12 Schedules.\", metadata={'source': '/content/drive/MyDrive/Project_CILLM/colab_project/Constitution-Xpert using OpenAI Embeddings (1)/file_context_corpus_cleaned_extended_part3.txt'})"
            ]
          },
          "metadata": {},
          "execution_count": 61
        }
      ]
    },
    {
      "cell_type": "code",
      "source": [
        "# docs_pdf[0].page_content"
      ],
      "metadata": {
        "id": "OvSaSxsDU-Ru"
      },
      "execution_count": null,
      "outputs": []
    },
    {
      "cell_type": "code",
      "source": [
        "# print(docs_pdf[0].page_content.rstrip('\\n'))"
      ],
      "metadata": {
        "id": "zilnW8L3UeZt"
      },
      "execution_count": null,
      "outputs": []
    },
    {
      "cell_type": "markdown",
      "source": [
        "## Text Embedding models and chromadb Vectorstore\n",
        "[MTEB blog](https://huggingface.co/blog/mteb) <br>\n",
        "[MTEB](https://huggingface.co/spaces/mteb/leaderboard)"
      ],
      "metadata": {
        "id": "ER6i0-85UqwL"
      }
    },
    {
      "cell_type": "markdown",
      "source": [
        "### Chromadb VectorStore\n"
      ],
      "metadata": {
        "id": "1WT99JNfyAq3"
      }
    },
    {
      "cell_type": "code",
      "source": [
        "from langchain.vectorstores import Chroma\n"
      ],
      "metadata": {
        "id": "xRsZ-4_VyHfQ"
      },
      "execution_count": 12,
      "outputs": []
    },
    {
      "cell_type": "code",
      "source": [
        "# utility function for embeddings info\n",
        "\n",
        "def embeddings_info(embeddings):\n",
        "    print(\"Total Embeddings:\", len(embeddings))\n",
        "    print(\"Dimension:\", len(embeddings[0]))\n"
      ],
      "metadata": {
        "id": "VLKfVutytshL"
      },
      "execution_count": 13,
      "outputs": []
    },
    {
      "cell_type": "code",
      "source": [
        "# utility function for similarity search\n",
        "\n",
        "def return_similar_docs(db, query, k=4, show_docs=False):\n",
        "    docs = db.similarity_search_with_relevance_scores(query, k=k)\n",
        "    docs = sorted(docs, key=lambda x: -x[1])\n",
        "    if show_docs:\n",
        "        for doc in docs:\n",
        "            print(\"Text:\", doc[0].page_content)\n",
        "            print(\"Relevance Score:\", doc[1])\n",
        "            print(\"--\"*50)\n",
        "            print(\"--\"*50)\n",
        "    return docs"
      ],
      "metadata": {
        "id": "zMLnXd4x3KOz"
      },
      "execution_count": 35,
      "outputs": []
    },
    {
      "cell_type": "markdown",
      "source": [
        "### BGE Hugging face embeddings"
      ],
      "metadata": {
        "id": "HUNJ2TN-jhkH"
      }
    },
    {
      "cell_type": "code",
      "source": [
        "from langchain.embeddings import HuggingFaceBgeEmbeddings\n",
        "\n",
        "model_name = \"BAAI/bge-large-en\"\n",
        "model_kwargs = {'device': 'cuda'}\n",
        "encode_kwargs = {'normalize_embeddings': True}\n",
        "hf = HuggingFaceBgeEmbeddings(\n",
        "    model_name=model_name,\n",
        "    model_kwargs=model_kwargs,\n",
        "    encode_kwargs=encode_kwargs\n",
        ")"
      ],
      "metadata": {
        "id": "LOtmP_kUmaq6"
      },
      "execution_count": 14,
      "outputs": []
    },
    {
      "cell_type": "code",
      "source": [
        "# embeddings = hf.embed_documents(docs)\n",
        "# embeddings_info(embeddings)\n",
        "# sentence1 = \"Tell me about article 23\"\n",
        "# embedding1 = hf.embed_query(sentence1)\n",
        "# import numpy as np\n",
        "\n",
        "# dot_product = np.dot(embeddings, embedding1)\n",
        "# dot_product\n",
        "# np.argmax()"
      ],
      "metadata": {
        "id": "YUX28y8VpMN6"
      },
      "execution_count": 19,
      "outputs": []
    },
    {
      "cell_type": "code",
      "source": [
        "### Caching Embeddings using LocalFileStore\n",
        "from langchain.storage import LocalFileStore\n",
        "from langchain.embeddings import CacheBackedEmbeddings # Embeddings can be stored or temporarily cached to avoid needing to recompute them.\n",
        "\n",
        "fs = LocalFileStore(\"./cache/\")\n",
        "cached_embedder = CacheBackedEmbeddings.from_bytes_store(\n",
        "    hf, fs, namespace=hf.model_name\n",
        ")"
      ],
      "metadata": {
        "id": "jzCQlsvX0FVi"
      },
      "execution_count": 15,
      "outputs": []
    },
    {
      "cell_type": "code",
      "source": [
        "list(fs.yield_keys())"
      ],
      "metadata": {
        "colab": {
          "base_uri": "https://localhost:8080/"
        },
        "id": "AX4f3x7p1eZk",
        "outputId": "d6c591f2-aab2-40a6-d3c8-720d27bdd08e"
      },
      "execution_count": 16,
      "outputs": [
        {
          "output_type": "execute_result",
          "data": {
            "text/plain": [
              "[]"
            ]
          },
          "metadata": {},
          "execution_count": 16
        }
      ]
    },
    {
      "cell_type": "code",
      "source": [
        "### Create the vectorstore\n",
        "db = Chroma.from_documents(docs_text, cached_embedder)"
      ],
      "metadata": {
        "id": "YAvgg-h3p6a4"
      },
      "execution_count": 17,
      "outputs": []
    },
    {
      "cell_type": "code",
      "source": [
        "### check similar documents\n",
        "query = \"What is writs in constitution?\"\n",
        "retrived_docs = return_similar_docs(db, query, show_docs=False)"
      ],
      "metadata": {
        "id": "FahmaWQ0uOdA"
      },
      "execution_count": null,
      "outputs": []
    },
    {
      "cell_type": "code",
      "source": [],
      "metadata": {
        "id": "j7DDvAbVwDLc"
      },
      "execution_count": null,
      "outputs": []
    },
    {
      "cell_type": "code",
      "source": [],
      "metadata": {
        "colab": {
          "base_uri": "https://localhost:8080/"
        },
        "id": "lXyxhF_CwT9Z",
        "outputId": "5e21dfc2-0eec-485a-849e-34245819182d"
      },
      "execution_count": 26,
      "outputs": [
        {
          "output_type": "execute_result",
          "data": {
            "text/plain": [
              "109"
            ]
          },
          "metadata": {},
          "execution_count": 26
        }
      ]
    },
    {
      "cell_type": "code",
      "source": [],
      "metadata": {
        "id": "B3D2GhCdwo6B"
      },
      "execution_count": null,
      "outputs": []
    }
  ]
}